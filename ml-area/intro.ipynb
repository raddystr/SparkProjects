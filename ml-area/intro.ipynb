{
 "cells": [
  {
   "cell_type": "markdown",
   "metadata": {},
   "source": [
    "1. Supervised(given 'right answers')\n",
    "    * Regression\n",
    "        - Predict a number\n",
    "            *  y - > output -> target based on \n",
    "            * x -> input -> feature\n",
    "            * number of traingin examples -> m\n",
    "            * f(function -> model)\n",
    "            * 'y-hat' -> prediction(estimated value of y)\n",
    "            * b - bias\n",
    "            * w - weight\n",
    "            * ('y-hat' - y) == error\n",
    "        - infinitely possible outputs\n",
    "    * Classification\n",
    "        -  predict categories\n",
    "        -  small number of possible outputs\n",
    "2. Usupervised learning(algorithm find structure)\n",
    "    * clustering\n",
    "        - group similar data points together\n",
    "        -\n",
    "    * Anomaly detection\n",
    "        - find unusual data points \n",
    "    * dimensionality reduction\n",
    "        - compress data using fewer numbers\n",
    "    \n"
   ]
  },
  {
   "cell_type": "markdown",
   "metadata": {},
   "source": [
    "* Linear regression\n",
    "    * Training set -> set for training the model\n",
    "        * x -> input | feature\n",
    "        * Y -> output | target\n",
    "        * m -> number of training examples\n",
    "        * single training example -> (x,y)"
   ]
  },
  {
   "cell_type": "code",
   "execution_count": null,
   "metadata": {
    "vscode": {
     "languageId": "plaintext"
    }
   },
   "outputs": [],
   "source": []
  }
 ],
 "metadata": {
  "kernelspec": {
   "display_name": "Python 3",
   "language": "python",
   "name": "python3"
  },
  "language_info": {
   "codemirror_mode": {
    "name": "ipython",
    "version": 3
   },
   "file_extension": ".py",
   "mimetype": "text/x-python",
   "name": "python",
   "nbconvert_exporter": "python",
   "pygments_lexer": "ipython3",
   "version": "3.10.10"
  },
  "orig_nbformat": 4
 },
 "nbformat": 4,
 "nbformat_minor": 2
}
