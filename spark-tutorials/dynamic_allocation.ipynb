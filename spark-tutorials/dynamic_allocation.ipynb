{
 "cells": [
  {
   "cell_type": "code",
   "execution_count": 1,
   "metadata": {},
   "outputs": [
    {
     "name": "stderr",
     "output_type": "stream",
     "text": [
      "your 131072x1 screen size is bogus. expect trouble\n",
      "23/09/17 17:49:49 WARN Utils: Your hostname, ProBook resolves to a loopback address: 127.0.1.1; using 172.22.34.28 instead (on interface eth0)\n",
      "23/09/17 17:49:49 WARN Utils: Set SPARK_LOCAL_IP if you need to bind to another address\n",
      "Setting default log level to \"WARN\".\n",
      "To adjust logging level use sc.setLogLevel(newLevel). For SparkR, use setLogLevel(newLevel).\n",
      "23/09/17 17:49:51 WARN NativeCodeLoader: Unable to load native-hadoop library for your platform... using builtin-java classes where applicable\n",
      "23/09/17 17:49:52 WARN Utils: Service 'SparkUI' could not bind on port 4040. Attempting port 4041.\n"
     ]
    },
    {
     "data": {
      "text/html": [
       "\n",
       "            <div>\n",
       "                <p><b>SparkSession - in-memory</b></p>\n",
       "                \n",
       "        <div>\n",
       "            <p><b>SparkContext</b></p>\n",
       "\n",
       "            <p><a href=\"http://172.22.34.28:4041\">Spark UI</a></p>\n",
       "\n",
       "            <dl>\n",
       "              <dt>Version</dt>\n",
       "                <dd><code>v3.4.1</code></dd>\n",
       "              <dt>Master</dt>\n",
       "                <dd><code>spark://ProBook:7077</code></dd>\n",
       "              <dt>AppName</dt>\n",
       "                <dd><code>ResourceAllocationApp</code></dd>\n",
       "            </dl>\n",
       "        </div>\n",
       "        \n",
       "            </div>\n",
       "        "
      ],
      "text/plain": [
       "<pyspark.sql.session.SparkSession at 0x7f79a4266450>"
      ]
     },
     "execution_count": 1,
     "metadata": {},
     "output_type": "execute_result"
    }
   ],
   "source": [
    "from pyspark.sql import SparkSession\n",
    "from pyspark.sql.types import *\n",
    "from pyspark.sql.functions import *\n",
    "\n",
    "\n",
    "\n",
    "spark = (\n",
    "        SparkSession\n",
    "            .builder\n",
    "            .appName('ResourceAllocationApp')\n",
    "            .master('spark://ProBook:7077')\n",
    "            .config('spark.dynamicAllocation.enabled', 'true')\n",
    "            .config('spark.dynamicAllocation.shuffleTracking.enabled', 'true')\n",
    "\n",
    "            .config('spark.cores.max', '4')\n",
    "            .config('spark.executor.memory', '2g')\n",
    "            .config('spark.executor.cores', '2')\n",
    "\n",
    "            .config('spark.dynamicAllocation.minExecutors', '0')\n",
    "            .config('spark.dynamicAllocation.maxExecutors', '5')\n",
    "\n",
    "            .config('spark.dynamicAllocation.schedulerBacklogTimeout', '1s')\n",
    "            .config('spark.dynamicAllocation.executorIdleTimeout', '10s')\n",
    "            .config('spark.dynamicAllocation.cachedExecutorIdleTimeout', '10s')\n",
    "            \n",
    "            .getOrCreate()\n",
    "\n",
    "    )\n",
    "\n",
    "spark"
   ]
  }
 ],
 "metadata": {
  "kernelspec": {
   "display_name": "Python 3",
   "language": "python",
   "name": "python3"
  },
  "language_info": {
   "codemirror_mode": {
    "name": "ipython",
    "version": 3
   },
   "file_extension": ".py",
   "mimetype": "text/x-python",
   "name": "python",
   "nbconvert_exporter": "python",
   "pygments_lexer": "ipython3",
   "version": "3.11.2"
  },
  "orig_nbformat": 4
 },
 "nbformat": 4,
 "nbformat_minor": 2
}
