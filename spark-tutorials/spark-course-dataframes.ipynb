{
 "cells": [
  {
   "attachments": {},
   "cell_type": "markdown",
   "metadata": {},
   "source": [
    "DataFrames \n",
    "\n",
    "Built on top of RDDs\n",
    "\n",
    "    - In - memory, partitioned, rad-only & resilient \n",
    "\n",
    "Imposes a tabular structure on the data \n"
   ]
  },
  {
   "cell_type": "code",
   "execution_count": 116,
   "metadata": {},
   "outputs": [
    {
     "data": {
      "text/html": [
       "<style>pre {white-space: pre !important; }</style>"
      ],
      "text/plain": [
       "<IPython.core.display.HTML object>"
      ]
     },
     "metadata": {},
     "output_type": "display_data"
    }
   ],
   "source": [
    "from pyspark.sql import SparkSession\n",
    "import pyspark.sql.functions as F\n",
    "from pyspark.sql.types import IntegerType\n",
    "from IPython.display import *\n",
    "\n",
    "\n",
    "data_path = '../data/'\n",
    "display(HTML('<style>pre {white-space: pre !important; }</style>'))"
   ]
  },
  {
   "cell_type": "code",
   "execution_count": 117,
   "metadata": {},
   "outputs": [
    {
     "data": {
      "text/html": [
       "\n",
       "            <div>\n",
       "                <p><b>SparkSession - in-memory</b></p>\n",
       "                \n",
       "        <div>\n",
       "            <p><b>SparkContext</b></p>\n",
       "\n",
       "            <p><a href=\"http://172.22.34.28:4040\">Spark UI</a></p>\n",
       "\n",
       "            <dl>\n",
       "              <dt>Version</dt>\n",
       "                <dd><code>v3.4.1</code></dd>\n",
       "              <dt>Master</dt>\n",
       "                <dd><code>local[*]</code></dd>\n",
       "              <dt>AppName</dt>\n",
       "                <dd><code>SparkCourse</code></dd>\n",
       "            </dl>\n",
       "        </div>\n",
       "        \n",
       "            </div>\n",
       "        "
      ],
      "text/plain": [
       "<pyspark.sql.session.SparkSession at 0x7f869c036790>"
      ]
     },
     "execution_count": 117,
     "metadata": {},
     "output_type": "execute_result"
    }
   ],
   "source": [
    "spark = (\n",
    "    \n",
    "            SparkSession\n",
    "            .builder\n",
    "            .appName('SparkCourse') \n",
    "            .master('local[*]') \n",
    "            .config('spark.dynamicAllocation.enabled', 'false')\n",
    "            .config('spark.sql.adaptive.enabled', 'false')\n",
    "            .getOrCreate()\n",
    "    )\n",
    "\n",
    "sc = spark.sparkContext\n",
    "\n",
    "spark"
   ]
  },
  {
   "cell_type": "markdown",
   "metadata": {},
   "source": [
    "CREATE DF"
   ]
  },
  {
   "cell_type": "code",
   "execution_count": 118,
   "metadata": {},
   "outputs": [],
   "source": [
    "data = [\n",
    "    [1, 'Neha' ,10000],\n",
    "    [2, 'Steve', 20000],\n",
    "    [3, 'Kari', 30000],\n",
    "    [4, 'Ivan', 40000],\n",
    "    [5, 'Mohit', 50000],\n",
    "]\n",
    "    \n",
    "\n",
    "#RDD\n",
    "employees_rdd = sc.parallelize(data)"
   ]
  },
  {
   "cell_type": "code",
   "execution_count": 119,
   "metadata": {},
   "outputs": [],
   "source": [
    "#DF\n",
    "employees_df =  employees_rdd.toDF(['id', 'name', 'salary'])"
   ]
  },
  {
   "cell_type": "code",
   "execution_count": 120,
   "metadata": {},
   "outputs": [
    {
     "name": "stdout",
     "output_type": "stream",
     "text": [
      "+---+-----+------+\n",
      "| id| name|salary|\n",
      "+---+-----+------+\n",
      "|  1| Neha| 10000|\n",
      "|  2|Steve| 20000|\n",
      "|  3| Kari| 30000|\n",
      "|  4| Ivan| 40000|\n",
      "|  5|Mohit| 50000|\n",
      "+---+-----+------+\n",
      "\n"
     ]
    }
   ],
   "source": [
    "employees_df = (spark\n",
    "                    .createDataFrame\n",
    "                    (\n",
    "                        data,\n",
    "                        \"id: long, name: string, salary: long\"\n",
    "                    ))\n",
    "\n",
    "employees_df.show()"
   ]
  },
  {
   "cell_type": "markdown",
   "metadata": {},
   "source": [
    "READ DATA"
   ]
  },
  {
   "cell_type": "code",
   "execution_count": 122,
   "metadata": {},
   "outputs": [],
   "source": [
    "taxi_cabs_df = spark.read.option('header', 'true').csv( data_path + 'Cabs.csv')"
   ]
  },
  {
   "cell_type": "markdown",
   "metadata": {},
   "source": [
    "AGGREGATION"
   ]
  },
  {
   "cell_type": "code",
   "execution_count": 123,
   "metadata": {},
   "outputs": [],
   "source": [
    "cabs_by_ws_df = taxi_cabs_df.groupBy('Website').count()"
   ]
  },
  {
   "cell_type": "code",
   "execution_count": 124,
   "metadata": {},
   "outputs": [
    {
     "name": "stdout",
     "output_type": "stream",
     "text": [
      "+--------------------+-----+\n",
      "|             Website|count|\n",
      "+--------------------+-----+\n",
      "|WWW.ECONOMYCARSER...|    2|\n",
      "|    WWW.AREASTWO.COM|    6|\n",
      "|WWW.ACCREDITEDLIM...|    1|\n",
      "|     WWW.VRWWINC.COM|    2|\n",
      "|     WWW.CAR8888.COM|   57|\n",
      "|         ZWEINYC.COM|   52|\n",
      "|NEWTOENPRIVATECAR...|    1|\n",
      "|WWW.CAPRICECARSER...|   17|\n",
      "|      PARADALIMO.COM|    3|\n",
      "|WWW.NYINSURANCEB.COM|   18|\n",
      "+--------------------+-----+\n",
      "only showing top 10 rows\n",
      "\n"
     ]
    }
   ],
   "source": [
    "cabs_by_ws_df.show(10)"
   ]
  },
  {
   "cell_type": "code",
   "execution_count": 125,
   "metadata": {},
   "outputs": [],
   "source": [
    "cabs_by_ws_df_filtered = cabs_by_ws_df.where('Website==\"ZWEINYC.COM\"')"
   ]
  },
  {
   "cell_type": "code",
   "execution_count": 126,
   "metadata": {},
   "outputs": [
    {
     "name": "stdout",
     "output_type": "stream",
     "text": [
      "+-----------+-----+\n",
      "|Website    |count|\n",
      "+-----------+-----+\n",
      "|ZWEINYC.COM|52   |\n",
      "+-----------+-----+\n",
      "\n"
     ]
    }
   ],
   "source": [
    "cabs_by_ws_df_filtered.show(10, truncate=False)"
   ]
  },
  {
   "cell_type": "code",
   "execution_count": 127,
   "metadata": {},
   "outputs": [
    {
     "name": "stderr",
     "output_type": "stream",
     "text": [
      "                                                                                \r"
     ]
    }
   ],
   "source": [
    "yellow_taxi_df = (\n",
    "    spark\n",
    "        .read\n",
    "        .option('header', 'true')\n",
    "        .option('inferSchema', 'true')\n",
    "        .csv(path=(data_path \n",
    "            + 'YellowTaxis_202210.csv'))\n",
    "            \n",
    ")"
   ]
  },
  {
   "cell_type": "markdown",
   "metadata": {},
   "source": [
    "\n",
    "CREATE SCHEMA:\n",
    "\n",
    "prod - manually  \n",
    "test - infer(dynamic) \n",
    "\n",
    "    (StructType([\\\n",
    "        StructField('name', Type(), Nullable),\\\n",
    "        ....\\\n",
    "    ]))\n",
    "\n"
   ]
  },
  {
   "cell_type": "code",
   "execution_count": 129,
   "metadata": {},
   "outputs": [],
   "source": [
    "yellow_taxi_df = (\n",
    "    yellow_taxi_df\n",
    "        .where('passenger_count > 0')\n",
    "        .filter(F.col('trip_distance') > 0.0)\n",
    ")"
   ]
  },
  {
   "cell_type": "markdown",
   "metadata": {},
   "source": [
    "QUICK ANALYZE"
   ]
  },
  {
   "cell_type": "code",
   "execution_count": 130,
   "metadata": {},
   "outputs": [],
   "source": [
    "yellow_taxi__analyze_df = (\n",
    "    yellow_taxi_df.describe(\n",
    "        'passenger_count',\n",
    "        'trip_distance'\n",
    "    ))"
   ]
  },
  {
   "cell_type": "markdown",
   "metadata": {},
   "source": [
    "DROP NA"
   ]
  },
  {
   "cell_type": "code",
   "execution_count": 81,
   "metadata": {},
   "outputs": [],
   "source": [
    "yellow_taxi_df = yellow_taxi_df.na.drop('all')"
   ]
  },
  {
   "cell_type": "markdown",
   "metadata": {},
   "source": [
    "FILL NA"
   ]
  },
  {
   "cell_type": "code",
   "execution_count": 82,
   "metadata": {},
   "outputs": [],
   "source": [
    "default_value_map = {\n",
    "    'payment_type': 5,\n",
    "    'RateCodeID': 1 \n",
    "}\n",
    "\n",
    "yellow_taxi_df = yellow_taxi_df.na.fill(default_value_map)"
   ]
  },
  {
   "cell_type": "code",
   "execution_count": 83,
   "metadata": {},
   "outputs": [
    {
     "name": "stdout",
     "output_type": "stream",
     "text": [
      "root\n",
      " |-- VendorID: integer (nullable = true)\n",
      " |-- tpep_pickup_datetime: timestamp (nullable = true)\n",
      " |-- tpep_dropoff_datetime: timestamp (nullable = true)\n",
      " |-- passenger_count: double (nullable = true)\n",
      " |-- trip_distance: double (nullable = true)\n",
      " |-- RatecodeID: double (nullable = false)\n",
      " |-- store_and_fwd_flag: string (nullable = true)\n",
      " |-- PULocationID: integer (nullable = true)\n",
      " |-- DOLocationID: integer (nullable = true)\n",
      " |-- payment_type: integer (nullable = false)\n",
      " |-- fare_amount: double (nullable = true)\n",
      " |-- extra: double (nullable = true)\n",
      " |-- mta_tax: double (nullable = true)\n",
      " |-- tip_amount: double (nullable = true)\n",
      " |-- tolls_amount: double (nullable = true)\n",
      " |-- improvement_surcharge: double (nullable = true)\n",
      " |-- total_amount: double (nullable = true)\n",
      " |-- congestion_surcharge: double (nullable = true)\n",
      " |-- airport_fee: double (nullable = true)\n",
      "\n"
     ]
    }
   ],
   "source": [
    "yellow_taxi_df.printSchema()"
   ]
  },
  {
   "cell_type": "code",
   "execution_count": 84,
   "metadata": {},
   "outputs": [],
   "source": [
    "yellow_taxi_df = yellow_taxi_df.where(\n",
    "    \"tpep_pickup_datetime >= '2022-10-01' AND tpep_dropoff_datetime < '2022-11-01' \"\n",
    ")"
   ]
  },
  {
   "cell_type": "code",
   "execution_count": 85,
   "metadata": {},
   "outputs": [
    {
     "name": "stderr",
     "output_type": "stream",
     "text": [
      "                                                                                \r"
     ]
    },
    {
     "data": {
      "text/plain": [
       "3414348"
      ]
     },
     "execution_count": 85,
     "metadata": {},
     "output_type": "execute_result"
    }
   ],
   "source": [
    "yellow_taxi_df.count()"
   ]
  },
  {
   "cell_type": "markdown",
   "metadata": {},
   "source": [
    "TRANSFORMATIONS"
   ]
  },
  {
   "cell_type": "code",
   "execution_count": 86,
   "metadata": {},
   "outputs": [],
   "source": [
    "yellow_taxi_df = (\n",
    "    yellow_taxi_df.select(\n",
    "        'VendorID',\n",
    "        F.col('passenger_count').cast(IntegerType()),\n",
    "        F.column('trip_distance').alias('tripDistrance'),\n",
    "        yellow_taxi_df.tpep_pickup_datetime,\n",
    "        'tpep_dropoff_datetime',\n",
    "        'PULocationID',\n",
    "        'DOLocationID',\n",
    "        'RatecodeID',\n",
    "        'total_amount',\n",
    "        'payment_type'\n",
    "    )\n",
    ")"
   ]
  },
  {
   "cell_type": "code",
   "execution_count": 114,
   "metadata": {},
   "outputs": [],
   "source": [
    "yellow_taxi_df = (\n",
    "    yellow_taxi_df.withColumn('TripYear', F.year(F.col('tpep_pickup_datetime')))\n",
    "    .select(\n",
    "        '*',\n",
    "        F.expr('month(tpep_pickup_datetime) AS TripMonth'),\n",
    "        F.dayofmonth(F.col('tpep_pickup_datetime')).alias('Tripday')\n",
    "    )\n",
    ")\n"
   ]
  },
  {
   "cell_type": "code",
   "execution_count": 115,
   "metadata": {},
   "outputs": [
    {
     "name": "stdout",
     "output_type": "stream",
     "text": [
      "+--------+--------------------+---------------------+---------------+-------------+----------+------------------+------------+------------+------------+-----------+-----+-------+----------+------------+---------------------+------------+--------------------+-----------+--------+---------+-------+\n",
      "|VendorID|tpep_pickup_datetime|tpep_dropoff_datetime|passenger_count|trip_distance|RatecodeID|store_and_fwd_flag|PULocationID|DOLocationID|payment_type|fare_amount|extra|mta_tax|tip_amount|tolls_amount|improvement_surcharge|total_amount|congestion_surcharge|airport_fee|TripYear|TripMonth|Tripday|\n",
      "+--------+--------------------+---------------------+---------------+-------------+----------+------------------+------------+------------+------------+-----------+-----+-------+----------+------------+---------------------+------------+--------------------+-----------+--------+---------+-------+\n",
      "|1       |2022-10-01 03:03:41 |2022-10-01 03:18:39  |1.0            |1.7          |1.0       |N                 |249         |107         |1           |9.5        |3.0  |0.5    |2.65      |0.0         |0.3                  |15.95       |2.5                 |0.0        |2022    |10       |1      |\n",
      "|2       |2022-10-01 03:14:30 |2022-10-01 03:19:48  |2.0            |0.72         |1.0       |N                 |151         |238         |2           |5.5        |0.5  |0.5    |0.0       |0.0         |0.3                  |9.3         |2.5                 |0.0        |2022    |10       |1      |\n",
      "|2       |2022-10-01 03:27:13 |2022-10-01 03:37:41  |1.0            |1.74         |1.0       |N                 |238         |166         |1           |9.0        |0.5  |0.5    |2.06      |0.0         |0.3                  |12.36       |0.0                 |0.0        |2022    |10       |1      |\n",
      "|1       |2022-10-01 03:32:53 |2022-10-01 03:38:55  |0.0            |1.3          |1.0       |N                 |142         |239         |1           |6.5        |3.0  |0.5    |2.05      |0.0         |0.3                  |12.35       |2.5                 |0.0        |2022    |10       |1      |\n",
      "|1       |2022-10-01 03:44:55 |2022-10-01 03:50:21  |0.0            |1.0          |1.0       |N                 |238         |166         |1           |6.0        |0.5  |0.5    |1.8       |0.0         |0.3                  |9.1         |0.0                 |0.0        |2022    |10       |1      |\n",
      "|1       |2022-10-01 03:22:52 |2022-10-01 03:52:14  |1.0            |6.8          |1.0       |Y                 |186         |41          |2           |25.5       |3.0  |0.5    |0.0       |0.0         |0.3                  |29.3        |2.5                 |0.0        |2022    |10       |1      |\n",
      "|2       |2022-10-01 03:33:19 |2022-10-01 03:44:51  |3.0            |1.88         |1.0       |N                 |162         |145         |2           |10.5       |0.5  |0.5    |0.0       |0.0         |0.3                  |14.3        |2.5                 |0.0        |2022    |10       |1      |\n",
      "|1       |2022-10-01 03:02:42 |2022-10-01 03:50:01  |1.0            |12.2         |1.0       |N                 |100         |22          |1           |41.0       |3.0  |0.5    |3.0       |0.0         |0.3                  |47.8        |2.5                 |0.0        |2022    |10       |1      |\n",
      "|2       |2022-10-01 03:06:35 |2022-10-01 03:24:38  |1.0            |7.79         |1.0       |N                 |138         |112         |1           |23.5       |0.5  |0.5    |4.96      |0.0         |0.3                  |31.01       |0.0                 |1.25       |2022    |10       |1      |\n",
      "|2       |2022-10-01 03:29:25 |2022-10-01 03:43:15  |1.0            |4.72         |1.0       |N                 |145         |75          |1           |14.5       |0.5  |0.5    |1.5       |0.0         |0.3                  |19.8        |2.5                 |0.0        |2022    |10       |1      |\n",
      "+--------+--------------------+---------------------+---------------+-------------+----------+------------------+------------+------------+------------+-----------+-----+-------+----------+------------+---------------------+------------+--------------------+-----------+--------+---------+-------+\n",
      "only showing top 10 rows\n",
      "\n"
     ]
    }
   ],
   "source": [
    "yellow_taxi_df.show(10, truncate=False)"
   ]
  },
  {
   "cell_type": "code",
   "execution_count": 96,
   "metadata": {},
   "outputs": [],
   "source": [
    "trip_time_in_second = F.unix_timestamp(F.col('tpep_dropoff_datetime')) - F.unix_timestamp(F.col('tpep_pickup_datetime'))\n",
    "\n",
    "trip_time_in_minutes = F.round(trip_time_in_second)/60\n",
    "\n",
    "yellow_taxi_df = (\n",
    "    yellow_taxi_df.withColumn('TripTimeMinutes', trip_time_in_minutes)\n",
    ")"
   ]
  },
  {
   "cell_type": "code",
   "execution_count": 97,
   "metadata": {},
   "outputs": [
    {
     "name": "stdout",
     "output_type": "stream",
     "text": [
      "+--------+---------------+-------------+--------------------+---------------------+------------+------------+----------+------------+------------+--------+---------+-------+------------------+\n",
      "|VendorID|passenger_count|tripDistrance|tpep_pickup_datetime|tpep_dropoff_datetime|PULocationID|DOLocationID|RatecodeID|total_amount|payment_type|TripYear|TripMonth|Tripday|TripTimeMinutes   |\n",
      "+--------+---------------+-------------+--------------------+---------------------+------------+------------+----------+------------+------------+--------+---------+-------+------------------+\n",
      "|1       |1              |1.7          |2022-10-01 03:03:41 |2022-10-01 03:18:39  |249         |107         |1.0       |15.95       |1           |2022    |10       |1      |14.966666666666667|\n",
      "|2       |2              |0.72         |2022-10-01 03:14:30 |2022-10-01 03:19:48  |151         |238         |1.0       |9.3         |2           |2022    |10       |1      |5.3               |\n",
      "|2       |1              |1.74         |2022-10-01 03:27:13 |2022-10-01 03:37:41  |238         |166         |1.0       |12.36       |1           |2022    |10       |1      |10.466666666666667|\n",
      "|1       |1              |6.8          |2022-10-01 03:22:52 |2022-10-01 03:52:14  |186         |41          |1.0       |29.3        |2           |2022    |10       |1      |29.366666666666667|\n",
      "|2       |3              |1.88         |2022-10-01 03:33:19 |2022-10-01 03:44:51  |162         |145         |1.0       |14.3        |2           |2022    |10       |1      |11.533333333333333|\n",
      "|1       |1              |12.2         |2022-10-01 03:02:42 |2022-10-01 03:50:01  |100         |22          |1.0       |47.8        |1           |2022    |10       |1      |47.31666666666667 |\n",
      "|2       |1              |7.79         |2022-10-01 03:06:35 |2022-10-01 03:24:38  |138         |112         |1.0       |31.01       |1           |2022    |10       |1      |18.05             |\n",
      "|2       |1              |4.72         |2022-10-01 03:29:25 |2022-10-01 03:43:15  |145         |75          |1.0       |19.8        |1           |2022    |10       |1      |13.833333333333334|\n",
      "|1       |1              |8.8          |2022-10-01 03:01:55 |2022-10-01 03:20:16  |138         |236         |1.0       |43.24       |1           |2022    |10       |1      |18.35             |\n",
      "|1       |1              |8.6          |2022-10-01 03:27:48 |2022-10-01 03:59:50  |140         |36          |1.0       |39.3        |1           |2022    |10       |1      |32.03333333333333 |\n",
      "+--------+---------------+-------------+--------------------+---------------------+------------+------------+----------+------------+------------+--------+---------+-------+------------------+\n",
      "only showing top 10 rows\n",
      "\n"
     ]
    }
   ],
   "source": [
    "yellow_taxi_df.show(10, truncate=False)"
   ]
  },
  {
   "cell_type": "markdown",
   "metadata": {},
   "source": [
    "    -*unix_timestamp returns second"
   ]
  },
  {
   "cell_type": "code",
   "execution_count": 106,
   "metadata": {},
   "outputs": [],
   "source": [
    "trip_type_column = (\n",
    "    F.when(\n",
    "        F.col('RatecodeID') == 6,\n",
    "        'SharedTrip'\n",
    "    ).otherwise('SoloTrip')\n",
    ")\n",
    "\n",
    "yellow_taxi_df = (\n",
    "    yellow_taxi_df.withColumn('TripType', trip_type_column)\n",
    ")"
   ]
  },
  {
   "cell_type": "markdown",
   "metadata": {},
   "source": [
    "FUNC OVERVIEW \\\n",
    "    Date & TIME  \n",
    "        - date_add, date_fromat, next_day, to_date \\\n",
    "        - current_timestamp, to_timestamp  \\\n",
    "    Mathematical  \n",
    "        - round, ceil, floor, log, sqrt \\\n",
    "    String \\\n",
    "        - lower, upper, length, substring, trim, split \\\n",
    "    Array \\\n",
    "        - concat, array_contains, array_join, filter, explode \\\n",
    "    More \\\n",
    "        - when, least, greatest, isnull\n"
   ]
  },
  {
   "cell_type": "code",
   "execution_count": null,
   "metadata": {},
   "outputs": [],
   "source": []
  },
  {
   "cell_type": "code",
   "execution_count": 107,
   "metadata": {},
   "outputs": [
    {
     "name": "stderr",
     "output_type": "stream",
     "text": [
      "[Stage 82:===================>                                      (1 + 2) / 3]\r"
     ]
    },
    {
     "name": "stdout",
     "output_type": "stream",
     "text": [
      "+--------+---------------+-------------+--------------------+---------------------+------------+------------+----------+------------+------------+--------+---------+-------+-------------------+----------+\n",
      "|VendorID|passenger_count|tripDistrance|tpep_pickup_datetime|tpep_dropoff_datetime|PULocationID|DOLocationID|RatecodeID|total_amount|payment_type|TripYear|TripMonth|Tripday|    TripTimeMinutes|  TripType|\n",
      "+--------+---------------+-------------+--------------------+---------------------+------------+------------+----------+------------+------------+--------+---------+-------+-------------------+----------+\n",
      "|       1|              1|          0.2| 2022-10-01 23:26:48|  2022-10-01 23:27:11|         138|         138|       6.0|         6.3|           2|    2022|       10|      1|0.38333333333333336|SharedTrip|\n",
      "|       2|              1|         0.02| 2022-10-04 01:00:19|  2022-10-04 01:00:27|         181|          97|       6.0|        -6.3|           4|    2022|       10|      4|0.13333333333333333|SharedTrip|\n",
      "|       2|              1|         0.02| 2022-10-04 01:00:19|  2022-10-04 01:00:27|         181|          97|       6.0|         6.3|           4|    2022|       10|      4|0.13333333333333333|SharedTrip|\n",
      "|       2|              4|         0.53| 2022-10-04 15:38:28|  2022-10-04 15:51:12|         161|         161|       6.0|        5.05|           2|    2022|       10|      4| 12.733333333333333|SharedTrip|\n",
      "|       2|              2|          0.4| 2022-10-12 16:01:48|  2022-10-12 16:04:28|          68|         100|       6.0|         8.3|           2|    2022|       10|     12| 2.6666666666666665|SharedTrip|\n",
      "|       1|              1|         20.0| 2022-10-16 18:31:06|  2022-10-16 18:31:21|         132|         132|       6.0|        4.55|           3|    2022|       10|     16|               0.25|SharedTrip|\n",
      "|       2|              1|         0.18| 2022-10-22 15:33:10|  2022-10-22 15:36:15|         211|         211|       6.0|        9.05|           1|    2022|       10|     22| 3.0833333333333335|SharedTrip|\n",
      "|       2|              3|         0.77| 2022-10-22 16:23:38|  2022-10-22 16:28:30|         125|         113|       6.0|        7.05|           2|    2022|       10|     22|  4.866666666666666|SharedTrip|\n",
      "|       1|              1|          0.1| 2022-10-23 08:10:47|  2022-10-23 08:10:57|         132|         132|       6.0|        5.55|           3|    2022|       10|     23|0.16666666666666666|SharedTrip|\n",
      "|       2|              1|         0.09| 2022-10-23 20:30:19|  2022-10-23 20:31:46|          48|         230|       6.0|        7.05|           2|    2022|       10|     23|               1.45|SharedTrip|\n",
      "|       2|              1|         0.14| 2022-10-24 00:34:17|  2022-10-24 00:35:37|         100|         164|       6.0|       12.06|           1|    2022|       10|     24| 1.3333333333333333|SharedTrip|\n",
      "|       1|              1|          0.4| 2022-10-26 04:13:30|  2022-10-26 04:14:10|         130|         130|       6.0|         4.3|           4|    2022|       10|     26| 0.6666666666666666|SharedTrip|\n",
      "|       1|              3|          0.6| 2022-10-27 00:58:13|  2022-10-27 01:03:54|         234|         137|       6.0|         3.3|           2|    2022|       10|     27|  5.683333333333334|SharedTrip|\n",
      "+--------+---------------+-------------+--------------------+---------------------+------------+------------+----------+------------+------------+--------+---------+-------+-------------------+----------+\n",
      "\n"
     ]
    },
    {
     "name": "stderr",
     "output_type": "stream",
     "text": [
      "                                                                                \r"
     ]
    }
   ],
   "source": [
    "yellow_taxi_df.where('TripType != \"SoloTrip\"').show()"
   ]
  },
  {
   "cell_type": "markdown",
   "metadata": {},
   "source": [
    "CHECK EXECUTION PLANS"
   ]
  },
  {
   "cell_type": "code",
   "execution_count": 109,
   "metadata": {},
   "outputs": [
    {
     "name": "stdout",
     "output_type": "stream",
     "text": [
      "== Parsed Logical Plan ==\n",
      "'Project [VendorID#1890, passenger_count#2090, tripDistrance#2089, tpep_pickup_datetime#1891, tpep_dropoff_datetime#1892, PULocationID#1897, DOLocationID#1898, RatecodeID#2025, total_amount#1906, payment_type#2026, TripYear#2101, TripMonth#2113, Tripday#2114, TripTimeMinutes#2293, CASE WHEN ('RatecodeID = 6) THEN SharedTrip ELSE SoloTrip END AS TripType#2576]\n",
      "+- Project [VendorID#1890, passenger_count#2090, tripDistrance#2089, tpep_pickup_datetime#1891, tpep_dropoff_datetime#1892, PULocationID#1897, DOLocationID#1898, RatecodeID#2025, total_amount#1906, payment_type#2026, TripYear#2101, TripMonth#2113, Tripday#2114, TripTimeMinutes#2293, CASE WHEN (VendorID#1890 = 6) THEN SharedTrip ELSE SoloTrip END AS TripType#2400]\n",
      "   +- Project [VendorID#1890, passenger_count#2090, tripDistrance#2089, tpep_pickup_datetime#1891, tpep_dropoff_datetime#1892, PULocationID#1897, DOLocationID#1898, RatecodeID#2025, total_amount#1906, payment_type#2026, TripYear#2101, TripMonth#2113, Tripday#2114, (cast(round((unix_timestamp(tpep_dropoff_datetime#1892, yyyy-MM-dd HH:mm:ss, Some(Europe/Bucharest), false) - unix_timestamp(tpep_pickup_datetime#1891, yyyy-MM-dd HH:mm:ss, Some(Europe/Bucharest), false)), 0) as double) / cast(60 as double)) AS TripTimeMinutes#2293]\n",
      "      +- Project [VendorID#1890, passenger_count#2090, tripDistrance#2089, tpep_pickup_datetime#1891, tpep_dropoff_datetime#1892, PULocationID#1897, DOLocationID#1898, RatecodeID#2025, total_amount#1906, payment_type#2026, TripYear#2101, TripMonth#2113, Tripday#2114, (cast(round((unix_timestamp(tpep_dropoff_datetime#1892, yyyy-MM-dd HH:mm:ss, Some(Europe/Bucharest), false) - unix_timestamp(tpep_pickup_datetime#1891, yyyy-MM-dd HH:mm:ss, Some(Europe/Bucharest), false)), 0) as double) / cast(60 as double)) AS TripTimeMinutes#2202]\n",
      "         +- Project [VendorID#1890, passenger_count#2090, tripDistrance#2089, tpep_pickup_datetime#1891, tpep_dropoff_datetime#1892, PULocationID#1897, DOLocationID#1898, RatecodeID#2025, total_amount#1906, payment_type#2026, TripYear#2101, month(cast(tpep_pickup_datetime#1891 as date)) AS TripMonth#2113, dayofmonth(cast(tpep_pickup_datetime#1891 as date)) AS Tripday#2114]\n",
      "            +- Project [VendorID#1890, passenger_count#2090, tripDistrance#2089, tpep_pickup_datetime#1891, tpep_dropoff_datetime#1892, PULocationID#1897, DOLocationID#1898, RatecodeID#2025, total_amount#1906, payment_type#2026, year(cast(tpep_pickup_datetime#1891 as date)) AS TripYear#2101]\n",
      "               +- Project [VendorID#1890, cast(passenger_count#1893 as int) AS passenger_count#2090, trip_distance#1894 AS tripDistrance#2089, tpep_pickup_datetime#1891, tpep_dropoff_datetime#1892, PULocationID#1897, DOLocationID#1898, RatecodeID#2025, total_amount#1906, payment_type#2026]\n",
      "                  +- Filter ((tpep_pickup_datetime#1891 >= cast(2022-10-01 as timestamp)) AND (tpep_dropoff_datetime#1892 < cast(2022-11-01 as timestamp)))\n",
      "                     +- Project [VendorID#1890, tpep_pickup_datetime#1891, tpep_dropoff_datetime#1892, passenger_count#1893, trip_distance#1894, coalesce(nanvl(RatecodeID#1895, cast(null as double)), cast(1 as double)) AS RatecodeID#2025, store_and_fwd_flag#1896, PULocationID#1897, DOLocationID#1898, coalesce(payment_type#1899, cast(5 as int)) AS payment_type#2026, fare_amount#1900, extra#1901, mta_tax#1902, tip_amount#1903, tolls_amount#1904, improvement_surcharge#1905, total_amount#1906, congestion_surcharge#1907, airport_fee#1908]\n",
      "                        +- Filter atleastnnonnulls(1, VendorID#1890, tpep_pickup_datetime#1891, tpep_dropoff_datetime#1892, passenger_count#1893, trip_distance#1894, RatecodeID#1895, store_and_fwd_flag#1896, PULocationID#1897, DOLocationID#1898, payment_type#1899, fare_amount#1900, extra#1901, mta_tax#1902, tip_amount#1903, tolls_amount#1904, improvement_surcharge#1905, total_amount#1906, congestion_surcharge#1907, airport_fee#1908)\n",
      "                           +- Filter (trip_distance#1894 > 0.0)\n",
      "                              +- Filter (passenger_count#1893 > cast(0 as double))\n",
      "                                 +- Relation [VendorID#1890,tpep_pickup_datetime#1891,tpep_dropoff_datetime#1892,passenger_count#1893,trip_distance#1894,RatecodeID#1895,store_and_fwd_flag#1896,PULocationID#1897,DOLocationID#1898,payment_type#1899,fare_amount#1900,extra#1901,mta_tax#1902,tip_amount#1903,tolls_amount#1904,improvement_surcharge#1905,total_amount#1906,congestion_surcharge#1907,airport_fee#1908] csv\n",
      "\n",
      "== Analyzed Logical Plan ==\n",
      "VendorID: int, passenger_count: int, tripDistrance: double, tpep_pickup_datetime: timestamp, tpep_dropoff_datetime: timestamp, PULocationID: int, DOLocationID: int, RatecodeID: double, total_amount: double, payment_type: int, TripYear: int, TripMonth: int, Tripday: int, TripTimeMinutes: double, TripType: string\n",
      "Project [VendorID#1890, passenger_count#2090, tripDistrance#2089, tpep_pickup_datetime#1891, tpep_dropoff_datetime#1892, PULocationID#1897, DOLocationID#1898, RatecodeID#2025, total_amount#1906, payment_type#2026, TripYear#2101, TripMonth#2113, Tripday#2114, TripTimeMinutes#2293, CASE WHEN (RatecodeID#2025 = cast(6 as double)) THEN SharedTrip ELSE SoloTrip END AS TripType#2576]\n",
      "+- Project [VendorID#1890, passenger_count#2090, tripDistrance#2089, tpep_pickup_datetime#1891, tpep_dropoff_datetime#1892, PULocationID#1897, DOLocationID#1898, RatecodeID#2025, total_amount#1906, payment_type#2026, TripYear#2101, TripMonth#2113, Tripday#2114, TripTimeMinutes#2293, CASE WHEN (VendorID#1890 = 6) THEN SharedTrip ELSE SoloTrip END AS TripType#2400]\n",
      "   +- Project [VendorID#1890, passenger_count#2090, tripDistrance#2089, tpep_pickup_datetime#1891, tpep_dropoff_datetime#1892, PULocationID#1897, DOLocationID#1898, RatecodeID#2025, total_amount#1906, payment_type#2026, TripYear#2101, TripMonth#2113, Tripday#2114, (cast(round((unix_timestamp(tpep_dropoff_datetime#1892, yyyy-MM-dd HH:mm:ss, Some(Europe/Bucharest), false) - unix_timestamp(tpep_pickup_datetime#1891, yyyy-MM-dd HH:mm:ss, Some(Europe/Bucharest), false)), 0) as double) / cast(60 as double)) AS TripTimeMinutes#2293]\n",
      "      +- Project [VendorID#1890, passenger_count#2090, tripDistrance#2089, tpep_pickup_datetime#1891, tpep_dropoff_datetime#1892, PULocationID#1897, DOLocationID#1898, RatecodeID#2025, total_amount#1906, payment_type#2026, TripYear#2101, TripMonth#2113, Tripday#2114, (cast(round((unix_timestamp(tpep_dropoff_datetime#1892, yyyy-MM-dd HH:mm:ss, Some(Europe/Bucharest), false) - unix_timestamp(tpep_pickup_datetime#1891, yyyy-MM-dd HH:mm:ss, Some(Europe/Bucharest), false)), 0) as double) / cast(60 as double)) AS TripTimeMinutes#2202]\n",
      "         +- Project [VendorID#1890, passenger_count#2090, tripDistrance#2089, tpep_pickup_datetime#1891, tpep_dropoff_datetime#1892, PULocationID#1897, DOLocationID#1898, RatecodeID#2025, total_amount#1906, payment_type#2026, TripYear#2101, month(cast(tpep_pickup_datetime#1891 as date)) AS TripMonth#2113, dayofmonth(cast(tpep_pickup_datetime#1891 as date)) AS Tripday#2114]\n",
      "            +- Project [VendorID#1890, passenger_count#2090, tripDistrance#2089, tpep_pickup_datetime#1891, tpep_dropoff_datetime#1892, PULocationID#1897, DOLocationID#1898, RatecodeID#2025, total_amount#1906, payment_type#2026, year(cast(tpep_pickup_datetime#1891 as date)) AS TripYear#2101]\n",
      "               +- Project [VendorID#1890, cast(passenger_count#1893 as int) AS passenger_count#2090, trip_distance#1894 AS tripDistrance#2089, tpep_pickup_datetime#1891, tpep_dropoff_datetime#1892, PULocationID#1897, DOLocationID#1898, RatecodeID#2025, total_amount#1906, payment_type#2026]\n",
      "                  +- Filter ((tpep_pickup_datetime#1891 >= cast(2022-10-01 as timestamp)) AND (tpep_dropoff_datetime#1892 < cast(2022-11-01 as timestamp)))\n",
      "                     +- Project [VendorID#1890, tpep_pickup_datetime#1891, tpep_dropoff_datetime#1892, passenger_count#1893, trip_distance#1894, coalesce(nanvl(RatecodeID#1895, cast(null as double)), cast(1 as double)) AS RatecodeID#2025, store_and_fwd_flag#1896, PULocationID#1897, DOLocationID#1898, coalesce(payment_type#1899, cast(5 as int)) AS payment_type#2026, fare_amount#1900, extra#1901, mta_tax#1902, tip_amount#1903, tolls_amount#1904, improvement_surcharge#1905, total_amount#1906, congestion_surcharge#1907, airport_fee#1908]\n",
      "                        +- Filter atleastnnonnulls(1, VendorID#1890, tpep_pickup_datetime#1891, tpep_dropoff_datetime#1892, passenger_count#1893, trip_distance#1894, RatecodeID#1895, store_and_fwd_flag#1896, PULocationID#1897, DOLocationID#1898, payment_type#1899, fare_amount#1900, extra#1901, mta_tax#1902, tip_amount#1903, tolls_amount#1904, improvement_surcharge#1905, total_amount#1906, congestion_surcharge#1907, airport_fee#1908)\n",
      "                           +- Filter (trip_distance#1894 > 0.0)\n",
      "                              +- Filter (passenger_count#1893 > cast(0 as double))\n",
      "                                 +- Relation [VendorID#1890,tpep_pickup_datetime#1891,tpep_dropoff_datetime#1892,passenger_count#1893,trip_distance#1894,RatecodeID#1895,store_and_fwd_flag#1896,PULocationID#1897,DOLocationID#1898,payment_type#1899,fare_amount#1900,extra#1901,mta_tax#1902,tip_amount#1903,tolls_amount#1904,improvement_surcharge#1905,total_amount#1906,congestion_surcharge#1907,airport_fee#1908] csv\n",
      "\n",
      "== Optimized Logical Plan ==\n",
      "Project [VendorID#1890, passenger_count#2090, tripDistrance#2089, tpep_pickup_datetime#1891, tpep_dropoff_datetime#1892, PULocationID#1897, DOLocationID#1898, RatecodeID#2025, total_amount#1906, payment_type#2026, TripYear#2101, TripMonth#2113, Tripday#2114, TripTimeMinutes#2293, CASE WHEN (RatecodeID#2025 = 6.0) THEN SharedTrip ELSE SoloTrip END AS TripType#2576]\n",
      "+- Project [VendorID#1890, cast(passenger_count#1893 as int) AS passenger_count#2090, trip_distance#1894 AS tripDistrance#2089, tpep_pickup_datetime#1891, tpep_dropoff_datetime#1892, PULocationID#1897, DOLocationID#1898, coalesce(nanvl(RatecodeID#1895, null), 1.0) AS RatecodeID#2025, total_amount#1906, coalesce(payment_type#1899, 5) AS payment_type#2026, year(cast(tpep_pickup_datetime#1891 as date)) AS TripYear#2101, month(cast(tpep_pickup_datetime#1891 as date)) AS TripMonth#2113, dayofmonth(cast(tpep_pickup_datetime#1891 as date)) AS Tripday#2114, (cast(round((unix_timestamp(tpep_dropoff_datetime#1892, yyyy-MM-dd HH:mm:ss, Some(Europe/Bucharest), false) - unix_timestamp(tpep_pickup_datetime#1891, yyyy-MM-dd HH:mm:ss, Some(Europe/Bucharest), false)), 0) as double) / 60.0) AS TripTimeMinutes#2293]\n",
      "   +- Filter ((((isnotnull(passenger_count#1893) AND isnotnull(trip_distance#1894)) AND isnotnull(tpep_pickup_datetime#1891)) AND isnotnull(tpep_dropoff_datetime#1892)) AND (((passenger_count#1893 > 0.0) AND (trip_distance#1894 > 0.0)) AND ((atleastnnonnulls(1, VendorID#1890, tpep_pickup_datetime#1891, tpep_dropoff_datetime#1892, passenger_count#1893, trip_distance#1894, RatecodeID#1895, store_and_fwd_flag#1896, PULocationID#1897, DOLocationID#1898, payment_type#1899, fare_amount#1900, extra#1901, mta_tax#1902, tip_amount#1903, tolls_amount#1904, improvement_surcharge#1905, total_amount#1906, congestion_surcharge#1907, airport_fee#1908) AND (tpep_pickup_datetime#1891 >= 2022-10-01 00:00:00)) AND (tpep_dropoff_datetime#1892 < 2022-11-01 00:00:00))))\n",
      "      +- Relation [VendorID#1890,tpep_pickup_datetime#1891,tpep_dropoff_datetime#1892,passenger_count#1893,trip_distance#1894,RatecodeID#1895,store_and_fwd_flag#1896,PULocationID#1897,DOLocationID#1898,payment_type#1899,fare_amount#1900,extra#1901,mta_tax#1902,tip_amount#1903,tolls_amount#1904,improvement_surcharge#1905,total_amount#1906,congestion_surcharge#1907,airport_fee#1908] csv\n",
      "\n",
      "== Physical Plan ==\n",
      "*(1) Project [VendorID#1890, passenger_count#2090, tripDistrance#2089, tpep_pickup_datetime#1891, tpep_dropoff_datetime#1892, PULocationID#1897, DOLocationID#1898, RatecodeID#2025, total_amount#1906, payment_type#2026, TripYear#2101, TripMonth#2113, Tripday#2114, TripTimeMinutes#2293, CASE WHEN (RatecodeID#2025 = 6.0) THEN SharedTrip ELSE SoloTrip END AS TripType#2576]\n",
      "+- *(1) Project [VendorID#1890, cast(passenger_count#1893 as int) AS passenger_count#2090, trip_distance#1894 AS tripDistrance#2089, tpep_pickup_datetime#1891, tpep_dropoff_datetime#1892, PULocationID#1897, DOLocationID#1898, coalesce(nanvl(RatecodeID#1895, null), 1.0) AS RatecodeID#2025, total_amount#1906, coalesce(payment_type#1899, 5) AS payment_type#2026, year(cast(tpep_pickup_datetime#1891 as date)) AS TripYear#2101, month(cast(tpep_pickup_datetime#1891 as date)) AS TripMonth#2113, dayofmonth(cast(tpep_pickup_datetime#1891 as date)) AS Tripday#2114, (cast(round((unix_timestamp(tpep_dropoff_datetime#1892, yyyy-MM-dd HH:mm:ss, Some(Europe/Bucharest), false) - unix_timestamp(tpep_pickup_datetime#1891, yyyy-MM-dd HH:mm:ss, Some(Europe/Bucharest), false)), 0) as double) / 60.0) AS TripTimeMinutes#2293]\n",
      "   +- *(1) Filter ((((((((isnotnull(passenger_count#1893) AND isnotnull(trip_distance#1894)) AND isnotnull(tpep_pickup_datetime#1891)) AND isnotnull(tpep_dropoff_datetime#1892)) AND (passenger_count#1893 > 0.0)) AND (trip_distance#1894 > 0.0)) AND atleastnnonnulls(1, VendorID#1890, tpep_pickup_datetime#1891, tpep_dropoff_datetime#1892, passenger_count#1893, trip_distance#1894, RatecodeID#1895, store_and_fwd_flag#1896, PULocationID#1897, DOLocationID#1898, payment_type#1899, fare_amount#1900, extra#1901, mta_tax#1902, tip_amount#1903, tolls_amount#1904, improvement_surcharge#1905, total_amount#1906, congestion_surcharge#1907, airport_fee#1908)) AND (tpep_pickup_datetime#1891 >= 2022-10-01 00:00:00)) AND (tpep_dropoff_datetime#1892 < 2022-11-01 00:00:00))\n",
      "      +- FileScan csv [VendorID#1890,tpep_pickup_datetime#1891,tpep_dropoff_datetime#1892,passenger_count#1893,trip_distance#1894,RatecodeID#1895,store_and_fwd_flag#1896,PULocationID#1897,DOLocationID#1898,payment_type#1899,fare_amount#1900,extra#1901,mta_tax#1902,tip_amount#1903,tolls_amount#1904,improvement_surcharge#1905,total_amount#1906,congestion_surcharge#1907,airport_fee#1908] Batched: false, DataFilters: [isnotnull(passenger_count#1893), isnotnull(trip_distance#1894), isnotnull(tpep_pickup_datetime#1..., Format: CSV, Location: InMemoryFileIndex(1 paths)[file:/home/raddy/projects/DataLab/data/YellowTaxis_202210.csv], PartitionFilters: [], PushedFilters: [IsNotNull(passenger_count), IsNotNull(trip_distance), IsNotNull(tpep_pickup_datetime), IsNotNull..., ReadSchema: struct<VendorID:int,tpep_pickup_datetime:timestamp,tpep_dropoff_datetime:timestamp,passenger_coun...\n",
      "\n"
     ]
    }
   ],
   "source": [
    "yellow_taxi_df.explain( mode = 'extended')\n",
    "\n",
    "### MODES - simple, codegen, cost, fromatted"
   ]
  },
  {
   "cell_type": "markdown",
   "metadata": {},
   "source": [
    "HANDLING CORRUPT DATA"
   ]
  },
  {
   "cell_type": "code",
   "execution_count": 140,
   "metadata": {},
   "outputs": [],
   "source": [
    "rates_codes_json_df = (\n",
    "    spark.read\n",
    "    #.option('mode', 'PERMISSIVE')\n",
    "    #.option('mode', 'FAILFAST')\n",
    "    .option('mode', 'DROPMALFORMED')\n",
    "    .option('columnNameOfCorruptRecord', 'CorruptData')\n",
    "    .json(data_path + 'RateCodes.json')\n",
    ")"
   ]
  },
  {
   "cell_type": "code",
   "execution_count": 141,
   "metadata": {},
   "outputs": [
    {
     "name": "stdout",
     "output_type": "stream",
     "text": [
      "+---------------+----------+\n",
      "|RateCode       |RateCodeID|\n",
      "+---------------+----------+\n",
      "|Standard rate  |1         |\n",
      "|JFK            |2         |\n",
      "|Newark         |3         |\n",
      "|Negotiated fare|5         |\n",
      "|Group ride     |6         |\n",
      "+---------------+----------+\n",
      "\n"
     ]
    }
   ],
   "source": [
    "rates_codes_json_df.show(truncate=False)"
   ]
  },
  {
   "cell_type": "markdown",
   "metadata": {},
   "source": [
    "DATA TO FILES"
   ]
  },
  {
   "cell_type": "code",
   "execution_count": 144,
   "metadata": {},
   "outputs": [
    {
     "data": {
      "text/plain": [
       "DataFrame[VendorID: int, tpep_pickup_datetime: timestamp, tpep_dropoff_datetime: timestamp, passenger_count: double, trip_distance: double, RatecodeID: double, store_and_fwd_flag: string, PULocationID: int, DOLocationID: int, payment_type: int, fare_amount: double, extra: double, mta_tax: double, tip_amount: double, tolls_amount: double, improvement_surcharge: double, total_amount: double, congestion_surcharge: double, airport_fee: double]"
      ]
     },
     "execution_count": 144,
     "metadata": {},
     "output_type": "execute_result"
    }
   ],
   "source": [
    "yellow_taxi_df"
   ]
  },
  {
   "cell_type": "code",
   "execution_count": 145,
   "metadata": {},
   "outputs": [
    {
     "data": {
      "text/plain": [
       "8"
      ]
     },
     "execution_count": 145,
     "metadata": {},
     "output_type": "execute_result"
    }
   ],
   "source": [
    "yellow_taxi_df.rdd.getNumPartitions()"
   ]
  },
  {
   "cell_type": "code",
   "execution_count": 146,
   "metadata": {},
   "outputs": [],
   "source": [
    "yellow_taxi_df = yellow_taxi_df.coalesce(1)"
   ]
  },
  {
   "cell_type": "code",
   "execution_count": 147,
   "metadata": {},
   "outputs": [
    {
     "data": {
      "text/plain": [
       "1"
      ]
     },
     "execution_count": 147,
     "metadata": {},
     "output_type": "execute_result"
    }
   ],
   "source": [
    "yellow_taxi_df.rdd.getNumPartitions()"
   ]
  },
  {
   "cell_type": "code",
   "execution_count": 148,
   "metadata": {},
   "outputs": [
    {
     "name": "stderr",
     "output_type": "stream",
     "text": [
      "                                                                                \r"
     ]
    }
   ],
   "source": [
    "(\n",
    "    yellow_taxi_df\n",
    "        .write\n",
    "        #.partitionBy('column')\n",
    "        .option('header', 'true')\n",
    "        .option('dateFormat', 'yyyy-MM-dd HH:mm:ss.S')\n",
    "        .mode('overwrite') # options - Append, ErroIfExists, Ignore(do nothing if exists)\n",
    "        .csv(data_path + 'results/yellow_taxi_out.csv')\n",
    ")"
   ]
  }
 ],
 "metadata": {
  "kernelspec": {
   "display_name": "Python 3",
   "language": "python",
   "name": "python3"
  },
  "language_info": {
   "codemirror_mode": {
    "name": "ipython",
    "version": 3
   },
   "file_extension": ".py",
   "mimetype": "text/x-python",
   "name": "python",
   "nbconvert_exporter": "python",
   "pygments_lexer": "ipython3",
   "version": "3.11.2"
  },
  "orig_nbformat": 4
 },
 "nbformat": 4,
 "nbformat_minor": 2
}
