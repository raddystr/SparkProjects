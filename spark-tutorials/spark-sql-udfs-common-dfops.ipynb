{
 "cells": [
  {
   "cell_type": "code",
   "execution_count": 2,
   "metadata": {},
   "outputs": [
    {
     "data": {
      "text/html": [
       "\n",
       "            <div>\n",
       "                <p><b>SparkSession - hive</b></p>\n",
       "                \n",
       "        <div>\n",
       "            <p><b>SparkContext</b></p>\n",
       "\n",
       "            <p><a href=\"http://172.22.34.28:4040\">Spark UI</a></p>\n",
       "\n",
       "            <dl>\n",
       "              <dt>Version</dt>\n",
       "                <dd><code>v3.4.1</code></dd>\n",
       "              <dt>Master</dt>\n",
       "                <dd><code>local[*]</code></dd>\n",
       "              <dt>AppName</dt>\n",
       "                <dd><code>SparkCourse</code></dd>\n",
       "            </dl>\n",
       "        </div>\n",
       "        \n",
       "            </div>\n",
       "        "
      ],
      "text/plain": [
       "<pyspark.sql.session.SparkSession at 0x7f9e52b5eb50>"
      ]
     },
     "execution_count": 2,
     "metadata": {},
     "output_type": "execute_result"
    }
   ],
   "source": [
    "from pyspark.sql import SparkSession\n",
    "import pyspark.sql.functions as F\n",
    "from pyspark.sql.types import IntegerType, TimestampType, DoubleType\n",
    "from pyspark.sql.types import StructField, StructType, StringType\n",
    "\n",
    "spark = (\n",
    "    \n",
    "            SparkSession\n",
    "            .builder\n",
    "            .appName('SparkCourse') \n",
    "            .master('local[*]') \n",
    "            .config('spark.dynamicAllocation.enabled', 'false')\n",
    "            .config('spark.sql.adaptive.enabled', 'false')\n",
    "            .enableHiveSupport()\n",
    "            .getOrCreate()\n",
    "    )\n",
    "\n",
    "sc = spark.sparkContext\n",
    "\n",
    "spark"
   ]
  },
  {
   "cell_type": "code",
   "execution_count": 3,
   "metadata": {},
   "outputs": [],
   "source": [
    "data_path = '../data/'"
   ]
  },
  {
   "cell_type": "code",
   "execution_count": 4,
   "metadata": {},
   "outputs": [],
   "source": [
    "taxi_schema = StructType([\n",
    "    StructField('VendorID', IntegerType(), True),\n",
    "    StructField('tpep_pickup_datetime', TimestampType(), True),\n",
    "    StructField('tpep_dropoff_datetime', TimestampType(), True),\n",
    "    StructField('passenger_count', DoubleType(), True),\n",
    "    StructField('trip_distance', DoubleType(), True),\n",
    "    StructField('RatecodeID', DoubleType(), True),\n",
    "    StructField('store_and_fwd_flag', StringType(), True),\n",
    "    StructField('PULocationID', IntegerType(), True),\n",
    "    StructField('DOLocationID', IntegerType(), True),\n",
    "    StructField('payment_type', IntegerType(), True),\n",
    "    StructField('fare_amount', DoubleType(), True),\n",
    "    StructField('extra', DoubleType(), True),\n",
    "    StructField('mta_tax', DoubleType(), True),\n",
    "    StructField('tip_amount', DoubleType(), True),\n",
    "    StructField('tolls_amount', DoubleType(), True),\n",
    "    StructField('improvement_surcharge', DoubleType(), True),\n",
    "    StructField('total_amount', DoubleType(), True),\n",
    "    StructField('congestion_surcharge', DoubleType(), True),\n",
    "    StructField('airport_fee', DoubleType(), True),\n",
    "])"
   ]
  },
  {
   "cell_type": "code",
   "execution_count": 5,
   "metadata": {},
   "outputs": [],
   "source": [
    "yellow_taxi_df = (\n",
    "    spark\n",
    "        .read\n",
    "        .option('header', 'true')\n",
    "        .schema(taxi_schema)\n",
    "        .csv(data_path + 'YellowTaxis_202210.csv')\n",
    ")"
   ]
  },
  {
   "cell_type": "code",
   "execution_count": 6,
   "metadata": {},
   "outputs": [],
   "source": [
    "green_taxi_df = (spark\n",
    "                    .read\n",
    "                    .option('header', 'true')\n",
    "                    .option('delimiter', '\\t')\n",
    "                    .csv(data_path + 'GreenTaxis_202210.csv')\n",
    "    )\n",
    "\n",
    "green_taxi_df.createOrReplaceTempView('GreenTaxis')"
   ]
  },
  {
   "cell_type": "code",
   "execution_count": 7,
   "metadata": {},
   "outputs": [
    {
     "name": "stdout",
     "output_type": "stream",
     "text": [
      "root\n",
      " |-- VendorId: string (nullable = true)\n",
      " |-- lpep_pickup_datetime: string (nullable = true)\n",
      " |-- lpep_dropoff_datetime: string (nullable = true)\n",
      " |-- passenger_count: string (nullable = true)\n",
      " |-- trip_distance: string (nullable = true)\n",
      " |-- RatecodeID: string (nullable = true)\n",
      " |-- store_and_fwd_flag: string (nullable = true)\n",
      " |-- PULocationID: string (nullable = true)\n",
      " |-- DOLocationID: string (nullable = true)\n",
      " |-- payment_type: string (nullable = true)\n",
      " |-- fare_amount: string (nullable = true)\n",
      " |-- extra: string (nullable = true)\n",
      " |-- mta_tax: string (nullable = true)\n",
      " |-- tip_amount: string (nullable = true)\n",
      " |-- tolls_amount: string (nullable = true)\n",
      " |-- improvement_surcharge: string (nullable = true)\n",
      " |-- total_amount: string (nullable = true)\n",
      " |-- congestion_surcharge: string (nullable = true)\n",
      " |-- airport_fee: string (nullable = true)\n",
      "\n"
     ]
    }
   ],
   "source": [
    "green_taxi_df.printSchema()"
   ]
  },
  {
   "cell_type": "code",
   "execution_count": 8,
   "metadata": {},
   "outputs": [],
   "source": [
    "yellow_taxi_df.createOrReplaceTempView('YellowTaxis')"
   ]
  },
  {
   "cell_type": "code",
   "execution_count": 9,
   "metadata": {},
   "outputs": [],
   "source": [
    "output_df = spark.sql(\n",
    "    'SELECT * FROM YellowTaxis WHERE PULocationID=171'\n",
    ")"
   ]
  },
  {
   "cell_type": "code",
   "execution_count": 10,
   "metadata": {},
   "outputs": [
    {
     "name": "stderr",
     "output_type": "stream",
     "text": [
      "[Stage 2:>                                                          (0 + 3) / 3]\r"
     ]
    },
    {
     "name": "stdout",
     "output_type": "stream",
     "text": [
      "+--------+--------------------+---------------------+---------------+-------------+----------+------------------+------------+------------+------------+-----------+-----+-------+----------+------------+---------------------+------------+--------------------+-----------+\n",
      "|VendorID|tpep_pickup_datetime|tpep_dropoff_datetime|passenger_count|trip_distance|RatecodeID|store_and_fwd_flag|PULocationID|DOLocationID|payment_type|fare_amount|extra|mta_tax|tip_amount|tolls_amount|improvement_surcharge|total_amount|congestion_surcharge|airport_fee|\n",
      "+--------+--------------------+---------------------+---------------+-------------+----------+------------------+------------+------------+------------+-----------+-----+-------+----------+------------+---------------------+------------+--------------------+-----------+\n",
      "|       1| 2022-10-01 11:17:23|  2022-10-01 12:08:50|            1.0|          9.4|      99.0|                 N|         171|         263|           1|       35.2|  0.0|    0.5|       0.0|        6.55|                  0.3|       42.55|                 0.0|        0.0|\n",
      "|       1| 2022-10-02 07:28:04|  2022-10-02 07:28:26|            2.0|          3.2|       5.0|                 Y|         171|         171|           2|       75.0|  0.0|    0.0|       0.0|         0.0|                  0.3|        75.3|                 0.0|        0.0|\n",
      "|       1| 2022-10-02 11:48:08|  2022-10-02 12:09:53|            1.0|          0.0|      99.0|                 N|         171|         262|           1|       35.2|  0.0|    0.5|       0.0|        6.55|                  0.3|       42.55|                 0.0|        0.0|\n",
      "|       1| 2022-10-02 12:10:11|  2022-10-02 12:55:13|            1.0|         10.0|      99.0|                 N|         171|          80|           1|       36.2|  0.0|    0.5|       0.0|         0.0|                  0.3|        37.0|                 0.0|        0.0|\n",
      "|       1| 2022-10-02 19:03:21|  2022-10-02 19:23:20|            1.0|          7.7|      99.0|                 N|         171|         258|           1|       31.2|  0.0|    0.5|       0.0|         0.0|                  0.3|        32.0|                 0.0|        0.0|\n",
      "|       1| 2022-10-03 11:18:22|  2022-10-03 11:55:15|            1.0|         13.1|      99.0|                 N|         171|         216|           1|       37.2|  0.0|    0.5|       0.0|         0.0|                  0.3|        38.0|                 0.0|        0.0|\n",
      "|       1| 2022-10-03 12:40:35|  2022-10-03 12:40:36|            1.0|          0.0|       1.0|                 N|         171|         171|           1|       15.2|  0.0|    0.5|       0.0|         0.0|                  0.3|        16.0|                 0.0|        0.0|\n",
      "|       1| 2022-10-04 14:27:24|  2022-10-04 14:56:22|            1.0|          6.8|      99.0|                 N|         171|         205|           1|       42.2|  0.0|    0.5|       0.0|         0.0|                  0.3|        43.0|                 0.0|        0.0|\n",
      "|       1| 2022-10-06 12:39:40|  2022-10-06 12:51:14|            1.0|          0.0|       1.0|                 N|         171|          92|           1|       15.2|  0.0|    0.5|       0.0|         0.0|                  0.3|        16.0|                 0.0|        0.0|\n",
      "|       1| 2022-10-06 14:56:02|  2022-10-06 15:03:01|            1.0|          0.7|      99.0|                 N|         171|          92|           1|       15.2|  0.0|    0.5|       0.0|         0.0|                  0.3|        16.0|                 0.0|        0.0|\n",
      "|       2| 2022-10-06 14:44:02|  2022-10-06 14:44:09|            2.0|          0.0|       2.0|                 N|         171|         171|           1|       52.0|  0.0|    0.5|       5.0|         0.0|                  0.3|       59.05|                 0.0|       1.25|\n",
      "|       2| 2022-10-07 05:21:31|  2022-10-07 05:39:30|            5.0|          4.2|       1.0|                 N|         171|          28|           2|       16.5|  0.5|    0.5|       0.0|         0.0|                  0.3|        17.8|                 0.0|        0.0|\n",
      "|       2| 2022-10-08 07:17:20|  2022-10-08 07:17:30|            2.0|          0.0|       5.0|                 N|         171|         171|           1|       60.0|  0.0|    0.0|       0.0|         0.0|                  0.3|        60.3|                 0.0|        0.0|\n",
      "|       1| 2022-10-08 11:54:28|  2022-10-08 12:25:33|            1.0|          9.1|      99.0|                 N|         171|         262|           1|       35.2|  0.0|    0.5|       0.0|        6.55|                  0.3|       42.55|                 0.0|        0.0|\n",
      "|       2| 2022-10-08 14:25:13|  2022-10-08 15:02:01|            5.0|          6.3|       1.0|                 N|         171|           7|           2|       25.5|  0.0|    0.5|       0.0|         0.0|                  0.3|        26.3|                 0.0|        0.0|\n",
      "|       1| 2022-10-09 11:58:59|  2022-10-09 12:21:36|            1.0|          0.0|       1.0|                 N|         171|         263|           1|       35.2|  0.0|    0.5|       0.0|         0.0|                  0.3|        36.0|                 0.0|        0.0|\n",
      "|       2| 2022-10-09 21:10:51|  2022-10-09 21:11:04|            3.0|          0.0|       5.0|                 N|         171|         171|           1|       55.0|  0.0|    0.0|       0.0|         0.0|                  0.3|        55.3|                 0.0|        0.0|\n",
      "|       1| 2022-10-10 12:12:41|  2022-10-10 12:37:09|            1.0|         12.1|       1.0|                 N|         171|         263|           1|       34.0|  2.5|    0.5|     10.95|        6.55|                  0.3|        54.8|                 2.5|        0.0|\n",
      "|       1| 2022-10-10 13:14:54|  2022-10-10 13:59:54|            1.0|          0.0|       1.0|                 N|         171|         162|           1|       45.2|  0.0|    0.5|       0.0|        6.55|                  0.3|       52.55|                 0.0|        0.0|\n",
      "|       1| 2022-10-10 15:21:17|  2022-10-10 15:44:06|            1.0|          8.6|      99.0|                 N|         171|          74|           1|       33.2|  0.0|    0.5|       0.0|        6.55|                  0.3|       40.55|                 0.0|        0.0|\n",
      "+--------+--------------------+---------------------+---------------+-------------+----------+------------------+------------+------------+------------+-----------+-----+-------+----------+------------+---------------------+------------+--------------------+-----------+\n",
      "only showing top 20 rows\n",
      "\n"
     ]
    },
    {
     "name": "stderr",
     "output_type": "stream",
     "text": [
      "                                                                                \r"
     ]
    }
   ],
   "source": [
    "output_df.show()"
   ]
  },
  {
   "cell_type": "code",
   "execution_count": 11,
   "metadata": {},
   "outputs": [],
   "source": [
    "df_sql = spark.sql(\"\"\"\n",
    "    SELECT 'Yellow' AS TaxiType\n",
    "          ,tpep_pickup_datetime AS PickupTime\n",
    "          ,tpep_dropoff_datetime AS DropTime\n",
    "          ,PULocationID AS PickupLoacationId\n",
    "          ,DOLocationID AS DropLocationId\n",
    "\n",
    "    FROM YellowTaxis\n",
    "    \n",
    "    UNION ALL\n",
    "          \n",
    "    SELECT 'Green' AS TaxiType\n",
    "          ,lpep_pickup_datetime AS PickupTime\n",
    "          ,lpep_dropoff_datetime AS DropTime\n",
    "          ,PULocationID AS PickupLocationId\n",
    "          ,DOLocationID AS DropLocationId\n",
    "      FROM GreenTaxis\n",
    "          \"\"\"\n",
    ")"
   ]
  },
  {
   "cell_type": "code",
   "execution_count": 12,
   "metadata": {},
   "outputs": [
    {
     "name": "stdout",
     "output_type": "stream",
     "text": [
      "+--------+-------------------+-------------------+-----------------+--------------+\n",
      "|TaxiType|PickupTime         |DropTime           |PickupLoacationId|DropLocationId|\n",
      "+--------+-------------------+-------------------+-----------------+--------------+\n",
      "|Yellow  |2022-10-01 03:03:41|2022-10-01 03:18:39|249              |107           |\n",
      "|Yellow  |2022-10-01 03:14:30|2022-10-01 03:19:48|151              |238           |\n",
      "|Yellow  |2022-10-01 03:27:13|2022-10-01 03:37:41|238              |166           |\n",
      "|Yellow  |2022-10-01 03:32:53|2022-10-01 03:38:55|142              |239           |\n",
      "|Yellow  |2022-10-01 03:44:55|2022-10-01 03:50:21|238              |166           |\n",
      "|Yellow  |2022-10-01 03:22:52|2022-10-01 03:52:14|186              |41            |\n",
      "|Yellow  |2022-10-01 03:33:19|2022-10-01 03:44:51|162              |145           |\n",
      "|Yellow  |2022-10-01 03:02:42|2022-10-01 03:50:01|100              |22            |\n",
      "|Yellow  |2022-10-01 03:06:35|2022-10-01 03:24:38|138              |112           |\n",
      "|Yellow  |2022-10-01 03:29:25|2022-10-01 03:43:15|145              |75            |\n",
      "+--------+-------------------+-------------------+-----------------+--------------+\n",
      "only showing top 10 rows\n",
      "\n"
     ]
    }
   ],
   "source": [
    "df_sql.show(10, truncate=False)"
   ]
  },
  {
   "cell_type": "code",
   "execution_count": 13,
   "metadata": {},
   "outputs": [
    {
     "name": "stderr",
     "output_type": "stream",
     "text": [
      "23/08/19 21:10:32 WARN HiveConf: HiveConf of name hive.stats.jdbc.timeout does not exist\n",
      "23/08/19 21:10:32 WARN HiveConf: HiveConf of name hive.stats.retries.wait does not exist\n",
      "23/08/19 21:10:40 WARN ObjectStore: Version information not found in metastore. hive.metastore.schema.verification is not enabled so recording the schema version 2.3.0\n",
      "23/08/19 21:10:40 WARN ObjectStore: setMetaStoreSchemaVersion called but recording version is disabled: version = 2.3.0, comment = Set by MetaStore raddy@127.0.1.1\n",
      "23/08/19 21:10:40 WARN ObjectStore: Failed to get database default, returning NoSuchObjectException\n",
      "23/08/19 21:10:41 WARN ObjectStore: Failed to get database global_temp, returning NoSuchObjectException\n"
     ]
    },
    {
     "name": "stdout",
     "output_type": "stream",
     "text": [
      "+--------+-------------+--------------------+-----------+\n",
      "|Location|      Borough|                Zone|ServiceZone|\n",
      "+--------+-------------+--------------------+-----------+\n",
      "|       1|          EWR|      Newark Airport|        EWR|\n",
      "|       2|       Queens|         Jamaica Bay|  Boro Zone|\n",
      "|       3|        Bronx|Allerton/Pelham G...|  Boro Zone|\n",
      "|       4|    Manhattan|       Alphabet City|Yellow Zone|\n",
      "|       5|Staten Island|       Arden Heights|  Boro Zone|\n",
      "|       6|Staten Island|Arrochar/Fort Wad...|  Boro Zone|\n",
      "|       7|       Queens|             Astoria|  Boro Zone|\n",
      "|       8|       Queens|        Astoria Park|  Boro Zone|\n",
      "|       9|       Queens|          Auburndale|  Boro Zone|\n",
      "|      10|       Queens|        Baisley Park|  Boro Zone|\n",
      "|      11|     Brooklyn|          Bath Beach|  Boro Zone|\n",
      "|      12|    Manhattan|        Battery Park|Yellow Zone|\n",
      "|      13|    Manhattan|   Battery Park City|Yellow Zone|\n",
      "|      14|     Brooklyn|           Bay Ridge|  Boro Zone|\n",
      "|      15|       Queens|Bay Terrace/Fort ...|  Boro Zone|\n",
      "|      16|       Queens|             Bayside|  Boro Zone|\n",
      "|      17|     Brooklyn|             Bedford|  Boro Zone|\n",
      "|      18|        Bronx|        Bedford Park|  Boro Zone|\n",
      "|      19|       Queens|           Bellerose|  Boro Zone|\n",
      "|      20|        Bronx|             Belmont|  Boro Zone|\n",
      "+--------+-------------+--------------------+-----------+\n",
      "only showing top 20 rows\n",
      "\n"
     ]
    }
   ],
   "source": [
    "taxi_zones_schema = 'Location INT, Borough STRING, Zone STRING, ServiceZone STRING'\n",
    "\n",
    "taxi_zones_df = (\n",
    "    spark\n",
    "        .read\n",
    "        .schema(taxi_zones_schema)\n",
    "        .csv(data_path + 'TaxiZones.csv')\n",
    ")\n",
    "\n",
    "taxi_zones_df.createOrReplaceGlobalTempView('TaxiZones')\n",
    "\n",
    "taxi_zones_df.show()"
   ]
  },
  {
   "cell_type": "code",
   "execution_count": 14,
   "metadata": {},
   "outputs": [
    {
     "name": "stderr",
     "output_type": "stream",
     "text": [
      "[Stage 8:============================================>          (163 + 9) / 200]\r"
     ]
    },
    {
     "name": "stdout",
     "output_type": "stream",
     "text": [
      "+-------------+--------+----------+\n",
      "|      Borough|TaxiType|TotalTrips|\n",
      "+-------------+--------+----------+\n",
      "|        Bronx|   Green|      4511|\n",
      "|        Bronx|  Yellow|      4511|\n",
      "|     Brooklyn|   Green|     28089|\n",
      "|     Brooklyn|  Yellow|     28089|\n",
      "|          EWR|   Green|      1157|\n",
      "|          EWR|  Yellow|      1157|\n",
      "|    Manhattan|    null|         2|\n",
      "|    Manhattan|   Green|   3250695|\n",
      "|    Manhattan|  Yellow|   3250695|\n",
      "|       Queens|    null|         1|\n",
      "|       Queens|   Green|    333922|\n",
      "|       Queens|  Yellow|    333922|\n",
      "|Staten Island|    null|         2|\n",
      "|Staten Island|   Green|       303|\n",
      "|Staten Island|  Yellow|       303|\n",
      "|      Unknown|   Green|     56735|\n",
      "|      Unknown|  Yellow|     56735|\n",
      "+-------------+--------+----------+\n",
      "\n"
     ]
    },
    {
     "name": "stderr",
     "output_type": "stream",
     "text": [
      "                                                                                \r"
     ]
    }
   ],
   "source": [
    "spark.sql(\n",
    "    \"\"\"\n",
    "    SELECT Borough, TaxiType, COUNT(*) AS TotalTrips\n",
    "    FROM global_temp.TaxiZones\n",
    "    LEFT JOIN\n",
    "    (\n",
    "        SELECT 'Yellow' AS TaxiType, PULocationID FROM YellowTaxis\n",
    "        UNION ALL\n",
    "        SELECT 'Green' AS TaxiType, PULocationID FROM YellowTaxis\n",
    "    ) AllTaxis\n",
    "    ON AllTaxis.PULocationID = TaxiZones.Location\n",
    "    GROUP BY Borough, TaxiType\n",
    "    ORDER BY Borough, TaxiType\n",
    "\n",
    "    \"\"\"\n",
    ").show()"
   ]
  },
  {
   "cell_type": "code",
   "execution_count": 16,
   "metadata": {},
   "outputs": [
    {
     "name": "stdout",
     "output_type": "stream",
     "text": [
      "+---------+\n",
      "|namespace|\n",
      "+---------+\n",
      "|  default|\n",
      "+---------+\n",
      "\n"
     ]
    }
   ],
   "source": [
    "spark.sql(\"\"\"\n",
    "\n",
    "    show databases\n",
    "\"\"\").show()"
   ]
  },
  {
   "cell_type": "markdown",
   "metadata": {},
   "source": [
    "\n",
    "CREATE SCHEMA:\n",
    "\n",
    "prod - manually  \n",
    "test - infer(dynamic) \n",
    "\n",
    "    (StructType([\\\n",
    "        StructField('name', Type(), Nullable),\\\n",
    "        ....\\\n",
    "    ]))\n",
    "\n"
   ]
  },
  {
   "cell_type": "code",
   "execution_count": 18,
   "metadata": {},
   "outputs": [
    {
     "name": "stdout",
     "output_type": "stream",
     "text": [
      "root\n",
      " |-- VendorID: integer (nullable = true)\n",
      " |-- tpep_pickup_datetime: timestamp (nullable = true)\n",
      " |-- tpep_dropoff_datetime: timestamp (nullable = true)\n",
      " |-- passenger_count: double (nullable = true)\n",
      " |-- trip_distance: double (nullable = true)\n",
      " |-- RatecodeID: double (nullable = true)\n",
      " |-- store_and_fwd_flag: string (nullable = true)\n",
      " |-- PULocationID: integer (nullable = true)\n",
      " |-- DOLocationID: integer (nullable = true)\n",
      " |-- payment_type: integer (nullable = true)\n",
      " |-- fare_amount: double (nullable = true)\n",
      " |-- extra: double (nullable = true)\n",
      " |-- mta_tax: double (nullable = true)\n",
      " |-- tip_amount: double (nullable = true)\n",
      " |-- tolls_amount: double (nullable = true)\n",
      " |-- improvement_surcharge: double (nullable = true)\n",
      " |-- total_amount: double (nullable = true)\n",
      " |-- congestion_surcharge: double (nullable = true)\n",
      " |-- airport_fee: double (nullable = true)\n",
      "\n"
     ]
    }
   ],
   "source": [
    "yellow_taxi_df.printSchema()\n"
   ]
  },
  {
   "cell_type": "code",
   "execution_count": 19,
   "metadata": {},
   "outputs": [
    {
     "name": "stdout",
     "output_type": "stream",
     "text": [
      "root\n",
      " |-- Location: integer (nullable = true)\n",
      " |-- Borough: string (nullable = true)\n",
      " |-- Zone: string (nullable = true)\n",
      " |-- ServiceZone: string (nullable = true)\n",
      "\n"
     ]
    }
   ],
   "source": [
    "taxi_zones_df.printSchema()"
   ]
  },
  {
   "cell_type": "code",
   "execution_count": 21,
   "metadata": {},
   "outputs": [],
   "source": [
    "joined = (\n",
    "    yellow_taxi_df.join(taxi_zones_df, \n",
    "        yellow_taxi_df.PULocationID == taxi_zones_df.Location,\n",
    "        'inner')\n",
    ")"
   ]
  },
  {
   "cell_type": "code",
   "execution_count": 24,
   "metadata": {},
   "outputs": [
    {
     "data": {
      "text/plain": [
       "0.5663333333333332"
      ]
     },
     "execution_count": 24,
     "metadata": {},
     "output_type": "execute_result"
    }
   ],
   "source": [
    "16.99/30"
   ]
  },
  {
   "cell_type": "code",
   "execution_count": 26,
   "metadata": {},
   "outputs": [
    {
     "data": {
      "text/plain": [
       "0.749375"
      ]
     },
     "execution_count": 26,
     "metadata": {},
     "output_type": "execute_result"
    }
   ],
   "source": [
    "35.97/48"
   ]
  },
  {
   "cell_type": "code",
   "execution_count": 23,
   "metadata": {},
   "outputs": [
    {
     "name": "stdout",
     "output_type": "stream",
     "text": [
      "+--------+--------------------+---------------------+---------------+-------------+----------+------------------+------------+------------+------------+-----------+-----+-------+----------+------------+---------------------+------------+--------------------+-----------+--------+---------+--------------------+-----------+\n",
      "|VendorID|tpep_pickup_datetime|tpep_dropoff_datetime|passenger_count|trip_distance|RatecodeID|store_and_fwd_flag|PULocationID|DOLocationID|payment_type|fare_amount|extra|mta_tax|tip_amount|tolls_amount|improvement_surcharge|total_amount|congestion_surcharge|airport_fee|Location|  Borough|                Zone|ServiceZone|\n",
      "+--------+--------------------+---------------------+---------------+-------------+----------+------------------+------------+------------+------------+-----------+-----+-------+----------+------------+---------------------+------------+--------------------+-----------+--------+---------+--------------------+-----------+\n",
      "|       1| 2022-10-01 03:03:41|  2022-10-01 03:18:39|            1.0|          1.7|       1.0|                 N|         249|         107|           1|        9.5|  3.0|    0.5|      2.65|         0.0|                  0.3|       15.95|                 2.5|        0.0|     249|Manhattan|        West Village|Yellow Zone|\n",
      "|       2| 2022-10-01 03:14:30|  2022-10-01 03:19:48|            2.0|         0.72|       1.0|                 N|         151|         238|           2|        5.5|  0.5|    0.5|       0.0|         0.0|                  0.3|         9.3|                 2.5|        0.0|     151|Manhattan|    Manhattan Valley|Yellow Zone|\n",
      "|       2| 2022-10-01 03:27:13|  2022-10-01 03:37:41|            1.0|         1.74|       1.0|                 N|         238|         166|           1|        9.0|  0.5|    0.5|      2.06|         0.0|                  0.3|       12.36|                 0.0|        0.0|     238|Manhattan|Upper West Side N...|Yellow Zone|\n",
      "|       1| 2022-10-01 03:32:53|  2022-10-01 03:38:55|            0.0|          1.3|       1.0|                 N|         142|         239|           1|        6.5|  3.0|    0.5|      2.05|         0.0|                  0.3|       12.35|                 2.5|        0.0|     142|Manhattan| Lincoln Square East|Yellow Zone|\n",
      "|       1| 2022-10-01 03:44:55|  2022-10-01 03:50:21|            0.0|          1.0|       1.0|                 N|         238|         166|           1|        6.0|  0.5|    0.5|       1.8|         0.0|                  0.3|         9.1|                 0.0|        0.0|     238|Manhattan|Upper West Side N...|Yellow Zone|\n",
      "|       1| 2022-10-01 03:22:52|  2022-10-01 03:52:14|            1.0|          6.8|       1.0|                 Y|         186|          41|           2|       25.5|  3.0|    0.5|       0.0|         0.0|                  0.3|        29.3|                 2.5|        0.0|     186|Manhattan|Penn Station/Madi...|Yellow Zone|\n",
      "|       2| 2022-10-01 03:33:19|  2022-10-01 03:44:51|            3.0|         1.88|       1.0|                 N|         162|         145|           2|       10.5|  0.5|    0.5|       0.0|         0.0|                  0.3|        14.3|                 2.5|        0.0|     162|Manhattan|        Midtown East|Yellow Zone|\n",
      "|       1| 2022-10-01 03:02:42|  2022-10-01 03:50:01|            1.0|         12.2|       1.0|                 N|         100|          22|           1|       41.0|  3.0|    0.5|       3.0|         0.0|                  0.3|        47.8|                 2.5|        0.0|     100|Manhattan|    Garment District|Yellow Zone|\n",
      "|       2| 2022-10-01 03:06:35|  2022-10-01 03:24:38|            1.0|         7.79|       1.0|                 N|         138|         112|           1|       23.5|  0.5|    0.5|      4.96|         0.0|                  0.3|       31.01|                 0.0|       1.25|     138|   Queens|   LaGuardia Airport|   Airports|\n",
      "|       2| 2022-10-01 03:29:25|  2022-10-01 03:43:15|            1.0|         4.72|       1.0|                 N|         145|          75|           1|       14.5|  0.5|    0.5|       1.5|         0.0|                  0.3|        19.8|                 2.5|        0.0|     145|   Queens|Long Island City/...|  Boro Zone|\n",
      "|       1| 2022-10-01 03:01:55|  2022-10-01 03:20:16|            1.0|          8.8|       1.0|                 N|         138|         236|           1|       26.0| 4.25|    0.5|      5.64|        6.55|                  0.3|       43.24|                 2.5|       1.25|     138|   Queens|   LaGuardia Airport|   Airports|\n",
      "|       1| 2022-10-01 03:27:48|  2022-10-01 03:59:50|            1.0|          8.6|       1.0|                 N|         140|          36|           1|       29.5|  3.0|    0.5|       6.0|         0.0|                  0.3|        39.3|                 2.5|        0.0|     140|Manhattan|     Lenox Hill East|Yellow Zone|\n",
      "|       1| 2022-10-01 03:05:27|  2022-10-01 03:35:33|            4.0|         12.0|       1.0|                 N|          70|         230|           2|       36.5|  3.0|    0.5|       0.0|        6.55|                  0.3|       46.85|                 2.5|        0.0|      70|   Queens|       East Elmhurst|  Boro Zone|\n",
      "|       1| 2022-10-01 03:38:53|  2022-10-01 03:48:13|            2.0|          1.4|       1.0|                 N|         230|          68|           1|        8.5|  3.0|    0.5|      3.05|         0.0|                  0.3|       15.35|                 2.5|        0.0|     230|Manhattan|Times Sq/Theatre ...|Yellow Zone|\n",
      "|       2| 2022-10-01 03:24:40|  2022-10-01 03:30:23|            1.0|         0.76|       1.0|                 N|          79|         113|           1|        5.5|  0.5|    0.5|      0.93|         0.0|                  0.3|       10.23|                 2.5|        0.0|      79|Manhattan|        East Village|Yellow Zone|\n",
      "|       2| 2022-10-01 03:32:22|  2022-10-01 03:58:55|            1.0|          7.8|       1.0|                 N|         113|         116|           1|       26.5|  0.5|    0.5|      6.06|         0.0|                  0.3|       36.36|                 2.5|        0.0|     113|Manhattan|Greenwich Village...|Yellow Zone|\n",
      "|       2| 2022-10-01 03:17:08|  2022-10-01 03:30:50|            2.0|          2.9|       1.0|                 N|          13|         249|           1|       12.0|  0.5|    0.5|       2.8|         0.0|                  0.3|        18.6|                 2.5|        0.0|      13|Manhattan|   Battery Park City|Yellow Zone|\n",
      "|       2| 2022-10-01 03:32:14|  2022-10-01 03:44:35|            1.0|         1.71|       1.0|                 N|         249|          79|           1|        9.0|  0.5|    0.5|      2.56|         0.0|                  0.3|       15.36|                 2.5|        0.0|     249|Manhattan|        West Village|Yellow Zone|\n",
      "|       2| 2022-10-01 03:09:24|  2022-10-01 03:21:45|            1.0|          2.3|       1.0|                 N|          48|         249|           1|       10.0|  0.5|    0.5|      2.76|         0.0|                  0.3|       16.56|                 2.5|        0.0|      48|Manhattan|        Clinton East|Yellow Zone|\n",
      "|       2| 2022-10-01 03:22:29|  2022-10-01 03:33:53|            2.0|         1.67|       1.0|                 N|         249|         224|           1|        8.5|  0.5|    0.5|      2.46|         0.0|                  0.3|       14.76|                 2.5|        0.0|     249|Manhattan|        West Village|Yellow Zone|\n",
      "+--------+--------------------+---------------------+---------------+-------------+----------+------------------+------------+------------+------------+-----------+-----+-------+----------+------------+---------------------+------------+--------------------+-----------+--------+---------+--------------------+-----------+\n",
      "only showing top 20 rows\n",
      "\n"
     ]
    }
   ],
   "source": [
    "joined.show()"
   ]
  },
  {
   "cell_type": "code",
   "execution_count": 28,
   "metadata": {},
   "outputs": [],
   "source": [
    "data = [\n",
    "    ['Sales', 'Anna' ,8000],\n",
    "    ['Marketing', 'Steve', 9500],\n",
    "    ['Tech', 'Christina', 9000],\n",
    "    ['Marketing', 'Neha', 10500],\n",
    "    ['Tech', 'Kari', 10000],\n",
    "    ['Sales', 'Ivan', 10000],\n",
    "    ['Tech', 'Mohit', 8000],\n",
    "]\n",
    "    \n",
    "\n",
    "#RDD\n",
    "employees_rdd = sc.parallelize(data)"
   ]
  },
  {
   "cell_type": "code",
   "execution_count": 29,
   "metadata": {},
   "outputs": [
    {
     "name": "stderr",
     "output_type": "stream",
     "text": [
      "                                                                                \r"
     ]
    }
   ],
   "source": [
    "#DF\n",
    "employees_df =  employees_rdd.toDF(['department', 'employee', 'salary'])"
   ]
  },
  {
   "cell_type": "code",
   "execution_count": 30,
   "metadata": {},
   "outputs": [
    {
     "name": "stdout",
     "output_type": "stream",
     "text": [
      "+----------+---------+------+\n",
      "|department| employee|salary|\n",
      "+----------+---------+------+\n",
      "|     Sales|     Anna|  8000|\n",
      "| Marketing|    Steve|  9500|\n",
      "|      Tech|Christina|  9000|\n",
      "| Marketing|     Neha| 10500|\n",
      "|      Tech|     Kari| 10000|\n",
      "|     Sales|     Ivan| 10000|\n",
      "|      Tech|    Mohit|  8000|\n",
      "+----------+---------+------+\n",
      "\n"
     ]
    }
   ],
   "source": [
    "employees_df.show()"
   ]
  },
  {
   "cell_type": "code",
   "execution_count": null,
   "metadata": {},
   "outputs": [],
   "source": []
  }
 ],
 "metadata": {
  "kernelspec": {
   "display_name": "Python 3",
   "language": "python",
   "name": "python3"
  },
  "language_info": {
   "codemirror_mode": {
    "name": "ipython",
    "version": 3
   },
   "file_extension": ".py",
   "mimetype": "text/x-python",
   "name": "python",
   "nbconvert_exporter": "python",
   "pygments_lexer": "ipython3",
   "version": "3.11.2"
  },
  "orig_nbformat": 4
 },
 "nbformat": 4,
 "nbformat_minor": 2
}
