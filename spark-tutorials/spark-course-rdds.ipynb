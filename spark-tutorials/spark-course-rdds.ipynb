{
 "cells": [
  {
   "cell_type": "code",
   "execution_count": 2,
   "metadata": {},
   "outputs": [],
   "source": [
    "from pyspark.sql import SparkSession"
   ]
  },
  {
   "cell_type": "code",
   "execution_count": 8,
   "metadata": {},
   "outputs": [],
   "source": [
    "spark = (\n",
    "            SparkSession\n",
    "            .builder\n",
    "            .master(\"local[*]\") \n",
    "            .appName('SparkCourse') \n",
    "            .getOrCreate()\n",
    "    )\n",
    "\n",
    "sc = spark.sparkContext"
   ]
  },
  {
   "cell_type": "code",
   "execution_count": 12,
   "metadata": {},
   "outputs": [
    {
     "name": "stderr",
     "output_type": "stream",
     "text": [
      "                                                                                \r"
     ]
    },
    {
     "data": {
      "text/plain": [
       "[('Staten Island', 1),\n",
       " ('Queens', 1),\n",
       " ('Bronx', 1),\n",
       " ('EWR', 1),\n",
       " ('Manhattan', 1),\n",
       " ('Unknown', 1),\n",
       " ('Brooklyn', 1)]"
      ]
     },
     "execution_count": 12,
     "metadata": {},
     "output_type": "execute_result"
    }
   ],
   "source": [
    "taxi_zones_rdd = sc.textFile(' TaxiZones.csv', 6)\n",
    "\n",
    "  \n",
    "taxi_zones_with_cols = taxi_zones_rdd.map(lambda zone: zone.split(','))\n",
    "# filtering\n",
    "filtered_zones_rdd = (\n",
    "            taxi_zones_with_cols\n",
    "                .filter(lambda zoneRow: zoneRow[1] == \"Manhattan\"\n",
    "                    and zoneRow[2].lower().startswith(\"central\"))\n",
    ")\n",
    "#####\n",
    "taxi_zones_pair_rdd = (\n",
    "                            taxi_zones_with_cols\n",
    "                            .map(lambda zoneRow: (zoneRow[1], 1))\n",
    "                    )\n",
    "distinct_zones_rdd = taxi_zones_pair_rdd.distinct()\n",
    "distinct_zones_rdd.collect()"
   ]
  },
  {
   "attachments": {},
   "cell_type": "markdown",
   "metadata": {},
   "source": [
    "##### Reduce by Key\n"
   ]
  },
  {
   "cell_type": "code",
<<<<<<< Updated upstream:spark-tutorials/spark-course-rdds.ipynb
   "execution_count": 13,
=======
   "execution_count": null,
   "metadata": {},
   "outputs": [],
   "source": [
    "8"
   ]
  },
  {
   "cell_type": "code",
   "execution_count": 5,
>>>>>>> Stashed changes:spark-course-rdds.ipynb
   "metadata": {},
   "outputs": [],
   "source": [
    "brought_count_rdd = (\n",
    "    taxi_zones_pair_rdd.reduceByKey(lambda value1, value2: value1 + value2)\n",
    ")"
   ]
  },
  {
   "cell_type": "code",
   "execution_count": 14,
   "metadata": {},
   "outputs": [
    {
     "data": {
      "text/plain": [
       "[('Bronx', 43),\n",
       " ('EWR', 1),\n",
       " ('Manhattan', 69),\n",
       " ('Brooklyn', 61),\n",
       " ('Queens', 69),\n",
       " ('Unknown', 2),\n",
       " ('Staten Island', 20)]"
      ]
     },
     "execution_count": 14,
     "metadata": {},
     "output_type": "execute_result"
    },
    {
     "name": "stdout",
     "output_type": "stream",
     "text": [
      "23/07/02 02:56:39 WARN HeartbeatReceiver: Removing executor driver with no recent heartbeats: 5126711 ms exceeds timeout 120000 ms\n",
      "23/07/02 02:56:39 WARN SparkContext: Killing executors is not supported by current scheduler.\n"
     ]
    }
   ],
   "source": [
    "brought_count_rdd.collect()"
   ]
  },
  {
   "attachments": {},
   "cell_type": "markdown",
   "metadata": {},
   "source": [
    "#### Pair_rdds"
   ]
  },
  {
   "cell_type": "code",
   "execution_count": 25,
   "metadata": {},
   "outputs": [
    {
     "data": {
      "text/plain": [
       "[['41', 'Manhattan', 'Central Harlem', 'Boro Zone'],\n",
       " ['42', 'Manhattan', 'Central Harlem North', 'Boro Zone'],\n",
       " ['43', 'Manhattan', 'Central Park', 'Yellow Zone']]"
      ]
     },
     "execution_count": 25,
     "metadata": {},
     "output_type": "execute_result"
    }
   ],
   "source": [
    "filtered_zones_rdd.collect()"
   ]
  },
  {
   "cell_type": "code",
   "execution_count": 22,
   "metadata": {},
   "outputs": [
    {
     "data": {
      "text/plain": [
       "6"
      ]
     },
     "execution_count": 22,
     "metadata": {},
     "output_type": "execute_result"
    }
   ],
   "source": [
    "taxi_zones_pair_rdd.getNumPartitions()"
   ]
  },
  {
   "cell_type": "code",
   "execution_count": 20,
   "metadata": {},
   "outputs": [
    {
     "data": {
      "text/plain": [
       "['1,EWR,Newark Airport,EWR',\n",
       " '2,Queens,Jamaica Bay,Boro Zone',\n",
       " '3,Bronx,Allerton/Pelham Gardens,Boro Zone',\n",
       " '4,Manhattan,Alphabet City,Yellow Zone',\n",
       " '5,Staten Island,Arden Heights,Boro Zone',\n",
       " '6,Staten Island,Arrochar/Fort Wadsworth,Boro Zone',\n",
       " '7,Queens,Astoria,Boro Zone',\n",
       " '8,Queens,Astoria Park,Boro Zone',\n",
       " '9,Queens,Auburndale,Boro Zone',\n",
       " '10,Queens,Baisley Park,Boro Zone',\n",
       " '11,Brooklyn,Bath Beach,Boro Zone',\n",
       " '12,Manhattan,Battery Park,Yellow Zone',\n",
       " '13,Manhattan,Battery Park City,Yellow Zone',\n",
       " '14,Brooklyn,Bay Ridge,Boro Zone',\n",
       " '15,Queens,Bay Terrace/Fort Totten,Boro Zone',\n",
       " '16,Queens,Bayside,Boro Zone',\n",
       " '17,Brooklyn,Bedford,Boro Zone',\n",
       " '18,Bronx,Bedford Park,Boro Zone',\n",
       " '19,Queens,Bellerose,Boro Zone',\n",
       " '20,Bronx,Belmont,Boro Zone',\n",
       " '21,Brooklyn,Bensonhurst East,Boro Zone',\n",
       " '22,Brooklyn,Bensonhurst West,Boro Zone',\n",
       " '23,Staten Island,Bloomfield/Emerson Hill,Boro Zone',\n",
       " '24,Manhattan,Bloomingdale,Yellow Zone',\n",
       " '25,Brooklyn,Boerum Hill,Boro Zone',\n",
       " '26,Brooklyn,Borough Park,Boro Zone',\n",
       " '27,Queens,Breezy Point/Fort Tilden/Riis Beach,Boro Zone',\n",
       " '28,Queens,Briarwood/Jamaica Hills,Boro Zone',\n",
       " '29,Brooklyn,Brighton Beach,Boro Zone',\n",
       " '30,Queens,Broad Channel,Boro Zone',\n",
       " '31,Bronx,Bronx Park,Boro Zone',\n",
       " '32,Bronx,Bronxdale,Boro Zone',\n",
       " '33,Brooklyn,Brooklyn Heights,Boro Zone',\n",
       " '34,Brooklyn,Brooklyn Navy Yard,Boro Zone',\n",
       " '35,Brooklyn,Brownsville,Boro Zone',\n",
       " '36,Brooklyn,Bushwick North,Boro Zone',\n",
       " '37,Brooklyn,Bushwick South,Boro Zone',\n",
       " '38,Queens,Cambria Heights,Boro Zone',\n",
       " '39,Brooklyn,Canarsie,Boro Zone',\n",
       " '40,Brooklyn,Carroll Gardens,Boro Zone',\n",
       " '41,Manhattan,Central Harlem,Boro Zone',\n",
       " '42,Manhattan,Central Harlem North,Boro Zone',\n",
       " '43,Manhattan,Central Park,Yellow Zone',\n",
       " '44,Staten Island,Charleston/Tottenville,Boro Zone',\n",
       " '45,Manhattan,Chinatown,Yellow Zone',\n",
       " '46,Bronx,City Island,Boro Zone',\n",
       " '47,Bronx,Claremont/Bathgate,Boro Zone',\n",
       " '48,Manhattan,Clinton East,Yellow Zone',\n",
       " '49,Brooklyn,Clinton Hill,Boro Zone',\n",
       " '50,Manhattan,Clinton West,Yellow Zone',\n",
       " '51,Bronx,Co-Op City,Boro Zone',\n",
       " '52,Brooklyn,Cobble Hill,Boro Zone',\n",
       " '53,Queens,College Point,Boro Zone',\n",
       " '54,Brooklyn,Columbia Street,Boro Zone',\n",
       " '55,Brooklyn,Coney Island,Boro Zone',\n",
       " '56,Queens,Corona,Boro Zone',\n",
       " '57,Queens,Corona,Boro Zone',\n",
       " '58,Bronx,Country Club,Boro Zone',\n",
       " '59,Bronx,Crotona Park,Boro Zone',\n",
       " '60,Bronx,Crotona Park East,Boro Zone',\n",
       " '61,Brooklyn,Crown Heights North,Boro Zone',\n",
       " '62,Brooklyn,Crown Heights South,Boro Zone',\n",
       " '63,Brooklyn,Cypress Hills,Boro Zone',\n",
       " '64,Queens,Douglaston,Boro Zone',\n",
       " '65,Brooklyn,Downtown Brooklyn/MetroTech,Boro Zone',\n",
       " '66,Brooklyn,DUMBO/Vinegar Hill,Boro Zone',\n",
       " '67,Brooklyn,Dyker Heights,Boro Zone',\n",
       " '68,Manhattan,East Chelsea,Yellow Zone',\n",
       " '69,Bronx,East Concourse/Concourse Village,Boro Zone',\n",
       " '70,Queens,East Elmhurst,Boro Zone',\n",
       " '71,Brooklyn,East Flatbush/Farragut,Boro Zone',\n",
       " '72,Brooklyn,East Flatbush/Remsen Village,Boro Zone',\n",
       " '73,Queens,East Flushing,Boro Zone',\n",
       " '74,Manhattan,East Harlem North,Boro Zone',\n",
       " '75,Manhattan,East Harlem South,Boro Zone',\n",
       " '76,Brooklyn,East New York,Boro Zone',\n",
       " '77,Brooklyn,East New York/Pennsylvania Avenue,Boro Zone',\n",
       " '78,Bronx,East Tremont,Boro Zone',\n",
       " '79,Manhattan,East Village,Yellow Zone',\n",
       " '80,Brooklyn,East Williamsburg,Boro Zone',\n",
       " '81,Bronx,Eastchester,Boro Zone',\n",
       " '82,Queens,Elmhurst,Boro Zone',\n",
       " '83,Queens,Elmhurst/Maspeth,Boro Zone',\n",
       " \"84,Staten Island,Eltingville/Annadale/Prince's Bay,Boro Zone\",\n",
       " '85,Brooklyn,Erasmus,Boro Zone',\n",
       " '86,Queens,Far Rockaway,Boro Zone',\n",
       " '87,Manhattan,Financial District North,Yellow Zone',\n",
       " '88,Manhattan,Financial District South,Yellow Zone',\n",
       " '89,Brooklyn,Flatbush/Ditmas Park,Boro Zone',\n",
       " '90,Manhattan,Flatiron,Yellow Zone',\n",
       " '91,Brooklyn,Flatlands,Boro Zone',\n",
       " '92,Queens,Flushing,Boro Zone',\n",
       " '93,Queens,Flushing Meadows-Corona Park,Boro Zone',\n",
       " '94,Bronx,Fordham South,Boro Zone',\n",
       " '95,Queens,Forest Hills,Boro Zone',\n",
       " '96,Queens,Forest Park/Highland Park,Boro Zone',\n",
       " '97,Brooklyn,Fort Greene,Boro Zone',\n",
       " '98,Queens,Fresh Meadows,Boro Zone',\n",
       " '99,Staten Island,Freshkills Park,Boro Zone',\n",
       " '100,Manhattan,Garment District,Yellow Zone',\n",
       " '101,Queens,Glen Oaks,Boro Zone',\n",
       " '102,Queens,Glendale,Boro Zone',\n",
       " \"103,Manhattan,Governor's Island/Ellis Island/Liberty Island,Yellow Zone\",\n",
       " \"104,Manhattan,Governor's Island/Ellis Island/Liberty Island,Yellow Zone\",\n",
       " \"105,Manhattan,Governor's Island/Ellis Island/Liberty Island,Yellow Zone\",\n",
       " '106,Brooklyn,Gowanus,Boro Zone',\n",
       " '107,Manhattan,Gramercy,Yellow Zone',\n",
       " '108,Brooklyn,Gravesend,Boro Zone',\n",
       " '109,Staten Island,Great Kills,Boro Zone',\n",
       " '110,Staten Island,Great Kills Park,Boro Zone',\n",
       " '111,Brooklyn,Green-Wood Cemetery,Boro Zone',\n",
       " '112,Brooklyn,Greenpoint,Boro Zone',\n",
       " '113,Manhattan,Greenwich Village North,Yellow Zone',\n",
       " '114,Manhattan,Greenwich Village South,Yellow Zone',\n",
       " '115,Staten Island,Grymes Hill/Clifton,Boro Zone',\n",
       " '116,Manhattan,Hamilton Heights,Boro Zone',\n",
       " '117,Queens,Hammels/Arverne,Boro Zone',\n",
       " '118,Staten Island,Heartland Village/Todt Hill,Boro Zone',\n",
       " '119,Bronx,Highbridge,Boro Zone',\n",
       " '120,Manhattan,Highbridge Park,Boro Zone',\n",
       " '121,Queens,Hillcrest/Pomonok,Boro Zone',\n",
       " '122,Queens,Hollis,Boro Zone',\n",
       " '123,Brooklyn,Homecrest,Boro Zone',\n",
       " '124,Queens,Howard Beach,Boro Zone',\n",
       " '125,Manhattan,Hudson Sq,Yellow Zone',\n",
       " '126,Bronx,Hunts Point,Boro Zone',\n",
       " '127,Manhattan,Inwood,Boro Zone',\n",
       " '128,Manhattan,Inwood Hill Park,Boro Zone',\n",
       " '129,Queens,Jackson Heights,Boro Zone',\n",
       " '130,Queens,Jamaica,Boro Zone',\n",
       " '131,Queens,Jamaica Estates,Boro Zone',\n",
       " '132,Queens,JFK Airport,Airports',\n",
       " '133,Brooklyn,Kensington,Boro Zone',\n",
       " '134,Queens,Kew Gardens,Boro Zone',\n",
       " '135,Queens,Kew Gardens Hills,Boro Zone',\n",
       " '136,Bronx,Kingsbridge Heights,Boro Zone',\n",
       " '137,Manhattan,Kips Bay,Yellow Zone',\n",
       " '138,Queens,LaGuardia Airport,Airports',\n",
       " '139,Queens,Laurelton,Boro Zone',\n",
       " '140,Manhattan,Lenox Hill East,Yellow Zone',\n",
       " '141,Manhattan,Lenox Hill West,Yellow Zone',\n",
       " '142,Manhattan,Lincoln Square East,Yellow Zone',\n",
       " '143,Manhattan,Lincoln Square West,Yellow Zone',\n",
       " '144,Manhattan,Little Italy/NoLiTa,Yellow Zone',\n",
       " '145,Queens,Long Island City/Hunters Point,Boro Zone',\n",
       " '146,Queens,Long Island City/Queens Plaza,Boro Zone',\n",
       " '147,Bronx,Longwood,Boro Zone',\n",
       " '148,Manhattan,Lower East Side,Yellow Zone',\n",
       " '149,Brooklyn,Madison,Boro Zone',\n",
       " '150,Brooklyn,Manhattan Beach,Boro Zone',\n",
       " '151,Manhattan,Manhattan Valley,Yellow Zone',\n",
       " '152,Manhattan,Manhattanville,Boro Zone',\n",
       " '153,Manhattan,Marble Hill,Boro Zone',\n",
       " '154,Brooklyn,Marine Park/Floyd Bennett Field,Boro Zone',\n",
       " '155,Brooklyn,Marine Park/Mill Basin,Boro Zone',\n",
       " '156,Staten Island,Mariners Harbor,Boro Zone',\n",
       " '157,Queens,Maspeth,Boro Zone',\n",
       " '158,Manhattan,Meatpacking/West Village West,Yellow Zone',\n",
       " '159,Bronx,Melrose South,Boro Zone',\n",
       " '160,Queens,Middle Village,Boro Zone',\n",
       " '161,Manhattan,Midtown Center,Yellow Zone',\n",
       " '162,Manhattan,Midtown East,Yellow Zone',\n",
       " '163,Manhattan,Midtown North,Yellow Zone',\n",
       " '164,Manhattan,Midtown South,Yellow Zone',\n",
       " '165,Brooklyn,Midwood,Boro Zone',\n",
       " '166,Manhattan,Morningside Heights,Boro Zone',\n",
       " '167,Bronx,Morrisania/Melrose,Boro Zone',\n",
       " '168,Bronx,Mott Haven/Port Morris,Boro Zone',\n",
       " '169,Bronx,Mount Hope,Boro Zone',\n",
       " '170,Manhattan,Murray Hill,Yellow Zone',\n",
       " '171,Queens,Murray Hill-Queens,Boro Zone',\n",
       " '172,Staten Island,New Dorp/Midland Beach,Boro Zone',\n",
       " '173,Queens,North Corona,Boro Zone',\n",
       " '174,Bronx,Norwood,Boro Zone',\n",
       " '175,Queens,Oakland Gardens,Boro Zone',\n",
       " '176,Staten Island,Oakwood,Boro Zone',\n",
       " '177,Brooklyn,Ocean Hill,Boro Zone',\n",
       " '178,Brooklyn,Ocean Parkway South,Boro Zone',\n",
       " '179,Queens,Old Astoria,Boro Zone',\n",
       " '180,Queens,Ozone Park,Boro Zone',\n",
       " '181,Brooklyn,Park Slope,Boro Zone',\n",
       " '182,Bronx,Parkchester,Boro Zone',\n",
       " '183,Bronx,Pelham Bay,Boro Zone',\n",
       " '184,Bronx,Pelham Bay Park,Boro Zone',\n",
       " '185,Bronx,Pelham Parkway,Boro Zone',\n",
       " '186,Manhattan,Penn Station/Madison Sq West,Yellow Zone',\n",
       " '187,Staten Island,Port Richmond,Boro Zone',\n",
       " '188,Brooklyn,Prospect-Lefferts Gardens,Boro Zone',\n",
       " '189,Brooklyn,Prospect Heights,Boro Zone',\n",
       " '190,Brooklyn,Prospect Park,Boro Zone',\n",
       " '191,Queens,Queens Village,Boro Zone',\n",
       " '192,Queens,Queensboro Hill,Boro Zone',\n",
       " '193,Queens,Queensbridge/Ravenswood,Boro Zone',\n",
       " '194,Manhattan,Randalls Island,Yellow Zone',\n",
       " '195,Brooklyn,Red Hook,Boro Zone',\n",
       " '196,Queens,Rego Park,Boro Zone',\n",
       " '197,Queens,Richmond Hill,Boro Zone',\n",
       " '198,Queens,Ridgewood,Boro Zone',\n",
       " '199,Bronx,Rikers Island,Boro Zone',\n",
       " '200,Bronx,Riverdale/North Riverdale/Fieldston,Boro Zone',\n",
       " '201,Queens,Rockaway Park,Boro Zone',\n",
       " '202,Manhattan,Roosevelt Island,Boro Zone',\n",
       " '203,Queens,Rosedale,Boro Zone',\n",
       " '204,Staten Island,Rossville/Woodrow,Boro Zone',\n",
       " '205,Queens,Saint Albans,Boro Zone',\n",
       " '206,Staten Island,Saint George/New Brighton,Boro Zone',\n",
       " '207,Queens,Saint Michaels Cemetery/Woodside,Boro Zone',\n",
       " '208,Bronx,Schuylerville/Edgewater Park,Boro Zone',\n",
       " '209,Manhattan,Seaport,Yellow Zone',\n",
       " '210,Brooklyn,Sheepshead Bay,Boro Zone',\n",
       " '211,Manhattan,SoHo,Yellow Zone',\n",
       " '212,Bronx,Soundview/Bruckner,Boro Zone',\n",
       " '213,Bronx,Soundview/Castle Hill,Boro Zone',\n",
       " '214,Staten Island,South Beach/Dongan Hills,Boro Zone',\n",
       " '215,Queens,South Jamaica,Boro Zone',\n",
       " '216,Queens,South Ozone Park,Boro Zone',\n",
       " '217,Brooklyn,South Williamsburg,Boro Zone',\n",
       " '218,Queens,Springfield Gardens North,Boro Zone',\n",
       " '219,Queens,Springfield Gardens South,Boro Zone',\n",
       " '220,Bronx,Spuyten Duyvil/Kingsbridge,Boro Zone',\n",
       " '221,Staten Island,Stapleton,Boro Zone',\n",
       " '222,Brooklyn,Starrett City,Boro Zone',\n",
       " '223,Queens,Steinway,Boro Zone',\n",
       " '224,Manhattan,Stuy Town/Peter Cooper Village,Yellow Zone',\n",
       " '225,Brooklyn,Stuyvesant Heights,Boro Zone',\n",
       " '226,Queens,Sunnyside,Boro Zone',\n",
       " '227,Brooklyn,Sunset Park East,Boro Zone',\n",
       " '228,Brooklyn,Sunset Park West,Boro Zone',\n",
       " '229,Manhattan,Sutton Place/Turtle Bay North,Yellow Zone',\n",
       " '230,Manhattan,Times Sq/Theatre District,Yellow Zone',\n",
       " '231,Manhattan,TriBeCa/Civic Center,Yellow Zone',\n",
       " '232,Manhattan,Two Bridges/Seward Park,Yellow Zone',\n",
       " '233,Manhattan,UN/Turtle Bay South,Yellow Zone',\n",
       " '234,Manhattan,Union Sq,Yellow Zone',\n",
       " '235,Bronx,University Heights/Morris Heights,Boro Zone',\n",
       " '236,Manhattan,Upper East Side North,Yellow Zone',\n",
       " '237,Manhattan,Upper East Side South,Yellow Zone',\n",
       " '238,Manhattan,Upper West Side North,Yellow Zone',\n",
       " '239,Manhattan,Upper West Side South,Yellow Zone',\n",
       " '240,Bronx,Van Cortlandt Park,Boro Zone',\n",
       " '241,Bronx,Van Cortlandt Village,Boro Zone',\n",
       " '242,Bronx,Van Nest/Morris Park,Boro Zone',\n",
       " '243,Manhattan,Washington Heights North,Boro Zone',\n",
       " '244,Manhattan,Washington Heights South,Boro Zone',\n",
       " '245,Staten Island,West Brighton,Boro Zone',\n",
       " '246,Manhattan,West Chelsea/Hudson Yards,Yellow Zone',\n",
       " '247,Bronx,West Concourse,Boro Zone',\n",
       " '248,Bronx,West Farms/Bronx River,Boro Zone',\n",
       " '249,Manhattan,West Village,Yellow Zone',\n",
       " '250,Bronx,Westchester Village/Unionport,Boro Zone',\n",
       " '251,Staten Island,Westerleigh,Boro Zone',\n",
       " '252,Queens,Whitestone,Boro Zone',\n",
       " '253,Queens,Willets Point,Boro Zone',\n",
       " '254,Bronx,Williamsbridge/Olinville,Boro Zone',\n",
       " '255,Brooklyn,Williamsburg (North Side),Boro Zone',\n",
       " '256,Brooklyn,Williamsburg (South Side),Boro Zone',\n",
       " '257,Brooklyn,Windsor Terrace,Boro Zone',\n",
       " '258,Queens,Woodhaven,Boro Zone',\n",
       " '259,Bronx,Woodlawn/Wakefield,Boro Zone',\n",
       " '260,Queens,Woodside,Boro Zone',\n",
       " '261,Manhattan,World Trade Center,Yellow Zone',\n",
       " '262,Manhattan,Yorkville East,Yellow Zone',\n",
       " '263,Manhattan,Yorkville West,Yellow Zone',\n",
       " '264,Unknown,NV,N/A',\n",
       " '265,Unknown,NA,N/A']"
      ]
     },
     "execution_count": 20,
     "metadata": {},
     "output_type": "execute_result"
    }
   ],
   "source": [
    "taxi_zones_rdd.collect()"
   ]
  },
  {
   "cell_type": "code",
   "execution_count": 19,
   "metadata": {},
   "outputs": [
    {
     "data": {
      "text/plain": [
       "4"
      ]
     },
     "execution_count": 19,
     "metadata": {},
     "output_type": "execute_result"
    }
   ],
   "source": [
    "distinct_zones_rdd.getNumPartitions()"
   ]
  },
  {
   "cell_type": "code",
   "execution_count": 14,
   "metadata": {},
   "outputs": [],
   "source": [
    "number_rdd = sc.parallelize([1,2,3,4,5])"
   ]
  },
  {
   "cell_type": "code",
   "execution_count": 15,
   "metadata": {},
   "outputs": [
    {
     "data": {
      "text/plain": [
       "[1, 2, 3, 4, 5]"
      ]
     },
     "execution_count": 15,
     "metadata": {},
     "output_type": "execute_result"
    }
   ],
   "source": [
    "number_rdd.collect()"
   ]
  },
  {
   "cell_type": "code",
   "execution_count": 16,
   "metadata": {},
   "outputs": [
    {
     "data": {
      "text/plain": [
       "8"
      ]
     },
     "execution_count": 16,
     "metadata": {},
     "output_type": "execute_result"
    }
   ],
   "source": [
    "number_rdd.getNumPartitions()"
   ]
  },
  {
   "cell_type": "code",
   "execution_count": 13,
   "metadata": {},
   "outputs": [
    {
     "ename": "Py4JJavaError",
     "evalue": "An error occurred while calling z:org.apache.spark.api.python.PythonRDD.collectAndServe.\n: org.apache.hadoop.mapred.InvalidInputException: Input path does not exist: file:/home/raddy/projects/DataLab/data/TaxiZones.csv\n\tat org.apache.hadoop.mapred.FileInputFormat.singleThreadedListStatus(FileInputFormat.java:304)\n\tat org.apache.hadoop.mapred.FileInputFormat.listStatus(FileInputFormat.java:244)\n\tat org.apache.hadoop.mapred.FileInputFormat.getSplits(FileInputFormat.java:332)\n\tat org.apache.spark.rdd.HadoopRDD.getPartitions(HadoopRDD.scala:208)\n\tat org.apache.spark.rdd.RDD.$anonfun$partitions$2(RDD.scala:292)\n\tat scala.Option.getOrElse(Option.scala:189)\n\tat org.apache.spark.rdd.RDD.partitions(RDD.scala:288)\n\tat org.apache.spark.rdd.MapPartitionsRDD.getPartitions(MapPartitionsRDD.scala:49)\n\tat org.apache.spark.rdd.RDD.$anonfun$partitions$2(RDD.scala:292)\n\tat scala.Option.getOrElse(Option.scala:189)\n\tat org.apache.spark.rdd.RDD.partitions(RDD.scala:288)\n\tat org.apache.spark.SparkContext.runJob(SparkContext.scala:2293)\n\tat org.apache.spark.rdd.RDD.$anonfun$collect$1(RDD.scala:1021)\n\tat org.apache.spark.rdd.RDDOperationScope$.withScope(RDDOperationScope.scala:151)\n\tat org.apache.spark.rdd.RDDOperationScope$.withScope(RDDOperationScope.scala:112)\n\tat org.apache.spark.rdd.RDD.withScope(RDD.scala:406)\n\tat org.apache.spark.rdd.RDD.collect(RDD.scala:1020)\n\tat org.apache.spark.api.python.PythonRDD$.collectAndServe(PythonRDD.scala:180)\n\tat org.apache.spark.api.python.PythonRDD.collectAndServe(PythonRDD.scala)\n\tat java.base/jdk.internal.reflect.NativeMethodAccessorImpl.invoke0(Native Method)\n\tat java.base/jdk.internal.reflect.NativeMethodAccessorImpl.invoke(NativeMethodAccessorImpl.java:62)\n\tat java.base/jdk.internal.reflect.DelegatingMethodAccessorImpl.invoke(DelegatingMethodAccessorImpl.java:43)\n\tat java.base/java.lang.reflect.Method.invoke(Method.java:566)\n\tat py4j.reflection.MethodInvoker.invoke(MethodInvoker.java:244)\n\tat py4j.reflection.ReflectionEngine.invoke(ReflectionEngine.java:357)\n\tat py4j.Gateway.invoke(Gateway.java:282)\n\tat py4j.commands.AbstractCommand.invokeMethod(AbstractCommand.java:132)\n\tat py4j.commands.CallCommand.execute(CallCommand.java:79)\n\tat py4j.ClientServerConnection.waitForCommands(ClientServerConnection.java:182)\n\tat py4j.ClientServerConnection.run(ClientServerConnection.java:106)\n\tat java.base/java.lang.Thread.run(Thread.java:829)\nCaused by: java.io.IOException: Input path does not exist: file:/home/raddy/projects/DataLab/data/TaxiZones.csv\n\tat org.apache.hadoop.mapred.FileInputFormat.singleThreadedListStatus(FileInputFormat.java:278)\n\t... 30 more\n",
     "output_type": "error",
     "traceback": [
      "\u001b[0;31m---------------------------------------------------------------------------\u001b[0m",
      "\u001b[0;31mPy4JJavaError\u001b[0m                             Traceback (most recent call last)",
      "Cell \u001b[0;32mIn[13], line 1\u001b[0m\n\u001b[0;32m----> 1\u001b[0m taxi_zones_rdd\u001b[39m.\u001b[39;49mcollect()\n",
      "File \u001b[0;32m~/.pyenv/versions/3.10.10/lib/python3.10/site-packages/pyspark/rdd.py:1197\u001b[0m, in \u001b[0;36mRDD.collect\u001b[0;34m(self)\u001b[0m\n\u001b[1;32m   1195\u001b[0m \u001b[39mwith\u001b[39;00m SCCallSiteSync(\u001b[39mself\u001b[39m\u001b[39m.\u001b[39mcontext):\n\u001b[1;32m   1196\u001b[0m     \u001b[39massert\u001b[39;00m \u001b[39mself\u001b[39m\u001b[39m.\u001b[39mctx\u001b[39m.\u001b[39m_jvm \u001b[39mis\u001b[39;00m \u001b[39mnot\u001b[39;00m \u001b[39mNone\u001b[39;00m\n\u001b[0;32m-> 1197\u001b[0m     sock_info \u001b[39m=\u001b[39m \u001b[39mself\u001b[39;49m\u001b[39m.\u001b[39;49mctx\u001b[39m.\u001b[39;49m_jvm\u001b[39m.\u001b[39;49mPythonRDD\u001b[39m.\u001b[39;49mcollectAndServe(\u001b[39mself\u001b[39;49m\u001b[39m.\u001b[39;49m_jrdd\u001b[39m.\u001b[39;49mrdd())\n\u001b[1;32m   1198\u001b[0m \u001b[39mreturn\u001b[39;00m \u001b[39mlist\u001b[39m(_load_from_socket(sock_info, \u001b[39mself\u001b[39m\u001b[39m.\u001b[39m_jrdd_deserializer))\n",
      "File \u001b[0;32m~/.pyenv/versions/3.10.10/lib/python3.10/site-packages/py4j/java_gateway.py:1321\u001b[0m, in \u001b[0;36mJavaMember.__call__\u001b[0;34m(self, *args)\u001b[0m\n\u001b[1;32m   1315\u001b[0m command \u001b[39m=\u001b[39m proto\u001b[39m.\u001b[39mCALL_COMMAND_NAME \u001b[39m+\u001b[39m\\\n\u001b[1;32m   1316\u001b[0m     \u001b[39mself\u001b[39m\u001b[39m.\u001b[39mcommand_header \u001b[39m+\u001b[39m\\\n\u001b[1;32m   1317\u001b[0m     args_command \u001b[39m+\u001b[39m\\\n\u001b[1;32m   1318\u001b[0m     proto\u001b[39m.\u001b[39mEND_COMMAND_PART\n\u001b[1;32m   1320\u001b[0m answer \u001b[39m=\u001b[39m \u001b[39mself\u001b[39m\u001b[39m.\u001b[39mgateway_client\u001b[39m.\u001b[39msend_command(command)\n\u001b[0;32m-> 1321\u001b[0m return_value \u001b[39m=\u001b[39m get_return_value(\n\u001b[1;32m   1322\u001b[0m     answer, \u001b[39mself\u001b[39;49m\u001b[39m.\u001b[39;49mgateway_client, \u001b[39mself\u001b[39;49m\u001b[39m.\u001b[39;49mtarget_id, \u001b[39mself\u001b[39;49m\u001b[39m.\u001b[39;49mname)\n\u001b[1;32m   1324\u001b[0m \u001b[39mfor\u001b[39;00m temp_arg \u001b[39min\u001b[39;00m temp_args:\n\u001b[1;32m   1325\u001b[0m     temp_arg\u001b[39m.\u001b[39m_detach()\n",
      "File \u001b[0;32m~/.pyenv/versions/3.10.10/lib/python3.10/site-packages/pyspark/sql/utils.py:190\u001b[0m, in \u001b[0;36mcapture_sql_exception.<locals>.deco\u001b[0;34m(*a, **kw)\u001b[0m\n\u001b[1;32m    188\u001b[0m \u001b[39mdef\u001b[39;00m \u001b[39mdeco\u001b[39m(\u001b[39m*\u001b[39ma: Any, \u001b[39m*\u001b[39m\u001b[39m*\u001b[39mkw: Any) \u001b[39m-\u001b[39m\u001b[39m>\u001b[39m Any:\n\u001b[1;32m    189\u001b[0m     \u001b[39mtry\u001b[39;00m:\n\u001b[0;32m--> 190\u001b[0m         \u001b[39mreturn\u001b[39;00m f(\u001b[39m*\u001b[39;49ma, \u001b[39m*\u001b[39;49m\u001b[39m*\u001b[39;49mkw)\n\u001b[1;32m    191\u001b[0m     \u001b[39mexcept\u001b[39;00m Py4JJavaError \u001b[39mas\u001b[39;00m e:\n\u001b[1;32m    192\u001b[0m         converted \u001b[39m=\u001b[39m convert_exception(e\u001b[39m.\u001b[39mjava_exception)\n",
      "File \u001b[0;32m~/.pyenv/versions/3.10.10/lib/python3.10/site-packages/py4j/protocol.py:326\u001b[0m, in \u001b[0;36mget_return_value\u001b[0;34m(answer, gateway_client, target_id, name)\u001b[0m\n\u001b[1;32m    324\u001b[0m value \u001b[39m=\u001b[39m OUTPUT_CONVERTER[\u001b[39mtype\u001b[39m](answer[\u001b[39m2\u001b[39m:], gateway_client)\n\u001b[1;32m    325\u001b[0m \u001b[39mif\u001b[39;00m answer[\u001b[39m1\u001b[39m] \u001b[39m==\u001b[39m REFERENCE_TYPE:\n\u001b[0;32m--> 326\u001b[0m     \u001b[39mraise\u001b[39;00m Py4JJavaError(\n\u001b[1;32m    327\u001b[0m         \u001b[39m\"\u001b[39m\u001b[39mAn error occurred while calling \u001b[39m\u001b[39m{0}\u001b[39;00m\u001b[39m{1}\u001b[39;00m\u001b[39m{2}\u001b[39;00m\u001b[39m.\u001b[39m\u001b[39m\\n\u001b[39;00m\u001b[39m\"\u001b[39m\u001b[39m.\u001b[39m\n\u001b[1;32m    328\u001b[0m         \u001b[39mformat\u001b[39m(target_id, \u001b[39m\"\u001b[39m\u001b[39m.\u001b[39m\u001b[39m\"\u001b[39m, name), value)\n\u001b[1;32m    329\u001b[0m \u001b[39melse\u001b[39;00m:\n\u001b[1;32m    330\u001b[0m     \u001b[39mraise\u001b[39;00m Py4JError(\n\u001b[1;32m    331\u001b[0m         \u001b[39m\"\u001b[39m\u001b[39mAn error occurred while calling \u001b[39m\u001b[39m{0}\u001b[39;00m\u001b[39m{1}\u001b[39;00m\u001b[39m{2}\u001b[39;00m\u001b[39m. Trace:\u001b[39m\u001b[39m\\n\u001b[39;00m\u001b[39m{3}\u001b[39;00m\u001b[39m\\n\u001b[39;00m\u001b[39m\"\u001b[39m\u001b[39m.\u001b[39m\n\u001b[1;32m    332\u001b[0m         \u001b[39mformat\u001b[39m(target_id, \u001b[39m\"\u001b[39m\u001b[39m.\u001b[39m\u001b[39m\"\u001b[39m, name, value))\n",
      "\u001b[0;31mPy4JJavaError\u001b[0m: An error occurred while calling z:org.apache.spark.api.python.PythonRDD.collectAndServe.\n: org.apache.hadoop.mapred.InvalidInputException: Input path does not exist: file:/home/raddy/projects/DataLab/data/TaxiZones.csv\n\tat org.apache.hadoop.mapred.FileInputFormat.singleThreadedListStatus(FileInputFormat.java:304)\n\tat org.apache.hadoop.mapred.FileInputFormat.listStatus(FileInputFormat.java:244)\n\tat org.apache.hadoop.mapred.FileInputFormat.getSplits(FileInputFormat.java:332)\n\tat org.apache.spark.rdd.HadoopRDD.getPartitions(HadoopRDD.scala:208)\n\tat org.apache.spark.rdd.RDD.$anonfun$partitions$2(RDD.scala:292)\n\tat scala.Option.getOrElse(Option.scala:189)\n\tat org.apache.spark.rdd.RDD.partitions(RDD.scala:288)\n\tat org.apache.spark.rdd.MapPartitionsRDD.getPartitions(MapPartitionsRDD.scala:49)\n\tat org.apache.spark.rdd.RDD.$anonfun$partitions$2(RDD.scala:292)\n\tat scala.Option.getOrElse(Option.scala:189)\n\tat org.apache.spark.rdd.RDD.partitions(RDD.scala:288)\n\tat org.apache.spark.SparkContext.runJob(SparkContext.scala:2293)\n\tat org.apache.spark.rdd.RDD.$anonfun$collect$1(RDD.scala:1021)\n\tat org.apache.spark.rdd.RDDOperationScope$.withScope(RDDOperationScope.scala:151)\n\tat org.apache.spark.rdd.RDDOperationScope$.withScope(RDDOperationScope.scala:112)\n\tat org.apache.spark.rdd.RDD.withScope(RDD.scala:406)\n\tat org.apache.spark.rdd.RDD.collect(RDD.scala:1020)\n\tat org.apache.spark.api.python.PythonRDD$.collectAndServe(PythonRDD.scala:180)\n\tat org.apache.spark.api.python.PythonRDD.collectAndServe(PythonRDD.scala)\n\tat java.base/jdk.internal.reflect.NativeMethodAccessorImpl.invoke0(Native Method)\n\tat java.base/jdk.internal.reflect.NativeMethodAccessorImpl.invoke(NativeMethodAccessorImpl.java:62)\n\tat java.base/jdk.internal.reflect.DelegatingMethodAccessorImpl.invoke(DelegatingMethodAccessorImpl.java:43)\n\tat java.base/java.lang.reflect.Method.invoke(Method.java:566)\n\tat py4j.reflection.MethodInvoker.invoke(MethodInvoker.java:244)\n\tat py4j.reflection.ReflectionEngine.invoke(ReflectionEngine.java:357)\n\tat py4j.Gateway.invoke(Gateway.java:282)\n\tat py4j.commands.AbstractCommand.invokeMethod(AbstractCommand.java:132)\n\tat py4j.commands.CallCommand.execute(CallCommand.java:79)\n\tat py4j.ClientServerConnection.waitForCommands(ClientServerConnection.java:182)\n\tat py4j.ClientServerConnection.run(ClientServerConnection.java:106)\n\tat java.base/java.lang.Thread.run(Thread.java:829)\nCaused by: java.io.IOException: Input path does not exist: file:/home/raddy/projects/DataLab/data/TaxiZones.csv\n\tat org.apache.hadoop.mapred.FileInputFormat.singleThreadedListStatus(FileInputFormat.java:278)\n\t... 30 more\n"
     ]
    }
   ],
   "source": [
    "taxi_zones_rdd.collect()\n"
   ]
  },
  {
   "cell_type": "code",
   "execution_count": 7,
   "metadata": {},
   "outputs": [
    {
     "name": "stdout",
     "output_type": "stream",
     "text": [
      "Collecting findspark\n",
      "  Downloading findspark-2.0.1-py2.py3-none-any.whl (4.4 kB)\n",
      "Installing collected packages: findspark\n",
      "Successfully installed findspark-2.0.1\n",
      "Note: you may need to restart the kernel to use updated packages.\n"
     ]
    }
   ],
   "source": [
    "pip install findspark"
   ]
  },
  {
   "cell_type": "code",
   "execution_count": 8,
   "metadata": {},
   "outputs": [
    {
     "data": {
      "text/plain": [
       "'/home/raddy/.pyenv/versions/3.10.10/lib/python3.10/site-packages/pyspark'"
      ]
     },
     "execution_count": 8,
     "metadata": {},
     "output_type": "execute_result"
    }
   ],
   "source": [
    "import findspark\n",
    "\n",
    "findspark.init()\n",
    "findspark.find()"
   ]
  },
  {
   "cell_type": "code",
   "execution_count": 2,
   "metadata": {},
   "outputs": [
    {
     "name": "stdout",
     "output_type": "stream",
     "text": [
      "23/06/05 08:55:20 WARN Utils: Your hostname, ProBook resolves to a loopback address: 127.0.1.1; using 172.22.34.28 instead (on interface eth0)\n",
      "23/06/05 08:55:20 WARN Utils: Set SPARK_LOCAL_IP if you need to bind to another address\n"
     ]
    },
    {
     "name": "stderr",
     "output_type": "stream",
     "text": [
      "Setting default log level to \"WARN\".\n",
      "To adjust logging level use sc.setLogLevel(newLevel). For SparkR, use setLogLevel(newLevel).\n"
     ]
    },
    {
     "name": "stdout",
     "output_type": "stream",
     "text": [
      "23/06/05 08:55:21 WARN NativeCodeLoader: Unable to load native-hadoop library for your platform... using builtin-java classes where applicable\n"
     ]
    },
    {
     "data": {
      "text/html": [
       "\n",
       "            <div>\n",
       "                <p><b>SparkSession - in-memory</b></p>\n",
       "                \n",
       "        <div>\n",
       "            <p><b>SparkContext</b></p>\n",
       "\n",
       "            <p><a href=\"http://172.22.34.28:4040\">Spark UI</a></p>\n",
       "\n",
       "            <dl>\n",
       "              <dt>Version</dt>\n",
       "                <dd><code>v3.3.0</code></dd>\n",
       "              <dt>Master</dt>\n",
       "                <dd><code>spark://ProBook:7077</code></dd>\n",
       "              <dt>AppName</dt>\n",
       "                <dd><code>TestLocal</code></dd>\n",
       "            </dl>\n",
       "        </div>\n",
       "        \n",
       "            </div>\n",
       "        "
      ],
      "text/plain": [
       "<pyspark.sql.session.SparkSession at 0x7fad044a57b0>"
      ]
     },
     "execution_count": 2,
     "metadata": {},
     "output_type": "execute_result"
    },
    {
     "name": "stdout",
     "output_type": "stream",
     "text": [
      "23/06/05 21:11:21 ERROR TaskSchedulerImpl: Lost executor 0 on ProBook: Remote RPC client disassociated. Likely due to containers exceeding thresholds, or network issues. Check driver logs for WARN messages.\n",
      "23/06/05 21:11:29 ERROR TaskSchedulerImpl: Lost executor 1 on ProBook: Remote RPC client disassociated. Likely due to containers exceeding thresholds, or network issues. Check driver logs for WARN messages.\n",
      "23/06/05 21:11:30 ERROR StandaloneSchedulerBackend: Application has been killed. Reason: Master removed our application: FAILED\n",
      "23/06/05 21:11:30 ERROR Inbox: Ignoring error\n",
      "org.apache.spark.SparkException: Exiting due to error from cluster scheduler: Master removed our application: FAILED\n",
      "\tat org.apache.spark.errors.SparkCoreErrors$.clusterSchedulerError(SparkCoreErrors.scala:218)\n",
      "\tat org.apache.spark.scheduler.TaskSchedulerImpl.error(TaskSchedulerImpl.scala:923)\n",
      "\tat org.apache.spark.scheduler.cluster.StandaloneSchedulerBackend.dead(StandaloneSchedulerBackend.scala:154)\n",
      "\tat org.apache.spark.deploy.client.StandaloneAppClient$ClientEndpoint.markDead(StandaloneAppClient.scala:262)\n",
      "\tat org.apache.spark.deploy.client.StandaloneAppClient$ClientEndpoint$$anonfun$receive$1.applyOrElse(StandaloneAppClient.scala:169)\n",
      "\tat org.apache.spark.rpc.netty.Inbox.$anonfun$process$1(Inbox.scala:115)\n",
      "\tat org.apache.spark.rpc.netty.Inbox.safelyCall(Inbox.scala:213)\n",
      "\tat org.apache.spark.rpc.netty.Inbox.process(Inbox.scala:100)\n",
      "\tat org.apache.spark.rpc.netty.MessageLoop.org$apache$spark$rpc$netty$MessageLoop$$receiveLoop(MessageLoop.scala:75)\n",
      "\tat org.apache.spark.rpc.netty.MessageLoop$$anon$1.run(MessageLoop.scala:41)\n",
      "\tat java.base/java.util.concurrent.ThreadPoolExecutor.runWorker(ThreadPoolExecutor.java:1128)\n",
      "\tat java.base/java.util.concurrent.ThreadPoolExecutor$Worker.run(ThreadPoolExecutor.java:628)\n",
      "\tat java.base/java.lang.Thread.run(Thread.java:829)\n"
     ]
    }
   ],
   "source": [
    "from pyspark.sql import SparkSession\n",
    "from pyspark.sql.types import *\n",
    "\n",
    "spark = SparkSession \\\n",
    "            .builder \\\n",
    "            .appName(\"TestLocal\") \\\n",
    "            .master('spark://ProBook:7077') \\\n",
    "            .config('spark.dynamicAllocation.enabled', 'false') \\\n",
    "            .config('spark.cores.max', '4') \\\n",
    "            .config('spark.executor.memory', '2g') \\\n",
    "            .config('spark.executors.cores', '2') \\\n",
    "            .getOrCreate()\n",
    "\n",
    "\n",
    "spark"
   ]
  },
  {
   "cell_type": "code",
   "execution_count": null,
   "metadata": {},
   "outputs": [],
   "source": []
  }
 ],
 "metadata": {
  "kernelspec": {
   "display_name": "Python 3",
   "language": "python",
   "name": "python3"
  },
  "language_info": {
   "codemirror_mode": {
    "name": "ipython",
    "version": 3
   },
   "file_extension": ".py",
   "mimetype": "text/x-python",
   "name": "python",
   "nbconvert_exporter": "python",
   "pygments_lexer": "ipython3",
   "version": "3.10.6"
  },
  "orig_nbformat": 4
 },
 "nbformat": 4,
 "nbformat_minor": 2
}
