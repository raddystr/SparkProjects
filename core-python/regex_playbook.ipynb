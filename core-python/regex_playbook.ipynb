{
 "cells": [
  {
   "cell_type": "code",
   "execution_count": 1,
   "metadata": {},
   "outputs": [],
   "source": [
    "import re"
   ]
  },
  {
   "cell_type": "markdown",
   "metadata": {},
   "source": [
    "##### Match"
   ]
  },
  {
   "cell_type": "code",
   "execution_count": 11,
   "metadata": {},
   "outputs": [
    {
     "name": "stdout",
     "output_type": "stream",
     "text": [
      "The date string 111-01-01 is not valid!\n"
     ]
    }
   ],
   "source": [
    "text = 'This is a sample text'\n",
    "pattern = '\\d{4}-\\d{2}-\\d{2}'\n",
    "date_string = '2018-01-01'\n",
    "\n",
    "match = re.fullmatch(pattern, date_string)\n",
    "\n",
    "if match:\n",
    "    print('found')\n",
    "else:\n",
    "    print('not found')"
   ]
  },
  {
   "cell_type": "markdown",
   "metadata": {},
   "source": [
    "##### Full match"
   ]
  },
  {
   "cell_type": "code",
   "execution_count": 12,
   "metadata": {},
   "outputs": [
    {
     "name": "stdout",
     "output_type": "stream",
     "text": [
      "The date string 111-01-01 is not valid!\n"
     ]
    }
   ],
   "source": [
    "text = 'This is a sample text'\n",
    "pattern = '\\d{4}-\\d{2}-\\d{2}'\n",
    "date_string = '111-01-01'\n",
    "\n",
    "match = re.fullmatch(pattern, date_string)\n",
    "\n",
    "if match:\n",
    "    print(f'The date string {date_string} is valid!')\n",
    "else:\n",
    "    print(f'The date string {date_string} is not valid!')"
   ]
  },
  {
   "cell_type": "code",
   "execution_count": 15,
   "metadata": {},
   "outputs": [
    {
     "name": "stdout",
     "output_type": "stream",
     "text": [
      "['19', '99', '12', '50']\n"
     ]
    }
   ],
   "source": [
    "pattern = r'\\d+'\n",
    "text = 'This price of the book is $19.99 and the price of the moviie is $12.50'\n",
    "\n",
    "matches = re.findall(pattern, text)\n",
    "print(matches)"
   ]
  },
  {
   "cell_type": "markdown",
   "metadata": {},
   "source": [
    "##### REPLACE "
   ]
  },
  {
   "cell_type": "code",
   "execution_count": 16,
   "metadata": {},
   "outputs": [
    {
     "name": "stdout",
     "output_type": "stream",
     "text": [
      "The quick brown fox jumps **** the **** dog\n"
     ]
    }
   ],
   "source": [
    "import re\n",
    "\n",
    "pattern = r'\\b\\w{4}\\b'\n",
    "text = 'The quick brown fox jumps over the lazy dog'\n",
    "\n",
    "new_text = re.sub(pattern, '****', text)\n",
    "print(new_text)"
   ]
  },
  {
   "cell_type": "markdown",
   "metadata": {},
   "source": [
    "##### Substring"
   ]
  },
  {
   "cell_type": "code",
   "execution_count": 17,
   "metadata": {},
   "outputs": [
    {
     "name": "stdout",
     "output_type": "stream",
     "text": [
      "['The', 'quick', 'brown', 'fox', 'jumps', 'over', 'the', 'lazy', 'dog']\n"
     ]
    }
   ],
   "source": [
    "pattern = r'\\s+'\n",
    "text = 'The quick brown fox jumps over the lazy dog'\n",
    "\n",
    "words = re.split(pattern, text)\n",
    "print(words)"
   ]
  },
  {
   "cell_type": "code",
   "execution_count": 19,
   "metadata": {},
   "outputs": [
    {
     "name": "stdout",
     "output_type": "stream",
     "text": [
      "Found match a word boundary is in the text\n"
     ]
    }
   ],
   "source": [
    "pattern = r'\\b'\n",
    "text = r'The quic \\brown fox'\n",
    "\n",
    "escaped_pattern = re.escape(pattern)\n",
    "match = re.search(escaped_pattern, text)\n",
    "\n",
    "if match:\n",
    "    print(f'Found match a word boundary is in the text')\n",
    "else:\n",
    "    print(f'Cloud not find a word boundary in the text')"
   ]
  },
  {
   "cell_type": "code",
   "execution_count": 20,
   "metadata": {},
   "outputs": [
    {
     "name": "stdout",
     "output_type": "stream",
     "text": [
      "new pattern:  \\.\n",
      "Found match a word boundary is in the text\n"
     ]
    }
   ],
   "source": [
    "pattern = r'.'\n",
    "text = 'The quick brown fox.'\n",
    "\n",
    "escaped_pattern = re.escape(pattern)\n",
    "print('new pattern: ', escaped_pattern)\n",
    "match = re.search(escaped_pattern, text)\n",
    "\n",
    "if match:\n",
    "    print(f'Found match a word boundary is in the text')\n",
    "else:\n",
    "    print(f'Cloud not find a word boundary in the text')"
   ]
  },
  {
   "cell_type": "code",
   "execution_count": 21,
   "metadata": {},
   "outputs": [
    {
     "name": "stdout",
     "output_type": "stream",
     "text": [
      "['19', '99', '12', '50']\n"
     ]
    }
   ],
   "source": [
    "pattern = r'\\d+'\n",
    "text = 'The price of the book is $19.99 and the price of the moviie is $12.50'\n",
    "\n",
    "regex = re.compile(pattern)\n",
    "matches = regex.findall(text)\n",
    "\n",
    "print(matches)"
   ]
  },
  {
   "cell_type": "code",
   "execution_count": 22,
   "metadata": {},
   "outputs": [
    {
     "name": "stdout",
     "output_type": "stream",
     "text": [
      "408-555-1234\n",
      "Number 408-555-1234\n",
      "Code 408\n",
      "37\n",
      "45\n",
      "(33, 45)\n"
     ]
    }
   ],
   "source": [
    "pattern = r'((\\d{3})-(\\d{3})-(\\d{4}))'\n",
    "text = 'The phone number of the agent is 408-555-1234. Call soon!'\n",
    "match = re.search(pattern, text)\n",
    "if match:\n",
    "    print(match.group())\n",
    "    print('Number', match.group(1))\n",
    "    print('Code', match.group(2))\n",
    "    print(match.start(3))\n",
    "    print(match.end(4))\n",
    "    print(match.span())"
   ]
  },
  {
   "cell_type": "code",
   "execution_count": 23,
   "metadata": {},
   "outputs": [
    {
     "name": "stdout",
     "output_type": "stream",
     "text": [
      "Hello\n"
     ]
    }
   ],
   "source": [
    "pattern = r'hello'\n",
    "text = 'Hello world'\n",
    "\n",
    "match = re.search(pattern, text, re.IGNORECASE)\n",
    "if match:\n",
    "    print(match.group())\n",
    "else:\n",
    "    print('Not found')"
   ]
  },
  {
   "cell_type": "code",
   "execution_count": 25,
   "metadata": {},
   "outputs": [
    {
     "name": "stdout",
     "output_type": "stream",
     "text": [
      "hello\n",
      "world\n"
     ]
    }
   ],
   "source": [
    "pattern = r'hello.*world'\n",
    "text = 'hello\\nworld'\n",
    "\n",
    "match = re.search(pattern, text, re.DOTALL)\n",
    "\n",
    "if match:\n",
    "    print(match.group())\n",
    "else:\n",
    "    print('Not found')"
   ]
  },
  {
   "cell_type": "code",
   "execution_count": 32,
   "metadata": {},
   "outputs": [
    {
     "name": "stdout",
     "output_type": "stream",
     "text": [
      "['1', '2', '3']\n"
     ]
    }
   ],
   "source": [
    "pattern = r'\\d+$'\n",
    "text ='Line 1\\nLine 2\\nLine 3'\n",
    "\n",
    "matches = re.findall(pattern, text, re.MULTILINE) # matches only the last char\n",
    "\n",
    "print(matches)"
   ]
  },
  {
   "cell_type": "code",
   "execution_count": 33,
   "metadata": {},
   "outputs": [
    {
     "data": {
      "text/plain": [
       "13140.0"
      ]
     },
     "execution_count": 33,
     "metadata": {},
     "output_type": "execute_result"
    }
   ],
   "source": [
    "800 + 1400 + 1900 + 1300 + (4300 * 1.8)"
   ]
  },
  {
   "cell_type": "code",
   "execution_count": 41,
   "metadata": {},
   "outputs": [
    {
     "name": "stdout",
     "output_type": "stream",
     "text": [
      "['design_document.docx']\n"
     ]
    }
   ],
   "source": [
    "import re\n",
    "\n",
    "file_extensions = ['pdf', 'doc', 'docx', 'xls', 'xlsx', 'ppt', 'pptx', 'txt']\n",
    "\n",
    "with open('./sample1.txt', 'r') as f:\n",
    "    text = f.read()\n",
    "    pattern = r'\\b\\w+\\.(?:' + '|'.join(file_extensions) + r')\\b'\n",
    "    matches = re.findall(pattern, text)\n",
    "\n",
    "    print(matches)"
   ]
  },
  {
   "cell_type": "code",
   "execution_count": 44,
   "metadata": {},
   "outputs": [
    {
     "name": "stdout",
     "output_type": "stream",
     "text": [
      "[]\n",
      "['raddy.radev@abv.bg']\n",
      "[]\n",
      "[]\n",
      "[]\n"
     ]
    }
   ],
   "source": [
    "phone_pattern = r'\\d{3}-\\d{3}-\\d{4}'\n",
    "email_pattern = r'\\b[A-Za-z0-9._%+-]+@[A-Za-z0-9.-]+\\.[A-Z|a-z]{2,}\\b'\n",
    "zip_pattern = r'\\b\\d{5}(?:-\\d{4})?\\b'\n",
    "oreder_pattern = r'\\b[A-Z]{2}-\\d{4}-\\d{4}\\b'\n",
    "hex_pattern = r'#[A-Fa-f0-9]{6}'\n",
    "\n",
    "with open('./sample1.txt', 'r') as f:\n",
    "    text = f.read()\n",
    "    matches = re.findall(phone_pattern, text)\n",
    "    print(matches)\n",
    "    matches = re.findall(email_pattern, text)\n",
    "    print(matches)\n",
    "    matches = re.findall(zip_pattern, text)\n",
    "    print(matches)\n",
    "    matches = re.findall(oreder_pattern, text)\n",
    "    print(matches)\n",
    "    matches = re.findall(hex_pattern, text)\n",
    "    print(matches)\n",
    "\n"
   ]
  },
  {
   "cell_type": "markdown",
   "metadata": {},
   "source": [
    "### Validate username"
   ]
  },
  {
   "cell_type": "code",
   "execution_count": 54,
   "metadata": {},
   "outputs": [
    {
     "name": "stdout",
     "output_type": "stream",
     "text": [
      "Invalid username\n"
     ]
    }
   ],
   "source": [
    "import re\n",
    "\n",
    "def validate_username(username):\n",
    "    #pattern = r'^[a-zA-z]+[\\w]*$'\n",
    "    #pattern_number = r'\\d+$'\n",
    "    pattern_email = r'^[a-zA-Z0-9._%+-]+@[A-Za-z0-9.-]+\\.[a-zA-Z]{2,}$'\n",
    "\n",
    "    match = re.fullmatch(pattern_email, username)\n",
    "\n",
    "    return match is not None\n",
    "\n",
    "user_input = input('Enter a username: ')\n",
    "\n",
    "if validate_username(user_input):\n",
    "    print('Valid username')\n",
    "\n",
    "else:\n",
    "    print('Invalid username')"
   ]
  },
  {
   "cell_type": "markdown",
   "metadata": {},
   "source": [
    "##### Escape injection"
   ]
  },
  {
   "cell_type": "code",
   "execution_count": 59,
   "metadata": {},
   "outputs": [
    {
     "name": "stdout",
     "output_type": "stream",
     "text": [
      "Invalid string\n"
     ]
    }
   ],
   "source": [
    "def sanitize_input(input_str):\n",
    "    sanitized_string = re.sub(r\"[;'\\\"]\",\"\", input_str)\n",
    "    return sanitized_string\n",
    "\n",
    "def validate_string_no_code_inj(input_str):\n",
    "    pattern = r\"^[^;'\\\"]*$\"\n",
    "    match = re.search(pattern, input_str)\n",
    "    return match is not None\n",
    "\n",
    "input_str = input('Enter a string: ')\n",
    "#senitized_input = sanitize_input(input_str)\n",
    "\n",
    "if validate_string_no_code_inj(input_str):\n",
    "    print('Valid string')\n",
    "else:\n",
    "    print('Invalid string')\n"
   ]
  },
  {
   "cell_type": "markdown",
   "metadata": {},
   "source": [
    "#### LOG Handling"
   ]
  },
  {
   "cell_type": "code",
   "execution_count": 4,
   "metadata": {},
   "outputs": [
    {
     "name": "stdout",
     "output_type": "stream",
     "text": [
      "IP V4 000.\n",
      "IP V4 0.\n"
     ]
    }
   ],
   "source": [
    "import re\n",
    "def extract_ip_addresses(log_line):\n",
    "    pattern = r'(\\d{1,3}\\.){3}\\d{1,3}'\n",
    "\n",
    "    ip_addresses = re.findall(pattern, log_line)\n",
    "\n",
    "    for ip in ip_addresses:\n",
    "        print('IP V4', ip)\n",
    "\n",
    "with open('./sample1.txt', 'r') as f:\n",
    "    for line in f:\n",
    "        extract_ip_addresses(line)\n",
    "\n"
   ]
  },
  {
   "cell_type": "markdown",
   "metadata": {},
   "source": [
    "Look behind and look ahead"
   ]
  },
  {
   "cell_type": "code",
   "execution_count": 6,
   "metadata": {},
   "outputs": [],
   "source": [
    "text = 'aB3cD4eF5gH6'\n",
    "\n",
    "pattern = r'(?<=[a-z])[A-Z](?=\\d)'\n",
    "\n",
    "test = re.findall(pattern, text)\n"
   ]
  },
  {
   "cell_type": "code",
   "execution_count": 7,
   "metadata": {},
   "outputs": [
    {
     "data": {
      "text/plain": [
       "['B', 'D', 'F', 'H']"
      ]
     },
     "execution_count": 7,
     "metadata": {},
     "output_type": "execute_result"
    }
   ],
   "source": [
    "test"
   ]
  },
  {
   "cell_type": "code",
   "execution_count": 5,
   "metadata": {},
   "outputs": [
    {
     "ename": "NameError",
     "evalue": "name '__file__' is not defined",
     "output_type": "error",
     "traceback": [
      "\u001b[0;31m---------------------------------------------------------------------------\u001b[0m",
      "\u001b[0;31mNameError\u001b[0m                                 Traceback (most recent call last)",
      "Cell \u001b[0;32mIn[5], line 5\u001b[0m\n\u001b[1;32m      1\u001b[0m \u001b[38;5;28;01mfrom\u001b[39;00m \u001b[38;5;21;01mpathlib\u001b[39;00m \u001b[38;5;28;01mimport\u001b[39;00m Path\n\u001b[0;32m----> 5\u001b[0m PROJECT_ROOT \u001b[38;5;241m=\u001b[39m Path(\u001b[38;5;18;43m__file__\u001b[39;49m)\u001b[38;5;241m.\u001b[39mparent\u001b[38;5;241m.\u001b[39mparent\n",
      "\u001b[0;31mNameError\u001b[0m: name '__file__' is not defined"
     ]
    }
   ],
   "source": [
    "from pathlib import Path\n",
    "\n",
    "\n",
    "\n",
    "PROJECT_ROOT = Path(__file__).parent.parent"
   ]
  }
 ],
 "metadata": {
  "kernelspec": {
   "display_name": "Python 3",
   "language": "python",
   "name": "python3"
  },
  "language_info": {
   "codemirror_mode": {
    "name": "ipython",
    "version": 3
   },
   "file_extension": ".py",
   "mimetype": "text/x-python",
   "name": "python",
   "nbconvert_exporter": "python",
   "pygments_lexer": "ipython3",
   "version": "3.11.2"
  }
 },
 "nbformat": 4,
 "nbformat_minor": 2
}
