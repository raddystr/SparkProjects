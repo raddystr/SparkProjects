{
 "cells": [
  {
   "attachments": {},
   "cell_type": "markdown",
   "metadata": {},
   "source": [
    "#### Threads and Processes"
   ]
  },
  {
   "attachments": {},
   "cell_type": "markdown",
   "metadata": {},
   "source": [
    "process -> fork \\\n",
    "thread -> createThread \\\n",
    "context switch overhead\n",
    "\n",
    "Global Interpreted Lock \\\n",
    "\n",
    "Only one thread at the time other in the queu \\\n",
    "before thread interupt and execute the other\n",
    "\n",
    "NOK for CPU bound process(graphics, de/encryption, video, audio, ml) \\\n",
    "OK for IO bound process(reading, writing, transfering) \\\n",
    "\n",
    "\n",
    "Thread: Same memory, Light Weight, No isolation, GIL\n",
    "\n",
    "Process: Separate memory, Resource Heavy, isolation, NoGIL\n",
    "\n",
    " "
   ]
  },
  {
   "cell_type": "code",
   "execution_count": 33,
   "metadata": {},
   "outputs": [],
   "source": [
    "import time \n",
    "from threading import Thread\n",
    "import multiprocessing\n",
    "\n",
    "\n",
    "def do_work():\n",
    "    print(\"Start work\")\n",
    "    i = 0\n",
    "    for _ in range(200_000_000):\n",
    "        ivim  += 1\n",
    "    print(\"Finished work\")"
   ]
  },
  {
   "cell_type": "code",
   "execution_count": 34,
   "metadata": {},
   "outputs": [
    {
     "name": "stdout",
     "output_type": "stream",
     "text": [
      "Start work\n",
      "Finished work\n"
     ]
    }
   ],
   "source": [
    "do_work()"
   ]
  },
  {
   "cell_type": "code",
   "execution_count": 35,
   "metadata": {},
   "outputs": [
    {
     "name": "stdout",
     "output_type": "stream",
     "text": [
      "Start work\n",
      "Finished work\n",
      "Start work\n",
      "Finished work\n",
      "Start work\n",
      "Finished work\n",
      "Start work\n",
      "Finished work\n",
      "Start work\n",
      "Finished work\n"
     ]
    }
   ],
   "source": [
    "for _ in range(5):\n",
    "    do_work()"
   ]
  },
  {
   "cell_type": "code",
   "execution_count": 3,
   "metadata": {},
   "outputs": [
    {
     "data": {
      "text/plain": [
       "12090.0"
      ]
     },
     "execution_count": 3,
     "metadata": {},
     "output_type": "execute_result"
    }
   ],
   "source": [
    "100 + (4050 * 1.8) + 850 + 2000 + 1850"
   ]
  },
  {
   "cell_type": "code",
   "execution_count": 36,
   "metadata": {},
   "outputs": [
    {
     "name": "stdout",
     "output_type": "stream",
     "text": [
      "Start work\n",
      "Start work\n",
      "Start work\n",
      "Start work\n",
      "Start work\n"
     ]
    },
    {
     "name": "stdout",
     "output_type": "stream",
     "text": [
      "Finished work\n",
      "Finished work\n",
      "Finished work\n",
      "Finished work\n",
      "Finished work\n"
     ]
    }
   ],
   "source": [
    "for _ in range(5):\n",
    "    t = Thread(target=do_work, args=())\n",
    "    t.start()\n"
   ]
  },
  {
   "cell_type": "code",
   "execution_count": null,
   "metadata": {},
   "outputs": [],
   "source": []
  }
 ],
 "metadata": {
  "kernelspec": {
   "display_name": "Python 3",
   "language": "python",
   "name": "python3"
  },
  "language_info": {
   "codemirror_mode": {
    "name": "ipython",
    "version": 3
   },
   "file_extension": ".py",
   "mimetype": "text/x-python",
   "name": "python",
   "nbconvert_exporter": "python",
   "pygments_lexer": "ipython3",
   "version": "3.11.2"
  },
  "orig_nbformat": 4
 },
 "nbformat": 4,
 "nbformat_minor": 2
}
