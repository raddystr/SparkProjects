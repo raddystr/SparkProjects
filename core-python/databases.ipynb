{
 "cells": [
  {
   "cell_type": "code",
   "execution_count": 13,
   "metadata": {},
   "outputs": [
    {
     "ename": "TypeError",
     "evalue": "No options defined but a name was passed (currency). Did you mean to declare an argument instead? Did you mean to pass '--currency'?",
     "output_type": "error",
     "traceback": [
      "\u001b[0;31m---------------------------------------------------------------------------\u001b[0m",
      "\u001b[0;31mTypeError\u001b[0m                                 Traceback (most recent call last)",
      "\u001b[1;32m/home/radi/Projects/DataLab/core-python/databases.ipynb Cell 1\u001b[0m line \u001b[0;36m2\n\u001b[1;32m     <a href='vscode-notebook-cell:/home/radi/Projects/DataLab/core-python/databases.ipynb#W0sZmlsZQ%3D%3D?line=16'>17</a>\u001b[0m \u001b[39m@click\u001b[39m\u001b[39m.\u001b[39mgroup()\n\u001b[1;32m     <a href='vscode-notebook-cell:/home/radi/Projects/DataLab/core-python/databases.ipynb#W0sZmlsZQ%3D%3D?line=17'>18</a>\u001b[0m \u001b[39mdef\u001b[39;00m \u001b[39mcli\u001b[39m():\n\u001b[1;32m     <a href='vscode-notebook-cell:/home/radi/Projects/DataLab/core-python/databases.ipynb#W0sZmlsZQ%3D%3D?line=18'>19</a>\u001b[0m     \u001b[39mpass\u001b[39;00m\n\u001b[1;32m     <a href='vscode-notebook-cell:/home/radi/Projects/DataLab/core-python/databases.ipynb#W0sZmlsZQ%3D%3D?line=20'>21</a>\u001b[0m \u001b[39m@click\u001b[39;49m\u001b[39m.\u001b[39;49mcommand()\n\u001b[1;32m     <a href='vscode-notebook-cell:/home/radi/Projects/DataLab/core-python/databases.ipynb#W0sZmlsZQ%3D%3D?line=21'>22</a>\u001b[0m \u001b[39m@click\u001b[39;49m\u001b[39m.\u001b[39;49moption(\u001b[39m'\u001b[39;49m\u001b[39mcoin_id\u001b[39;49m\u001b[39m'\u001b[39;49m, default\u001b[39m=\u001b[39;49m\u001b[39m'\u001b[39;49m\u001b[39mbitcoin\u001b[39;49m\u001b[39m'\u001b[39;49m)\n\u001b[0;32m---> <a href='vscode-notebook-cell:/home/radi/Projects/DataLab/core-python/databases.ipynb#W0sZmlsZQ%3D%3D?line=22'>23</a>\u001b[0m \u001b[39m@click\u001b[39;49m\u001b[39m.\u001b[39;49moption(\u001b[39m'\u001b[39;49m\u001b[39mcurrency\u001b[39;49m\u001b[39m'\u001b[39;49m, default\u001b[39m=\u001b[39;49m\u001b[39m'\u001b[39;49m\u001b[39musd\u001b[39;49m\u001b[39m'\u001b[39;49m)\n\u001b[1;32m     <a href='vscode-notebook-cell:/home/radi/Projects/DataLab/core-python/databases.ipynb#W0sZmlsZQ%3D%3D?line=23'>24</a>\u001b[0m \u001b[39mdef\u001b[39;49;00m \u001b[39mshow_coin_price\u001b[39;49m(coin_id, currency):\n\u001b[1;32m     <a href='vscode-notebook-cell:/home/radi/Projects/DataLab/core-python/databases.ipynb#W0sZmlsZQ%3D%3D?line=24'>25</a>\u001b[0m     coin_price \u001b[39m=\u001b[39;49m get_coin_price(coin_id, currency)\n\u001b[1;32m     <a href='vscode-notebook-cell:/home/radi/Projects/DataLab/core-python/databases.ipynb#W0sZmlsZQ%3D%3D?line=25'>26</a>\u001b[0m     \u001b[39mprint\u001b[39;49m(\u001b[39mf\u001b[39;49m\u001b[39m'\u001b[39;49m\u001b[39mThe price of \u001b[39;49m\u001b[39m{\u001b[39;49;00mcoin_id\u001b[39m}\u001b[39;49;00m\u001b[39m is \u001b[39;49m\u001b[39m{\u001b[39;49;00mcoin_price\u001b[39m:\u001b[39;49;00m\u001b[39m.2f\u001b[39;49m\u001b[39m}\u001b[39;49;00m\u001b[39m \u001b[39;49m\u001b[39m{\u001b[39;49;00mcurrency\u001b[39m.\u001b[39;49mupper()\u001b[39m}\u001b[39;49;00m\u001b[39m'\u001b[39;49m)\n",
      "File \u001b[0;32m~/.pyenv/versions/3.12.0/lib/python3.12/site-packages/click/decorators.py:373\u001b[0m, in \u001b[0;36moption.<locals>.decorator\u001b[0;34m(f)\u001b[0m\n\u001b[1;32m    372\u001b[0m \u001b[39mdef\u001b[39;00m \u001b[39mdecorator\u001b[39m(f: FC) \u001b[39m-\u001b[39m\u001b[39m>\u001b[39m FC:\n\u001b[0;32m--> 373\u001b[0m     _param_memo(f, \u001b[39mcls\u001b[39;49m(param_decls, \u001b[39m*\u001b[39;49m\u001b[39m*\u001b[39;49mattrs))\n\u001b[1;32m    374\u001b[0m     \u001b[39mreturn\u001b[39;00m f\n",
      "File \u001b[0;32m~/.pyenv/versions/3.12.0/lib/python3.12/site-packages/click/core.py:2536\u001b[0m, in \u001b[0;36mOption.__init__\u001b[0;34m(self, param_decls, show_default, prompt, confirmation_prompt, prompt_required, hide_input, is_flag, flag_value, multiple, count, allow_from_autoenv, type, help, hidden, show_choices, show_envvar, **attrs)\u001b[0m\n\u001b[1;32m   2533\u001b[0m     help \u001b[39m=\u001b[39m inspect\u001b[39m.\u001b[39mcleandoc(help)\n\u001b[1;32m   2535\u001b[0m default_is_missing \u001b[39m=\u001b[39m \u001b[39m\"\u001b[39m\u001b[39mdefault\u001b[39m\u001b[39m\"\u001b[39m \u001b[39mnot\u001b[39;00m \u001b[39min\u001b[39;00m attrs\n\u001b[0;32m-> 2536\u001b[0m \u001b[39msuper\u001b[39;49m()\u001b[39m.\u001b[39;49m\u001b[39m__init__\u001b[39;49m(param_decls, \u001b[39mtype\u001b[39;49m\u001b[39m=\u001b[39;49m\u001b[39mtype\u001b[39;49m, multiple\u001b[39m=\u001b[39;49mmultiple, \u001b[39m*\u001b[39;49m\u001b[39m*\u001b[39;49mattrs)\n\u001b[1;32m   2538\u001b[0m \u001b[39mif\u001b[39;00m prompt \u001b[39mis\u001b[39;00m \u001b[39mTrue\u001b[39;00m:\n\u001b[1;32m   2539\u001b[0m     \u001b[39mif\u001b[39;00m \u001b[39mself\u001b[39m\u001b[39m.\u001b[39mname \u001b[39mis\u001b[39;00m \u001b[39mNone\u001b[39;00m:\n",
      "File \u001b[0;32m~/.pyenv/versions/3.12.0/lib/python3.12/site-packages/click/core.py:2111\u001b[0m, in \u001b[0;36mParameter.__init__\u001b[0;34m(self, param_decls, type, required, default, callback, nargs, multiple, metavar, expose_value, is_eager, envvar, shell_complete)\u001b[0m\n\u001b[1;32m   2109\u001b[0m \u001b[39mself\u001b[39m\u001b[39m.\u001b[39mopts: t\u001b[39m.\u001b[39mList[\u001b[39mstr\u001b[39m]\n\u001b[1;32m   2110\u001b[0m \u001b[39mself\u001b[39m\u001b[39m.\u001b[39msecondary_opts: t\u001b[39m.\u001b[39mList[\u001b[39mstr\u001b[39m]\n\u001b[0;32m-> 2111\u001b[0m \u001b[39mself\u001b[39m\u001b[39m.\u001b[39mname, \u001b[39mself\u001b[39m\u001b[39m.\u001b[39mopts, \u001b[39mself\u001b[39m\u001b[39m.\u001b[39msecondary_opts \u001b[39m=\u001b[39m \u001b[39mself\u001b[39;49m\u001b[39m.\u001b[39;49m_parse_decls(\n\u001b[1;32m   2112\u001b[0m     param_decls \u001b[39mor\u001b[39;49;00m (), expose_value\n\u001b[1;32m   2113\u001b[0m )\n\u001b[1;32m   2114\u001b[0m \u001b[39mself\u001b[39m\u001b[39m.\u001b[39mtype: types\u001b[39m.\u001b[39mParamType \u001b[39m=\u001b[39m types\u001b[39m.\u001b[39mconvert_type(\u001b[39mtype\u001b[39m, default)\n\u001b[1;32m   2116\u001b[0m \u001b[39m# Default nargs to what the type tells us if we have that\u001b[39;00m\n\u001b[1;32m   2117\u001b[0m \u001b[39m# information available.\u001b[39;00m\n",
      "File \u001b[0;32m~/.pyenv/versions/3.12.0/lib/python3.12/site-packages/click/core.py:2687\u001b[0m, in \u001b[0;36mOption._parse_decls\u001b[0;34m(self, decls, expose_value)\u001b[0m\n\u001b[1;32m   2684\u001b[0m     \u001b[39mraise\u001b[39;00m \u001b[39mTypeError\u001b[39;00m(\u001b[39m\"\u001b[39m\u001b[39mCould not determine name for option\u001b[39m\u001b[39m\"\u001b[39m)\n\u001b[1;32m   2686\u001b[0m \u001b[39mif\u001b[39;00m \u001b[39mnot\u001b[39;00m opts \u001b[39mand\u001b[39;00m \u001b[39mnot\u001b[39;00m secondary_opts:\n\u001b[0;32m-> 2687\u001b[0m     \u001b[39mraise\u001b[39;00m \u001b[39mTypeError\u001b[39;00m(\n\u001b[1;32m   2688\u001b[0m         \u001b[39mf\u001b[39m\u001b[39m\"\u001b[39m\u001b[39mNo options defined but a name was passed (\u001b[39m\u001b[39m{\u001b[39;00mname\u001b[39m}\u001b[39;00m\u001b[39m).\u001b[39m\u001b[39m\"\u001b[39m\n\u001b[1;32m   2689\u001b[0m         \u001b[39m\"\u001b[39m\u001b[39m Did you mean to declare an argument instead? Did\u001b[39m\u001b[39m\"\u001b[39m\n\u001b[1;32m   2690\u001b[0m         \u001b[39mf\u001b[39m\u001b[39m\"\u001b[39m\u001b[39m you mean to pass \u001b[39m\u001b[39m'\u001b[39m\u001b[39m--\u001b[39m\u001b[39m{\u001b[39;00mname\u001b[39m}\u001b[39;00m\u001b[39m'\u001b[39m\u001b[39m?\u001b[39m\u001b[39m\"\u001b[39m\n\u001b[1;32m   2691\u001b[0m     )\n\u001b[1;32m   2693\u001b[0m \u001b[39mreturn\u001b[39;00m name, opts, secondary_opts\n",
      "\u001b[0;31mTypeError\u001b[0m: No options defined but a name was passed (currency). Did you mean to declare an argument instead? Did you mean to pass '--currency'?"
     ]
    }
   ],
   "source": [
    "import requests\n",
    "import click\n",
    "import sqlite3\n",
    "import datetime\n",
    "from dataclasses import dataclass\n",
    "\n",
    "\n",
    "CREATE_INVESTMENT_SQL = '''\n",
    "\n",
    "'''\n",
    "\n",
    "@dataclass\n",
    "class Investment:\n",
    "    coin_id: str\n",
    "    currency: str\n",
    "    amount: float\n",
    "    sell: bool\n",
    "    data: datetime.datatime\n",
    "\n",
    "    def compute_value(self) -> float:\n",
    "        return self.amount * get_coin_price(self.coin_id, self.currency)\n",
    "\n",
    "\n",
    "def investment_row_factory(_, row):\n",
    "    return Investment(\n",
    "        coin_id = row[0],\n",
    "        currency = row[1],\n",
    "        amount = row[2],\n",
    "        sell = bool(row[3]),\n",
    "        date = datetime.datetime.strptime(\n",
    "            row[4],\n",
    "            '%Y-%m-%d %H:%M:%S.%f')\n",
    "        )\n",
    "\n",
    "\n",
    "def get_coin_price(coin_id, currency):\n",
    "    url = f'https://api.coingecko.com/api/v3/simple/price?ids={coin_id}&vs_currencies={currency}'\n",
    "    data = requests.get(url).json()\n",
    "    coin_price = data[coin_id][currency]\n",
    "    return coin_price\n",
    "\n",
    "\n",
    "@click.group()\n",
    "def cli():\n",
    "    pass\n",
    "\n",
    "@click.command()\n",
    "@click.option('--coin_id', default='bitcoin')\n",
    "@click.option('--currency', default='usd')\n",
    "def show_coin_price(coin_id, currency):\n",
    "    coin_price = get_coin_price(coin_id, currency)\n",
    "    print(f'The price of {coin_id} is {coin_price:.2f} {currency.upper()}')\n",
    "\n",
    "\n",
    "cli.add_command(show_coin_price)\n",
    "\n",
    "#def add_investment(coin_id, currency, amount, sell):\n",
    "#    sql = 'INSERT INTO investemnets VALUES (?, ?, ?, ?, ?);'\n",
    "#    values = (coin_id, currency, amount, sell, datatime.\n",
    "              \n",
    "if __name__ == '__main__':\n",
    "    cli()"
   ]
  },
  {
   "cell_type": "code",
   "execution_count": 14,
   "metadata": {},
   "outputs": [
    {
     "name": "stdout",
     "output_type": "stream",
     "text": [
      "value of test is 2.34\n"
     ]
    }
   ],
   "source": [
    "test = 2.3434343\n",
    "print(f'value of test is {test:.2f}')"
   ]
  }
 ],
 "metadata": {
  "kernelspec": {
   "display_name": "Python 3",
   "language": "python",
   "name": "python3"
  },
  "language_info": {
   "codemirror_mode": {
    "name": "ipython",
    "version": 3
   },
   "file_extension": ".py",
   "mimetype": "text/x-python",
   "name": "python",
   "nbconvert_exporter": "python",
   "pygments_lexer": "ipython3",
   "version": "3.12.0"
  }
 },
 "nbformat": 4,
 "nbformat_minor": 2
}
