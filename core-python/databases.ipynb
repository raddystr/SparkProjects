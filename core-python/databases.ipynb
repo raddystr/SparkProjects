{
 "cells": [
  {
   "cell_type": "code",
   "execution_count": 15,
   "metadata": {},
   "outputs": [],
   "source": [
    "from sqlalchemy import String, Numeric\n",
    "from sqlalchemy.orm import  DeclarativeBase, Mapped, mapped_column, Session\n",
    "from sqlalchemy import create_engine\n",
    "\n",
    "class Base(DeclarativeBase):\n",
    "    pass\n",
    "\n",
    "\n",
    "class Investment(Base):\n",
    "    __tablename__ = 'investment'\n",
    "    id: Mapped[int] = mapped_column(primary_key=True)\n",
    "    coin: Mapped[str] = mapped_column(String(32))\n",
    "    currency: Mapped[str] = mapped_column(String(3))\n",
    "    amount: Mapped[float] = mapped_column(Numeric(5,2))\n",
    "    \n",
    "    def __repr__(self) -> str:\n",
    "        return '<Investment coin: {self.coin}, currency: {self.currency}, amount {self.amount}>' # no qa\n",
    "    \n",
    "    \n",
    "    \n",
    "engine = create_engine('sqlite:///home/radi/Projects/DataLab/data/data.db')\n",
    "    \n",
    "    \n",
    "Base.metadata.create_all(engine)\n",
    "    "
   ]
  },
  {
   "cell_type": "code",
   "execution_count": 13,
   "metadata": {},
   "outputs": [],
   "source": [
    "\n",
    "\n",
    "\n",
    "\n",
    "\n",
    "\n",
    "\n",
    "bitcoin = Investment(coin='bitcoin', currency='USD', amount=1.0)\n",
    "\n",
    "with Session(engine) as session:\n",
    "    session.add(bitcoin)\n",
    "    session.commit()\n",
    "    \n",
    "    stmt = select(Investment).where*(Investment.coin=='bitcoin')\n",
    "    bitcoin = session.execute(stmt).scalar_one()\n",
    "    \n",
    "    print(f'{bitcoin.coin} - {bitcoin.currency} - {bitcoin.amount} ')"
   ]
  }
 ],
 "metadata": {
  "kernelspec": {
   "display_name": "Python 3",
   "language": "python",
   "name": "python3"
  },
  "language_info": {
   "codemirror_mode": {
    "name": "ipython",
    "version": 3
   },
   "file_extension": ".py",
   "mimetype": "text/x-python",
   "name": "python",
   "nbconvert_exporter": "python",
   "pygments_lexer": "ipython3",
   "version": "3.12.0"
  }
 },
 "nbformat": 4,
 "nbformat_minor": 2
}
