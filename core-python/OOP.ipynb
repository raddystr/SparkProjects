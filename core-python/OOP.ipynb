{
 "cells": [
  {
   "cell_type": "code",
   "execution_count": 5,
   "metadata": {},
   "outputs": [],
   "source": [
    "class Employee:\n",
    "    def __init__(self, name, age, position, salary) -> None:\n",
    "        self.name = name\n",
    "        self.age = age\n",
    "        self.position = position\n",
    "        self.salary = salary\n",
    "        self._annual_salary = None\n",
    "\n",
    "    def increase_salary(self, percent):\n",
    "        self.salary += self.salary * (percent/100)\n",
    "\n",
    "    def __str__(self):\n",
    "        return f'{self.name} is {self.age} y.o. and it is {self.position} with {self.salary}$'\n",
    "    def __repr__(self) -> str:\n",
    "        return f'{self.name} is {self.age} y.o. and it is {self.position} with {self.salary}$'\n",
    "    \n",
    "    @property\n",
    "    def salary(self):\n",
    "        return self._salary\n",
    "\n",
    "    @property\n",
    "    def annual_salary(self): \n",
    "        if self._annual_salary is None:\n",
    "            self._annual_salary =  self.salary * 12\n",
    "        return self._annual_salary\n",
    "\n",
    "    @salary.setter\n",
    "    def salary(self, salary):\n",
    "        if salary < 1000:\n",
    "            raise ValueError('Minimum wage is $1000')\n",
    "        self._annual_salary = None\n",
    "        self._salary = salary\n",
    "\n"
   ]
  },
  {
   "cell_type": "code",
   "execution_count": 39,
   "metadata": {},
   "outputs": [],
   "source": [
    "class EmployeeNew:\n",
    "    __slots__ = ('name', 'age', 'salary')\n",
    "\n",
    "    def __init__(self, name, age,  salary) -> None:\n",
    "        self.name = name\n",
    "        self.age = age\n",
    "        self.salary = salary\n",
    "        \n",
    "\n",
    "    def increase_salary(self, percent):\n",
    "        self.salary += self.salary * (percent/100)\n",
    "\n",
    "class Tester(EmployeeNew):\n",
    "    def run_tests(sefl):\n",
    "        print(f'Testing is starteb by {self.name}...')\n",
    "        print('Test is done')\n",
    "\n",
    "class SlotsInspectMixin:\n",
    "    def has_slots(self):\n",
    "        return hasattr(self, '__slots__')\n",
    "\n",
    "\n",
    "class Developer(EmployeeNew, SlotsInspectMixin):\n",
    "    __slots__ = ('framework',)\n",
    "\n",
    "    def __init__(self, name, age, salary, framework):\n",
    "        super().__init__(name, age, salary)\n",
    "        self.framework = framework\n",
    "\n",
    "    def increase_salary(self, percent, bonus):\n",
    "        super().increase_salary(percent)\n",
    "        self.salary += bonus\n",
    "\n",
    "    def has_slots(self):\n",
    "        return hasattr(self, '__slots__')\n",
    "\n",
    "    \n",
    "\n",
    "    \n"
   ]
  },
  {
   "cell_type": "code",
   "execution_count": 37,
   "metadata": {},
   "outputs": [],
   "source": [
    "testet = Tester('Vladi', 34, 10000)\n",
    "developer = Developer('Radi', 37, 6500, 'django')"
   ]
  },
  {
   "cell_type": "code",
   "execution_count": 31,
   "metadata": {},
   "outputs": [],
   "source": [
    "developer.increase_salary(20, 50)"
   ]
  },
  {
   "cell_type": "code",
   "execution_count": 32,
   "metadata": {},
   "outputs": [
    {
     "data": {
      "text/plain": [
       "7850.0"
      ]
     },
     "execution_count": 32,
     "metadata": {},
     "output_type": "execute_result"
    }
   ],
   "source": [
    "developer.salary   "
   ]
  },
  {
   "cell_type": "code",
   "execution_count": 41,
   "metadata": {},
   "outputs": [
    {
     "name": "stdout",
     "output_type": "stream",
     "text": [
      "(<class '__main__.Developer'>, <class '__main__.EmployeeNew'>, <class '__main__.SlotsInspectMixin'>, <class 'object'>)\n"
     ]
    }
   ],
   "source": [
    "print(Developer.__mro__)"
   ]
  },
  {
   "cell_type": "code",
   "execution_count": 40,
   "metadata": {},
   "outputs": [
    {
     "data": {
      "text/plain": [
       "True"
      ]
     },
     "execution_count": 40,
     "metadata": {},
     "output_type": "execute_result"
    }
   ],
   "source": [
    "developer.has_slots()"
   ]
  }
 ],
 "metadata": {
  "kernelspec": {
   "display_name": "Python 3",
   "language": "python",
   "name": "python3"
  },
  "language_info": {
   "codemirror_mode": {
    "name": "ipython",
    "version": 3
   },
   "file_extension": ".py",
   "mimetype": "text/x-python",
   "name": "python",
   "nbconvert_exporter": "python",
   "pygments_lexer": "ipython3",
   "version": "3.12.0"
  }
 },
 "nbformat": 4,
 "nbformat_minor": 2
}
