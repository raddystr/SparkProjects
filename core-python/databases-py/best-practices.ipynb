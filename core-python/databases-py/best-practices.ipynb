{
 "cells": [
  {
   "cell_type": "markdown",
   "metadata": {},
   "source": [
    "\n",
    "\n",
    "1. Rules:\n",
    "    - 79 chars per lines\n",
    "    - Imports: local imports first\n",
    "    - Modules: short, lowercase\n",
    "    - Classes: CapitalizeNaming\n",
    "    - Functions/Variable: snake_case \n",
    "    - Constants: ALL_CAPS\n",
    "    - Non Public: _var"
   ]
  },
  {
   "cell_type": "code",
   "execution_count": null,
   "metadata": {},
   "outputs": [],
   "source": [
    "### local imports\n",
    "### import 3-rd parties import\n",
    "\n",
    "###naming\n",
    "### "
   ]
  }
 ],
 "metadata": {
  "language_info": {
   "name": "python"
  }
 },
 "nbformat": 4,
 "nbformat_minor": 2
}
