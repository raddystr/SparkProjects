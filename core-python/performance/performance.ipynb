{
 "cells": [
  {
   "cell_type": "code",
   "execution_count": null,
   "metadata": {},
   "outputs": [],
   "source": [
    "import random\n",
    "\n",
    "def search(item, collection):\n",
    "    count = 0\n",
    "    for i in items:\n",
    "        if i in collection:\n",
    "            count += 1\n",
    "    return count\n",
    "\n",
    "def main():\n",
    "    SIZE = 1_000_000\n",
    "    big_list = list(range(SIZE))\n",
    "    big_set = set(big_list)\n",
    "    big_tuple = tuple(big_list)\n",
    "\n",
    "    items_to_find = [random.randint(0, SIZE) for _ in range(1000)]"
   ]
  }
 ],
 "metadata": {
  "language_info": {
   "name": "python"
  }
 },
 "nbformat": 4,
 "nbformat_minor": 2
}
