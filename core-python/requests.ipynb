{
 "cells": [
  {
   "cell_type": "code",
   "execution_count": 66,
   "metadata": {},
   "outputs": [],
   "source": [
    "import requests\n",
    "import json\n",
    "\n",
    "requests.__version__\n",
    "\n",
    "API_URL = 'http://localhost:8000/api/'\n",
    "BASE_URL = 'http://localhost:8000/'\n",
    "test = requests.get(API_URL + 'items')"
   ]
  },
  {
   "cell_type": "code",
   "execution_count": 53,
   "metadata": {},
   "outputs": [
    {
     "data": {
      "text/plain": [
       "[{'name': 'Updated PUT Name', 'price': 1200.0},\n",
       " {'name': 'Baz', 'price': 12.34},\n",
       " {'name': 'Qux', 'price': 56.78},\n",
       " {'name': 'Quux', 'price': 45.67},\n",
       " {'name': 'Corge', 'price': 78.9},\n",
       " {'name': 'Grault', 'price': 90.12},\n",
       " {'name': 'Garply', 'price': 34.56},\n",
       " {'name': 'Waldo', 'price': 89.01},\n",
       " {'name': 'Fred', 'price': 67.23},\n",
       " {'name': 'Plugh', 'price': 45.89},\n",
       " {'name': 'Xyzzy', 'price': 23.78},\n",
       " {'name': 'Thud', 'price': 90.23},\n",
       " {'name': 'Another item', 'price': 44.0},\n",
       " {'name': 'Another item', 'price': 44.0},\n",
       " {'name': 'Another item', 'price': 44.0},\n",
       " {'name': 'Another item', 'price': 44.0},\n",
       " {'name': 'some item', 'price': 2.0},\n",
       " {'name': 'More item', 'price': '300'}]"
      ]
     },
     "execution_count": 53,
     "metadata": {},
     "output_type": "execute_result"
    }
   ],
   "source": [
    "json.loads(bytes.fromhex(test.content.hex()))"
   ]
  },
  {
   "cell_type": "markdown",
   "metadata": {},
   "source": [
    "##### Response GET params"
   ]
  },
  {
   "cell_type": "code",
   "execution_count": 59,
   "metadata": {},
   "outputs": [
    {
     "name": "stdout",
     "output_type": "stream",
     "text": [
      "Request URL: http://localhost:8000/api/items?offset=2&limit=2&max-price=40\n",
      "[{'name': 'Qux', 'price': 56.78}, {'name': 'Quux', 'price': 45.67}]\n"
     ]
    }
   ],
   "source": [
    "def log_url(response, *args, **kwargs):\n",
    "    print(f'Request URL: {response.url}')\n",
    "      \n",
    "query_params = {\n",
    "    'offset': 2,\n",
    "    'limit': 2,\n",
    "    'max-price': 40,\n",
    "}\n",
    "\n",
    "response = requests.get(\n",
    "    API_URL + 'items',\n",
    "    params=query_params,\n",
    "    hooks={'response': log_url}\n",
    ")\n",
    "\n",
    "print(response.json())"
   ]
  },
  {
   "cell_type": "markdown",
   "metadata": {},
   "source": [
    "##### ERROR handling for accounting"
   ]
  },
  {
   "cell_type": "code",
   "execution_count": 1,
   "metadata": {},
   "outputs": [
    {
     "name": "stdout",
     "output_type": "stream",
     "text": [
      "--------------------------------------------########-----------------------------------------\n",
      "HTTP error occured: name 'requests' is not defined\n",
      "INFO | Traceback (most recent call last):\n",
      "  File \"/var/folders/bz/3q5l8rk53s989brg5n3nlrhc0000gn/T/ipykernel_61028/3627747889.py\", line 4, in <module>\n",
      "    response = requests.get('http://127.0.0.1:8000/something')\n",
      "               ^^^^^^^^\n",
      "NameError: name 'requests' is not defined\n",
      "\n",
      "--------------------------------------------########-----------------------------------------\n"
     ]
    }
   ],
   "source": [
    "\n",
    "import traceback\n",
    "\n",
    "try:\n",
    "    response = requests.get('http://127.0.0.1:8000/something')\n",
    "    response.raise_for_status()\n",
    "except Exception as http_err:\n",
    "    print('--------------------------------------------########-----------------------------------------')\n",
    "    print(f'HTTP error occured: {http_err}')\n",
    "    print(f'INFO | {traceback.format_exc()}')\n",
    "    print('--------------------------------------------########-----------------------------------------')\n",
    "except Exception as err:\n",
    "    print(err)\n",
    "else:\n",
    "    print(response.status_code)"
   ]
  },
  {
   "cell_type": "markdown",
   "metadata": {},
   "source": [
    "#### POST"
   ]
  },
  {
   "cell_type": "markdown",
   "metadata": {},
   "source": [
    "##### JSON Requests"
   ]
  },
  {
   "cell_type": "code",
   "execution_count": 60,
   "metadata": {},
   "outputs": [
    {
     "name": "stdout",
     "output_type": "stream",
     "text": [
      "application/json\n",
      "b'{\"name\": \"some item\", \"price\": 2}'\n"
     ]
    }
   ],
   "source": [
    "response = requests.post(\n",
    "    API_URL + 'items',\n",
    "    json={'name': 'some item', 'price': 2}\n",
    "    #data={'name': 'Another item', 'price': 44},\n",
    "    #allow_redirects=False\n",
    ")\n",
    "\n",
    "print(response.request.headers['content-type'])\n",
    "print(response.request.body)"
   ]
  },
  {
   "cell_type": "markdown",
   "metadata": {},
   "source": [
    "##### XML Requests"
   ]
  },
  {
   "cell_type": "code",
   "execution_count": 61,
   "metadata": {},
   "outputs": [
    {
     "name": "stdout",
     "output_type": "stream",
     "text": [
      "More item\n",
      "300\n"
     ]
    }
   ],
   "source": [
    "import xml.etree.ElementTree as ET\n",
    "message_body = '''\n",
    "    <item>\n",
    "        <name>More item</name>\n",
    "        <price>300</price>\n",
    "    </item>\n",
    "'''\n",
    "\n",
    "response = requests.post(\n",
    "    API_URL + 'items/xml',\n",
    "    data=message_body,\n",
    "    headers={'Content-Type': 'application/xml'}\n",
    ")\n",
    "\n",
    "\n",
    "print(ET.fromstring(response.text).find('name').text)\n",
    "print(ET.fromstring(response.text).find('price').text)\n"
   ]
  },
  {
   "cell_type": "markdown",
   "metadata": {},
   "source": [
    "##### File Upload"
   ]
  },
  {
   "cell_type": "code",
   "execution_count": 71,
   "metadata": {},
   "outputs": [
    {
     "name": "stdout",
     "output_type": "stream",
     "text": [
      "{'uploaded_files': ['file.csv']}\n"
     ]
    }
   ],
   "source": [
    "file1 = open('./file.csv', 'rb')\n",
    "\n",
    "files = [\n",
    "    ('files', ('file.csv', file1, 'text/csv'))\n",
    "]\n",
    "\n",
    "response = requests.post(\n",
    "    BASE_URL + 'upload-files',\n",
    "    files=files\n",
    ")\n",
    "\n",
    "file1.close()\n",
    "print(response.json())"
   ]
  },
  {
   "cell_type": "markdown",
   "metadata": {},
   "source": [
    "##### MORE Requests"
   ]
  },
  {
   "cell_type": "code",
   "execution_count": 67,
   "metadata": {},
   "outputs": [
    {
     "name": "stdout",
     "output_type": "stream",
     "text": [
      "{'name': 'Updated PUT Name', 'price': 200.0}\n"
     ]
    }
   ],
   "source": [
    "response = requests.put(\n",
    "    \n",
    "    API_URL + 'items/1',\n",
    "    json={'name':'Updated PUT Name', 'price': 200}\n",
    ")\n",
    "print(response.json())\n",
    "\n",
    "response = requests.patch( API_URL + 'items/1',\n",
    "    json={'price': 1200}\n",
    ")\n",
    "\n",
    "response = requests.delete(API_URL + 'items/0')"
   ]
  },
  {
   "cell_type": "markdown",
   "metadata": {},
   "source": [
    "##### COOKIES"
   ]
  },
  {
   "cell_type": "code",
   "execution_count": 81,
   "metadata": {},
   "outputs": [
    {
     "name": "stdout",
     "output_type": "stream",
     "text": [
      "Cookies returned from login:\n",
      "{'user_id': '468c81512c1c58cf3478c006381c37fb'}\n",
      "login response:\n",
      "{\"message\":\"Login successful\"}\n",
      "Protected route:\n",
      "200\n",
      "{\"message\":\"You have access to this protected route\"}\n"
     ]
    }
   ],
   "source": [
    "session = requests.Session()\n",
    "\n",
    "with requests.Session() as session:\n",
    "    credentials = {'username': 'some_name', 'password': 'pass'}\n",
    "\n",
    "    login_response = session.post(API_URL + 'login', data=credentials)\n",
    "\n",
    "    login_cookies = login_response.cookies\n",
    "\n",
    "    print('Cookies returned from login:')\n",
    "    print(session.cookies.get_dict())\n",
    "    print('login response:')\n",
    "    print(login_response.text)\n",
    "\n",
    "    response = session.get(BASE_URL + 'protected', cookies=login_cookies)\n",
    "\n",
    "    print('Protected route:')\n",
    "    print(response.status_code)\n",
    "    print(response.text)\n",
    "\n"
   ]
  },
  {
   "cell_type": "code",
   "execution_count": 98,
   "metadata": {},
   "outputs": [
    {
     "name": "stderr",
     "output_type": "stream",
     "text": [
      "DEBUG:urllib3.connectionpool:Starting new HTTP connection (1): localhost:8000\n",
      "DEBUG:urllib3.connectionpool:http://localhost:8000 \"GET /flaky HTTP/1.1\" 200 21\n"
     ]
    },
    {
     "name": "stdout",
     "output_type": "stream",
     "text": [
      "Final response status: 200\n"
     ]
    }
   ],
   "source": [
    "import logging\n",
    "import requests\n",
    "from requests.adapters import HTTPAdapter\n",
    "from requests.exceptions import RetryError\n",
    "from urllib3.util.retry import Retry\n",
    "\n",
    "logging.basicConfig(level=logging.DEBUG)\n",
    "requests_log = logging.getLogger('urllib3')\n",
    "requests_log.setLevel(logging.DEBUG)\n",
    "requests_log.propagate = True\n",
    "\n",
    "session = requests.Session()\n",
    "retries = Retry(total=3, backoff_factor=0.1, status_forcelist=[500], allowed_methods={'GET'})\n",
    "\n",
    "session.mount('http:/127.0.0.1', HTTPAdapter(max_retries=retries))\n",
    "\n",
    "try:\n",
    "    response = session.get(BASE_URL + 'flaky')\n",
    "    print(f'Final response status: {response.status_code}')\n",
    "\n",
    "except RetryError:\n",
    "    print('Maximum retries exceeded.Server is not available.')"
   ]
  },
  {
   "cell_type": "markdown",
   "metadata": {},
   "source": [
    "##### Redirection"
   ]
  },
  {
   "cell_type": "code",
   "execution_count": 99,
   "metadata": {},
   "outputs": [
    {
     "name": "stderr",
     "output_type": "stream",
     "text": [
      "DEBUG:urllib3.connectionpool:Starting new HTTP connection (1): 127.0.0.1:8000\n",
      "DEBUG:urllib3.connectionpool:http://127.0.0.1:8000 \"HEAD /old-route HTTP/1.1\" 307 0\n",
      "DEBUG:urllib3.connectionpool:http://127.0.0.1:8000 \"HEAD /new-route HTTP/1.1\" 200 0\n"
     ]
    },
    {
     "name": "stdout",
     "output_type": "stream",
     "text": [
      "http://127.0.0.1:8000/new-route\n",
      "200\n",
      "\n"
     ]
    }
   ],
   "source": [
    "response = requests.head('http://127.0.0.1:8000/old-route', allow_redirects=True)\n",
    "\n",
    "print(response.url)\n",
    "print(response.status_code)\n",
    "print(response.text)"
   ]
  },
  {
   "cell_type": "markdown",
   "metadata": {},
   "source": [
    "##### Basic authenitcation"
   ]
  },
  {
   "cell_type": "code",
   "execution_count": 100,
   "metadata": {},
   "outputs": [
    {
     "name": "stderr",
     "output_type": "stream",
     "text": [
      "DEBUG:urllib3.connectionpool:Starting new HTTP connection (1): 127.0.0.1:8000\n",
      "DEBUG:urllib3.connectionpool:http://127.0.0.1:8000 \"GET /protected-endpoint HTTP/1.1\" 200 42\n"
     ]
    },
    {
     "name": "stdout",
     "output_type": "stream",
     "text": [
      "{\"message\":\"Welcome, authenticated user!\"}\n"
     ]
    }
   ],
   "source": [
    "import requests\n",
    "from requests.auth import HTTPBasicAuth\n",
    "\n",
    "username = 'username'\n",
    "password = 'pass'\n",
    "\n",
    "response = requests.get(\n",
    "    'http://127.0.0.1:8000/protected-endpoint',\n",
    "    auth=HTTPBasicAuth(username, password)\n",
    ")\n",
    "\n",
    "print(response.text)"
   ]
  },
  {
   "cell_type": "code",
   "execution_count": 101,
   "metadata": {},
   "outputs": [
    {
     "name": "stdout",
     "output_type": "stream",
     "text": [
      "Collecting requests-oauthlib\n",
      "  Downloading requests_oauthlib-1.3.1-py2.py3-none-any.whl (23 kB)\n",
      "Collecting oauthlib>=3.0.0 (from requests-oauthlib)\n",
      "  Downloading oauthlib-3.2.2-py3-none-any.whl (151 kB)\n",
      "\u001b[2K     \u001b[90m━━━━━━━━━━━━━━━━━━━━━━━━━━━━━━━━━━━━━━━\u001b[0m \u001b[32m151.7/151.7 kB\u001b[0m \u001b[31m2.5 MB/s\u001b[0m eta \u001b[36m0:00:00\u001b[0ma \u001b[36m0:00:01\u001b[0m\n",
      "\u001b[?25hRequirement already satisfied: requests>=2.0.0 in /Users/radi/.pyenv/versions/3.11.2/lib/python3.11/site-packages (from requests-oauthlib) (2.31.0)\n",
      "Requirement already satisfied: charset-normalizer<4,>=2 in /Users/radi/.pyenv/versions/3.11.2/lib/python3.11/site-packages (from requests>=2.0.0->requests-oauthlib) (3.3.2)\n",
      "Requirement already satisfied: idna<4,>=2.5 in /Users/radi/.pyenv/versions/3.11.2/lib/python3.11/site-packages (from requests>=2.0.0->requests-oauthlib) (3.6)\n",
      "Requirement already satisfied: urllib3<3,>=1.21.1 in /Users/radi/.pyenv/versions/3.11.2/lib/python3.11/site-packages (from requests>=2.0.0->requests-oauthlib) (2.1.0)\n",
      "Requirement already satisfied: certifi>=2017.4.17 in /Users/radi/.pyenv/versions/3.11.2/lib/python3.11/site-packages (from requests>=2.0.0->requests-oauthlib) (2023.11.17)\n",
      "Installing collected packages: oauthlib, requests-oauthlib\n",
      "Successfully installed oauthlib-3.2.2 requests-oauthlib-1.3.1\n",
      "Note: you may need to restart the kernel to use updated packages.\n"
     ]
    }
   ],
   "source": [
    "pip install requests-oauthlib"
   ]
  },
  {
   "cell_type": "markdown",
   "metadata": {},
   "source": [
    "#### Custom Authetnication method"
   ]
  },
  {
   "cell_type": "code",
   "execution_count": 102,
   "metadata": {},
   "outputs": [
    {
     "name": "stderr",
     "output_type": "stream",
     "text": [
      "DEBUG:urllib3.connectionpool:Starting new HTTP connection (1): 127.0.0.1:8000\n",
      "DEBUG:urllib3.connectionpool:http://127.0.0.1:8000 \"GET /jwt-protected-route HTTP/1.1\" 200 47\n"
     ]
    },
    {
     "name": "stdout",
     "output_type": "stream",
     "text": [
      "{\"message\":\"Access to protected route granted\"}\n"
     ]
    }
   ],
   "source": [
    "import requests\n",
    "from requests.auth import AuthBase\n",
    "\n",
    "class JWTAuth(AuthBase):\n",
    "    def __init__(self, token):\n",
    "        self.token = token\n",
    "\n",
    "    def __call__(self, requests):\n",
    "        requests.headers['Authorization'] = f'Bearer {self.token}'\n",
    "        \n",
    "        return requests\n",
    "    \n",
    "token = 'abcde123'\n",
    "response = requests.get(\n",
    "    'http://127.0.0.1:8000/jwt-protected-route',\n",
    "    auth=JWTAuth(token)\n",
    ")\n",
    "\n",
    "print(response.text)"
   ]
  },
  {
   "cell_type": "markdown",
   "metadata": {},
   "source": [
    "import "
   ]
  }
 ],
 "metadata": {
  "kernelspec": {
   "display_name": "Python 3",
   "language": "python",
   "name": "python3"
  },
  "language_info": {
   "codemirror_mode": {
    "name": "ipython",
    "version": 3
   },
   "file_extension": ".py",
   "mimetype": "text/x-python",
   "name": "python",
   "nbconvert_exporter": "python",
   "pygments_lexer": "ipython3",
   "version": "3.11.2"
  }
 },
 "nbformat": 4,
 "nbformat_minor": 2
}
