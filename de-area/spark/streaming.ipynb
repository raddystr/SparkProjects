{
 "cells": [
  {
   "cell_type": "code",
   "execution_count": 4,
   "metadata": {},
   "outputs": [
    {
     "data": {
      "text/html": [
       "\n",
       "            <div>\n",
       "                <p><b>SparkSession - hive</b></p>\n",
       "                \n",
       "        <div>\n",
       "            <p><b>SparkContext</b></p>\n",
       "\n",
       "            <p><a href=\"http://192.168.100.19:4040\">Spark UI</a></p>\n",
       "\n",
       "            <dl>\n",
       "              <dt>Version</dt>\n",
       "                <dd><code>v3.5.0</code></dd>\n",
       "              <dt>Master</dt>\n",
       "                <dd><code>local[*]</code></dd>\n",
       "              <dt>AppName</dt>\n",
       "                <dd><code>SparkCourse</code></dd>\n",
       "            </dl>\n",
       "        </div>\n",
       "        \n",
       "            </div>\n",
       "        "
      ],
      "text/plain": [
       "<pyspark.sql.session.SparkSession at 0x10c148a50>"
      ]
     },
     "execution_count": 4,
     "metadata": {},
     "output_type": "execute_result"
    }
   ],
   "source": [
    "from pyspark.sql import SparkSession\n",
    "import pyspark.sql.functions as F\n",
    "from pyspark.sql.types import IntegerType, TimestampType, DoubleType\n",
    "from pyspark.sql.types import StructField, StructType, StringType\n",
    "\n",
    "spark = (\n",
    "    \n",
    "            SparkSession\n",
    "            .builder\n",
    "            .appName('SparkCourse') \n",
    "            .master('local[*]') \n",
    "            .config('spark.dynamicAllocation.enabled', 'false')\n",
    "            .getOrCreate()\n",
    "    )\n",
    "\n",
    "sc = spark.sparkContext\n",
    "\n",
    "spark"
   ]
  },
  {
   "cell_type": "code",
   "execution_count": 5,
   "metadata": {},
   "outputs": [],
   "source": [
    "ride_schema = (StructType()\n",
    "                .add('id', 'integer')\n",
    "                .add('VendorId', 'integer')\n",
    "                .add('PickupTime', 'timestamp')\n",
    "                .add('DropoTime', 'timestamp')\n",
    "                .add('PickupLocationId', 'integer')\n",
    "                .add('DropoffLocationId', 'integer')\n",
    "                .add('CabLicense', 'string')\n",
    "                .add('DriverLicense', 'string')\n",
    "                .add('PassangerCount', 'integer')\n",
    "                .add('RateCodeId', 'integer')\n",
    ")"
   ]
  },
  {
   "cell_type": "code",
   "execution_count": 2,
   "metadata": {},
   "outputs": [
    {
     "data": {
      "text/plain": [
       "53.9"
      ]
     },
     "execution_count": 2,
     "metadata": {},
     "output_type": "execute_result"
    }
   ],
   "source": [
    "input_df = (\n",
    "    spark   \n",
    "        .readStream \n",
    "        .schema(ride_schema)\n",
    "        .option('maxFilesPerTrigger', 1)\n",
    "        .option('multiline', 'true')\n",
    "        .json('../data/taxi/Streaming/')\n",
    ")       \n"
   ]
  },
  {
   "cell_type": "code",
   "execution_count": null,
   "metadata": {},
   "outputs": [],
   "source": [
    "print('Is input_df streaming: {}'.format(input_df.isStreaming))\n",
    "\n",
    "console_query = (\n",
    "    input_df\n",
    "        .writeStream\n",
    "        .queryName('FhvRidesQuery')\n",
    "        .format('console')\n",
    "        .outputMode('append')\n",
    "        .trigger(processingTime='10 seconds')\n",
    "        .start()\n",
    ")\n",
    "\n",
    "\n",
    "console_query.awaitTermination()\n",
    "\n"
   ]
  }
 ],
 "metadata": {
  "kernelspec": {
   "display_name": "Python 3",
   "language": "python",
   "name": "python3"
  },
  "language_info": {
   "codemirror_mode": {
    "name": "ipython",
    "version": 3
   },
   "file_extension": ".py",
   "mimetype": "text/x-python",
   "name": "python",
   "nbconvert_exporter": "python",
   "pygments_lexer": "ipython3",
   "version": "3.11.2"
  }
 },
 "nbformat": 4,
 "nbformat_minor": 2
}
