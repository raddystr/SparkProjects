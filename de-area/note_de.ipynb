{
 "cells": [
  {
   "cell_type": "markdown",
   "metadata": {},
   "source": [
    "* Data modeling -> Transform the data into a structure that is easier to understand and faster to query"
   ]
  },
  {
   "cell_type": "markdown",
   "metadata": {},
   "source": [
    "* Star schema -> fact table and dimenssions"
   ]
  },
  {
   "cell_type": "markdown",
   "metadata": {},
   "source": [
    "1. Dimensions are atrributes of an entity:\n",
    "    * slowly-changing( favorite food)\n",
    "    * fixed (birthday)\n",
    "\n",
    "    * OLTP -> optimizes for low-latency low-volume queries\n",
    "    * OLAP -> Optimizes for large, group by queris, minimizes joins\n"
   ]
  },
  {
   "cell_type": "code",
   "execution_count": null,
   "metadata": {},
   "outputs": [],
   "source": []
  }
 ],
 "metadata": {
  "language_info": {
   "name": "python"
  }
 },
 "nbformat": 4,
 "nbformat_minor": 2
}
