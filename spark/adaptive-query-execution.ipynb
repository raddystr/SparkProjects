{
 "cells": [
  {
   "cell_type": "code",
   "execution_count": 8,
   "metadata": {},
   "outputs": [],
   "source": [
    "#spark.conf.set('spark.sql.adaptive.coalescePartitions.enabled', 'true')\n",
    "spark.conf.set('spark.sql.adaptive.enabled', 'false')\n",
    "spark.conf.set('spark.sql.shuffle.partitions', 20)"
   ]
  },
  {
   "cell_type": "code",
   "execution_count": 4,
   "metadata": {},
   "outputs": [
    {
     "name": "stderr",
     "output_type": "stream",
     "text": [
      "                                                                                \r"
     ]
    }
   ],
   "source": [
    "yellow_taxi_df = spark.read.option('header', 'true').option('inferSchema', 'true').csv('../data/YellowTaxis_202210.csv')"
   ]
  },
  {
   "cell_type": "code",
   "execution_count": 6,
   "metadata": {},
   "outputs": [
    {
     "data": {
      "text/plain": [
       "16"
      ]
     },
     "execution_count": 6,
     "metadata": {},
     "output_type": "execute_result"
    }
   ],
   "source": [
    "yellow_taxi_df.rdd.getNumPartitions()\n"
   ]
  },
  {
   "cell_type": "code",
   "execution_count": 9,
   "metadata": {},
   "outputs": [],
   "source": [
    "def get_data_frameStats(df, column_name):\n",
    "    output_df = (\n",
    "        df.withColumn('partition_number', F.spark_partition_id())\n",
    "        .groupBy('partition_number')\n",
    "        .agg(\n",
    "            F.count('*').alias('record count'),\n",
    "            F.min(column_name).alias('min_column_value'),\n",
    "            F.max(column_name).alias('max_column_value')\n",
    "\n",
    "        )\n",
    "        .orderBy('partition_number')\n",
    "    )\n",
    "    return output_df"
   ]
  },
  {
   "cell_type": "code",
   "execution_count": 10,
   "metadata": {},
   "outputs": [],
   "source": [
    "yellow_taxi_df_grouped = yellow_taxi_df.groupBy('VendorId', 'payment_type').agg(F.sum('total_amount'))"
   ]
  },
  {
   "cell_type": "code",
   "execution_count": 13,
   "metadata": {},
   "outputs": [
    {
     "name": "stderr",
     "output_type": "stream",
     "text": [
      "                                                                                \r"
     ]
    }
   ],
   "source": [
    "yellow_taxi_df_grouped.write.csv('../data/test_part_nons')"
   ]
  },
  {
   "cell_type": "code",
   "execution_count": 11,
   "metadata": {},
   "outputs": [
    {
     "name": "stderr",
     "output_type": "stream",
     "text": [
      "                                                                                \r"
     ]
    },
    {
     "name": "stdout",
     "output_type": "stream",
     "text": [
      "+--------+------------+-------------------+\n",
      "|VendorId|payment_type|  sum(total_amount)|\n",
      "+--------+------------+-------------------+\n",
      "|       1|           2|  3407067.989999411|\n",
      "|       2|           4| 1103.9500000000007|\n",
      "|       1|           0|  704915.6500000019|\n",
      "|       1|           4|  73231.74000000034|\n",
      "|       1|           1|1.790332764000427E7|\n",
      "|       6|           0|  279048.8899999997|\n",
      "|       2|           2|  9225232.369998984|\n",
      "|       1|           3| 186607.23999999848|\n",
      "|       2|           0| 2899635.7899999204|\n",
      "|       2|           1|4.708866527998194E7|\n",
      "|       2|           3| 29.719999999999956|\n",
      "+--------+------------+-------------------+\n",
      "\n"
     ]
    }
   ],
   "source": [
    "yellow_taxi_df_grouped.show()"
   ]
  },
  {
   "cell_type": "code",
   "execution_count": 14,
   "metadata": {},
   "outputs": [
    {
     "name": "stderr",
     "output_type": "stream",
     "text": [
      "[Stage 13:>                                                       (0 + 16) / 16]\r"
     ]
    },
    {
     "name": "stdout",
     "output_type": "stream",
     "text": [
      "+----------------+------------+----------------+----------------+\n",
      "|partition_number|record count|min_column_value|max_column_value|\n",
      "+----------------+------------+----------------+----------------+\n",
      "|               1|           2|               1|               2|\n",
      "|               4|           1|               1|               1|\n",
      "|               5|           1|               1|               1|\n",
      "|               7|           1|               1|               1|\n",
      "|               8|           1|               6|               6|\n",
      "|               9|           3|               1|               2|\n",
      "|              17|           1|               2|               2|\n",
      "|              18|           1|               2|               2|\n",
      "+----------------+------------+----------------+----------------+\n",
      "\n"
     ]
    },
    {
     "name": "stderr",
     "output_type": "stream",
     "text": [
      "                                                                                \r"
     ]
    }
   ],
   "source": [
    "get_data_frameStats(yellow_taxi_df_grouped, 'VendorId').show()"
   ]
  }
 ],
 "metadata": {
  "kernelspec": {
   "display_name": "Python 3",
   "language": "python",
   "name": "python3"
  },
  "language_info": {
   "codemirror_mode": {
    "name": "ipython",
    "version": 3
   },
   "file_extension": ".py",
   "mimetype": "text/x-python",
   "name": "python",
   "nbconvert_exporter": "python",
   "pygments_lexer": "ipython3",
   "version": "3.11.2"
  },
  "orig_nbformat": 4
 },
 "nbformat": 4,
 "nbformat_minor": 2
}
