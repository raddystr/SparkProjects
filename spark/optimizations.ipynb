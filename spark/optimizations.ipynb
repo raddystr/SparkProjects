{
 "cells": [
  {
   "cell_type": "code",
   "execution_count": 6,
   "metadata": {
    "is_executing": true
   },
   "outputs": [
    {
     "data": {
      "text/html": [
       "\n",
       "            <div>\n",
       "                <p><b>SparkSession - in-memory</b></p>\n",
       "                \n",
       "        <div>\n",
       "            <p><b>SparkContext</b></p>\n",
       "\n",
       "            <p><a href=\"http://172.22.34.28:4040\">Spark UI</a></p>\n",
       "\n",
       "            <dl>\n",
       "              <dt>Version</dt>\n",
       "                <dd><code>v3.4.1</code></dd>\n",
       "              <dt>Master</dt>\n",
       "                <dd><code>local[*]</code></dd>\n",
       "              <dt>AppName</dt>\n",
       "                <dd><code>SparkCourse</code></dd>\n",
       "            </dl>\n",
       "        </div>\n",
       "        \n",
       "            </div>\n",
       "        "
      ],
      "text/plain": [
       "<pyspark.sql.session.SparkSession at 0x7f37051e0510>"
      ]
     },
     "execution_count": 6,
     "metadata": {},
     "output_type": "execute_result"
    }
   ],
   "source": [
    "from pyspark.sql import SparkSession\n",
    "import pyspark.sql.functions as F\n",
    "from pyspark.sql.types import IntegerType, StructType, StructField\n",
    "from pyspark.sql.types import DoubleType, TimestampType, StringType\n",
    "\n",
    "\n",
    "from IPython.display import *\n",
    "\n",
    "\n",
    "data_path = '../data/'\n",
    "\n",
    "spark = (\n",
    "    \n",
    "            SparkSession\n",
    "            .builder\n",
    "            .appName('SparkCourse') \n",
    "            .master('local[*]') \n",
    "            .config('spark.dynamicAllocation.enabled', 'false')\n",
    "            .config('spark.sql.adaptive.enabled', 'false')\n",
    "            \n",
    "            .getOrCreate()\n",
    "    )\n",
    "\n",
    "sc = spark.sparkContext\n",
    "\n",
    "spark"
   ]
  },
  {
   "cell_type": "markdown",
   "metadata": {
    "collapsed": false
   },
   "source": [
    "### PARTITIONING \n",
    "\n",
    "    1. In Memory -> chunks of data read in memory\n",
    "    2. Disk Partitioning -> Writing output to disk by physically partitioning data based on columns \n",
    "\n",
    "    default:\n",
    "    spark.default.parallelism = 4 \n",
    "    spark.sql.files.maxPartitionBytes = 128 MB "
   ]
  },
  {
   "cell_type": "code",
   "execution_count": 2,
   "metadata": {
    "is_executing": true
   },
   "outputs": [],
   "source": [
    "def getDataFrameStats(df, column_name):\n",
    "    out_df = df.withColumn('partition_number', F.spark_partition_id()).groupBy('partition_number').agg(\n",
    "        F.count('*').alias('record_count'),\n",
    "        F.min(column_name).alias('min_column_value'),\n",
    "        F.max(column_name).alias('max_column_value')\n",
    "    ).orderBy('partition_number')\n",
    "\n",
    "    return out_df\n",
    "    "
   ]
  },
  {
   "cell_type": "code",
   "execution_count": 3,
   "metadata": {},
   "outputs": [
    {
     "data": {
      "text/plain": [
       "8"
      ]
     },
     "execution_count": 3,
     "metadata": {},
     "output_type": "execute_result"
    }
   ],
   "source": [
    "sc.defaultParallelism"
   ]
  },
  {
   "cell_type": "code",
   "execution_count": 4,
   "metadata": {},
   "outputs": [
    {
     "name": "stderr",
     "output_type": "stream",
     "text": [
      "                                                                                \r"
     ]
    }
   ],
   "source": [
    "taxi_zones_df = spark.read.option('inferSchema', 'true').csv('../data/TaxiZones.csv')"
   ]
  },
  {
   "cell_type": "code",
   "execution_count": 5,
   "metadata": {},
   "outputs": [
    {
     "name": "stdout",
     "output_type": "stream",
     "text": [
      "Partitions = 1\n",
      "Record Count = 265\n"
     ]
    }
   ],
   "source": [
    "print('Partitions = ' + str(taxi_zones_df.rdd.getNumPartitions() ))\n",
    "print('Record Count = ' + str(taxi_zones_df.count()))"
   ]
  },
  {
   "cell_type": "code",
   "execution_count": 6,
   "metadata": {},
   "outputs": [],
   "source": [
    "yellow_taxi_df = (spark\n",
    "                    .read\n",
    "                    .option('header', 'true')\n",
    "                    .option('inferShema', 'true')\n",
    "                    .csv('../data/YellowTaxis_202210.csv')\n",
    ")"
   ]
  },
  {
   "cell_type": "code",
   "execution_count": 7,
   "metadata": {},
   "outputs": [],
   "source": [
    "spark.conf.set('spark.sql.files.maxPartitionBytes', '64m')"
   ]
  },
  {
   "cell_type": "code",
   "execution_count": 8,
   "metadata": {},
   "outputs": [
    {
     "name": "stdout",
     "output_type": "stream",
     "text": [
      "Partitions = 8\n"
     ]
    },
    {
     "name": "stderr",
     "output_type": "stream",
     "text": [
      "[Stage 5:==============>                                            (2 + 6) / 8]\r"
     ]
    },
    {
     "name": "stdout",
     "output_type": "stream",
     "text": [
      "Record Count = 3675412\n"
     ]
    },
    {
     "name": "stderr",
     "output_type": "stream",
     "text": [
      "                                                                                \r"
     ]
    }
   ],
   "source": [
    "print('Partitions = ' + str(yellow_taxi_df.rdd.getNumPartitions()))\n",
    "print('Record Count = ' + str(yellow_taxi_df.count()) )"
   ]
  },
  {
   "cell_type": "code",
   "execution_count": 9,
   "metadata": {},
   "outputs": [
    {
     "name": "stdout",
     "output_type": "stream",
     "text": [
      "+--------+-----------------------------+-----------------------------+---------------+-------------+----------+------------------+------------+------------+------------+-----------+-----+-------+----------+------------+---------------------+------------+--------------------+-----------+\n",
      "|VendorID|tpep_pickup_datetime         |tpep_dropoff_datetime        |passenger_count|trip_distance|RatecodeID|store_and_fwd_flag|PULocationID|DOLocationID|payment_type|fare_amount|extra|mta_tax|tip_amount|tolls_amount|improvement_surcharge|total_amount|congestion_surcharge|airport_fee|\n",
      "+--------+-----------------------------+-----------------------------+---------------+-------------+----------+------------------+------------+------------+------------+-----------+-----+-------+----------+------------+---------------------+------------+--------------------+-----------+\n",
      "|1       |2022-10-01T05:33:41.000+05:30|2022-10-01T05:48:39.000+05:30|1.0            |1.7          |1.0       |N                 |249         |107         |1           |9.5        |3.0  |0.5    |2.65      |0.0         |0.3                  |15.95       |2.5                 |0.0        |\n",
      "|2       |2022-10-01T05:44:30.000+05:30|2022-10-01T05:49:48.000+05:30|2.0            |0.72         |1.0       |N                 |151         |238         |2           |5.5        |0.5  |0.5    |0.0       |0.0         |0.3                  |9.3         |2.5                 |0.0        |\n",
      "|2       |2022-10-01T05:57:13.000+05:30|2022-10-01T06:07:41.000+05:30|1.0            |1.74         |1.0       |N                 |238         |166         |1           |9.0        |0.5  |0.5    |2.06      |0.0         |0.3                  |12.36       |0.0                 |0.0        |\n",
      "|1       |2022-10-01T06:02:53.000+05:30|2022-10-01T06:08:55.000+05:30|0.0            |1.3          |1.0       |N                 |142         |239         |1           |6.5        |3.0  |0.5    |2.05      |0.0         |0.3                  |12.35       |2.5                 |0.0        |\n",
      "|1       |2022-10-01T06:14:55.000+05:30|2022-10-01T06:20:21.000+05:30|0.0            |1.0          |1.0       |N                 |238         |166         |1           |6.0        |0.5  |0.5    |1.8       |0.0         |0.3                  |9.1         |0.0                 |0.0        |\n",
      "|1       |2022-10-01T05:52:52.000+05:30|2022-10-01T06:22:14.000+05:30|1.0            |6.8          |1.0       |Y                 |186         |41          |2           |25.5       |3.0  |0.5    |0.0       |0.0         |0.3                  |29.3        |2.5                 |0.0        |\n",
      "|2       |2022-10-01T06:03:19.000+05:30|2022-10-01T06:14:51.000+05:30|3.0            |1.88         |1.0       |N                 |162         |145         |2           |10.5       |0.5  |0.5    |0.0       |0.0         |0.3                  |14.3        |2.5                 |0.0        |\n",
      "|1       |2022-10-01T05:32:42.000+05:30|2022-10-01T06:20:01.000+05:30|1.0            |12.2         |1.0       |N                 |100         |22          |1           |41.0       |3.0  |0.5    |3.0       |0.0         |0.3                  |47.8        |2.5                 |0.0        |\n",
      "|2       |2022-10-01T05:36:35.000+05:30|2022-10-01T05:54:38.000+05:30|1.0            |7.79         |1.0       |N                 |138         |112         |1           |23.5       |0.5  |0.5    |4.96      |0.0         |0.3                  |31.01       |0.0                 |1.25       |\n",
      "|2       |2022-10-01T05:59:25.000+05:30|2022-10-01T06:13:15.000+05:30|1.0            |4.72         |1.0       |N                 |145         |75          |1           |14.5       |0.5  |0.5    |1.5       |0.0         |0.3                  |19.8        |2.5                 |0.0        |\n",
      "+--------+-----------------------------+-----------------------------+---------------+-------------+----------+------------------+------------+------------+------------+-----------+-----+-------+----------+------------+---------------------+------------+--------------------+-----------+\n",
      "only showing top 10 rows\n",
      "\n"
     ]
    }
   ],
   "source": [
    "yellow_taxi_df.show(10, truncate=False)"
   ]
  },
  {
   "cell_type": "code",
   "execution_count": 10,
   "metadata": {},
   "outputs": [],
   "source": [
    "yellow_taxi_df_rp = yellow_taxi_df.repartition(14) ## eound robin\n",
    "\n",
    "yellow_taxi_df_rp_range = yellow_taxi_df.repartitionByRange(14, 'PULocationID') ## reduce skewness\n",
    "\n",
    "yellow_taxi_df_coalesce = yellow_taxi_df.coalesce(1)"
   ]
  },
  {
   "cell_type": "code",
   "execution_count": 11,
   "metadata": {},
   "outputs": [
    {
     "name": "stderr",
     "output_type": "stream",
     "text": [
      "[Stage 8:>                                                          (0 + 1) / 1]\r"
     ]
    },
    {
     "name": "stdout",
     "output_type": "stream",
     "text": [
      "+----------------+------------+----------------+----------------+\n",
      "|partition_number|record_count|min_column_value|max_column_value|\n",
      "+----------------+------------+----------------+----------------+\n",
      "|               0|     3675412|               1|              98|\n",
      "+----------------+------------+----------------+----------------+\n",
      "\n"
     ]
    },
    {
     "name": "stderr",
     "output_type": "stream",
     "text": [
      "                                                                                \r"
     ]
    }
   ],
   "source": [
    "getDataFrameStats(yellow_taxi_df_coalesce, 'PULocationID').show(10)"
   ]
  },
  {
   "cell_type": "markdown",
   "metadata": {},
   "source": [
    "##### Repartition Method -> increse number of partition \n",
    "    1. Wide transformation -> shuffling \n",
    "    2. Partition Options \n",
    "        1. Round robin -> creates equal sized partitions \n",
    "        2. Hash -> co-locates data based on columns \n",
    "        3. reduce skewness -> some partitions have much more data tna others reduce partiotion size \n",
    "\n",
    "##### Coalesce method decrease number of partitions: \n",
    "    1. decrease partitions"
   ]
  },
  {
   "cell_type": "markdown",
   "metadata": {},
   "source": [
    "### MEMORY MANAGEMENT \n",
    "\n",
    "    1. JVM HEAP memory is used for Spark activity\n",
    "    2. Non-heap memory(overhead memory) - non JVM processes like VM overheads, buffers, udfs etc."
   ]
  },
  {
   "cell_type": "markdown",
   "metadata": {},
   "source": [
    "##### Driver container \n",
    "\n",
    "    spark.driver.cores =2\n",
    "    spark.driver.memory =8g\n",
    "    spark.driver.memoryOverhead = max(10% of memory or 384 MB)"
   ]
  },
  {
   "cell_type": "markdown",
   "metadata": {},
   "source": [
    "##### Executor container\n",
    "\n",
    "    spark.executor.cores =4\n",
    "    spark.executor.memory =14g\n",
    "    spark.memory.fraction =(14_000 - 30) * 0.6"
   ]
  },
  {
   "cell_type": "markdown",
   "metadata": {},
   "source": [
    "#### Executor JVM HEAP\n",
    "    1. Reserved Memory = 300m\n",
    "    2. Spark Memory = spark.memory.fraction(for task execution, caching, shufling df operations etc.)\n",
    "        2.1 Storage Memory = Spark Memory/2(storing cached data)\n",
    "        2.2 Execution Memory = Spark Meory/2(df ops, task execution, shuffling...)\n",
    "    3. User Memory =(14_000 - 30) * 0.4(for stroring data structures created by user, metadata, RDD operations, UDFs, etc)\n"
   ]
  },
  {
   "cell_type": "markdown",
   "metadata": {},
   "source": [
    "#### CACHING METHODS\n",
    "    -> Lazy operation\n",
    "    -> Uses LRU(Least-Recently-Used)\n",
    "    cache() -> no argumets\n",
    "    persist()\n",
    "        MEMORY_ONLY -> Partitions that can fit in memory are cached; others are recomputed each time\n",
    "        MEMORY_AND_DISK -> Partitions that can fit in memory are cached others are spilled to local disk \n",
    "        of Worker\n",
    "        DISK_ONLY:Onlys stored on disk; pulled when required\n",
    "    unpesist() -> not required"
   ]
  },
  {
   "cell_type": "code",
   "execution_count": 12,
   "metadata": {},
   "outputs": [
    {
     "name": "stderr",
     "output_type": "stream",
     "text": [
      "                                                                                \r"
     ]
    }
   ],
   "source": [
    "yellow_taxi_df = spark.read.option('header', 'true').option('inferSchema', 'true').csv('../data/YellowTaxis_202210.csv')"
   ]
  },
  {
   "cell_type": "code",
   "execution_count": 13,
   "metadata": {},
   "outputs": [
    {
     "name": "stdout",
     "output_type": "stream",
     "text": [
      "root\n",
      " |-- VendorID: integer (nullable = true)\n",
      " |-- tpep_pickup_datetime: timestamp (nullable = true)\n",
      " |-- tpep_dropoff_datetime: timestamp (nullable = true)\n",
      " |-- passenger_count: double (nullable = true)\n",
      " |-- trip_distance: double (nullable = true)\n",
      " |-- RatecodeID: double (nullable = true)\n",
      " |-- store_and_fwd_flag: string (nullable = true)\n",
      " |-- PULocationID: integer (nullable = true)\n",
      " |-- DOLocationID: integer (nullable = true)\n",
      " |-- payment_type: integer (nullable = true)\n",
      " |-- fare_amount: double (nullable = true)\n",
      " |-- extra: double (nullable = true)\n",
      " |-- mta_tax: double (nullable = true)\n",
      " |-- tip_amount: double (nullable = true)\n",
      " |-- tolls_amount: double (nullable = true)\n",
      " |-- improvement_surcharge: double (nullable = true)\n",
      " |-- total_amount: double (nullable = true)\n",
      " |-- congestion_surcharge: double (nullable = true)\n",
      " |-- airport_fee: double (nullable = true)\n",
      "\n"
     ]
    }
   ],
   "source": [
    "yellow_taxi_df.printSchema()"
   ]
  },
  {
   "cell_type": "code",
   "execution_count": 14,
   "metadata": {},
   "outputs": [],
   "source": [
    "yellow_taxi_df_grouped = (\n",
    "    yellow_taxi_df\n",
    "        .dropDuplicates()\n",
    "        .groupBy('PULocationID')\n",
    "        .agg(F.sum('total_amount'))\n",
    ")\n"
   ]
  },
  {
   "cell_type": "code",
   "execution_count": 15,
   "metadata": {},
   "outputs": [
    {
     "name": "stderr",
     "output_type": "stream",
     "text": [
      "                                                                                \r"
     ]
    },
    {
     "name": "stdout",
     "output_type": "stream",
     "text": [
      "+------------+------------------+\n",
      "|PULocationID| sum(total_amount)|\n",
      "+------------+------------------+\n",
      "|         148| 795087.6300000009|\n",
      "|         243|16739.699999999993|\n",
      "|          31| 935.1500000000001|\n",
      "|         137| 762800.5900000014|\n",
      "|          85|3172.5599999999995|\n",
      "|         251|            521.63|\n",
      "|          65|          80190.23|\n",
      "|         255| 51031.77999999998|\n",
      "|          53|1601.2899999999993|\n",
      "|         133|3281.4800000000014|\n",
      "+------------+------------------+\n",
      "only showing top 10 rows\n",
      "\n"
     ]
    }
   ],
   "source": [
    "yellow_taxi_df_grouped.show(10)"
   ]
  },
  {
   "cell_type": "code",
   "execution_count": 16,
   "metadata": {},
   "outputs": [
    {
     "name": "stderr",
     "output_type": "stream",
     "text": [
      "                                                                                \r"
     ]
    }
   ],
   "source": [
    "yellow_taxi_df_grouped.write.option('header', 'true').option('dateFormat', 'yyyy-MM-dd HH:mm:ss.S').mode('overwrite').csv('../data/results/cached_test')"
   ]
  },
  {
   "cell_type": "code",
   "execution_count": 17,
   "metadata": {},
   "outputs": [],
   "source": [
    "import pyspark"
   ]
  },
  {
   "cell_type": "code",
   "execution_count": 18,
   "metadata": {},
   "outputs": [
    {
     "data": {
      "text/plain": [
       "DataFrame[PULocationID: int, sum(total_amount): double]"
      ]
     },
     "execution_count": 18,
     "metadata": {},
     "output_type": "execute_result"
    }
   ],
   "source": [
    "yellow_taxi_df_grouped.persist(pyspark.StorageLevel.MEMORY_AND_DISK)"
   ]
  },
  {
   "cell_type": "code",
   "execution_count": 19,
   "metadata": {},
   "outputs": [
    {
     "name": "stderr",
     "output_type": "stream",
     "text": [
      "                                                                                \r"
     ]
    }
   ],
   "source": [
    "yellow_taxi_df_grouped.write.option('header', 'true').option('dateFormat', 'yyyy-MM-dd HH:mm:ss.S').mode('overwrite').csv('../data/results/cached_test_1')"
   ]
  },
  {
   "cell_type": "code",
   "execution_count": 20,
   "metadata": {},
   "outputs": [
    {
     "data": {
      "text/plain": [
       "DataFrame[PULocationID: int, sum(total_amount): double]"
      ]
     },
     "execution_count": 20,
     "metadata": {},
     "output_type": "execute_result"
    }
   ],
   "source": [
    "yellow_taxi_df_grouped.unpersist()"
   ]
  },
  {
   "cell_type": "markdown",
   "metadata": {},
   "source": [
    "#### JOIN STRATEGIES AND BROADCAST JOINS"
   ]
  },
  {
   "cell_type": "markdown",
   "metadata": {},
   "source": [
    "##### 1. BroadCasting"
   ]
  },
  {
   "cell_type": "code",
   "execution_count": 3,
   "metadata": {},
   "outputs": [
    {
     "data": {
      "text/plain": [
       "'10485760b'"
      ]
     },
     "execution_count": 3,
     "metadata": {},
     "output_type": "execute_result"
    }
   ],
   "source": [
    "spark.conf.get('spark.sql.autoBroadcastJoinThreshold')\n",
    "\n",
    "#spark.conf.get('spark.sql.autoBroadcastJoinThreshold', '-1') disable\n"
   ]
  },
  {
   "cell_type": "code",
   "execution_count": 12,
   "metadata": {},
   "outputs": [
    {
     "name": "stderr",
     "output_type": "stream",
     "text": [
      "                                                                                \r"
     ]
    },
    {
     "data": {
      "text/plain": [
       "3675412"
      ]
     },
     "execution_count": 12,
     "metadata": {},
     "output_type": "execute_result"
    }
   ],
   "source": [
    "yellow_taxi_schema = StructType([\n",
    "        StructField('VendorId', IntegerType(), True),\n",
    "        StructField('PickupTime', TimestampType(), True),\n",
    "        StructField('DropTime', TimestampType(), True),\n",
    "        StructField('PassengerCount', DoubleType(), True),\n",
    "        StructField('TripDistance', DoubleType(), True),\n",
    "        StructField('RateCodeId', DoubleType(), True),\n",
    "        StructField('StoreAndFwdFlag', StringType(), True),\n",
    "        StructField('PickupLocationId', IntegerType(), True),\n",
    "        StructField('DropLocationId', IntegerType(), True),\n",
    "        StructField('PaymentType', IntegerType(), True),\n",
    "        StructField('FareAmount', DoubleType(), True),\n",
    "        StructField('Extra', DoubleType(), True),\n",
    "        StructField('MtaTax', DoubleType(), True),\n",
    "        StructField('TipAmount', DoubleType(), True),\n",
    "        StructField('TollsAmount', DoubleType(), True),\n",
    "        StructField('ImprovementSurchange', DoubleType(), True),\n",
    "        StructField('TotalAmount', DoubleType(), True),\n",
    "        StructField('CongestionSurcharge', DoubleType(), True),\n",
    "        StructField('AirportFee', DoubleType(), True),\n",
    "])\n",
    "yellow_taxi_df.count()"
   ]
  },
  {
   "cell_type": "code",
   "execution_count": 10,
   "metadata": {},
   "outputs": [],
   "source": [
    "yellow_taxi_df = spark.read.option('header', 'true').schema(yellow_taxi_schema).csv('../data/YellowTaxis_202210.csv')"
   ]
  },
  {
   "cell_type": "code",
   "execution_count": 11,
   "metadata": {},
   "outputs": [
    {
     "name": "stdout",
     "output_type": "stream",
     "text": [
      "+--------+-------------------+-------------------+--------------+------------+----------+---------------+----------------+--------------+-----------+----------+-----+------+---------+-----------+--------------------+-----------+-------------------+----------+\n",
      "|VendorId|         PickupTime|           DropTime|PassengerCount|TripDistance|RateCodeId|StoreAndFwdFlag|PickupLocationId|DropLocationId|PaymentType|FareAmount|Extra|MtaTax|TipAmount|TollsAmount|ImprovementSurchange|TotalAmount|CongestionSurcharge|AirportFee|\n",
      "+--------+-------------------+-------------------+--------------+------------+----------+---------------+----------------+--------------+-----------+----------+-----+------+---------+-----------+--------------------+-----------+-------------------+----------+\n",
      "|       1|2022-10-01 03:03:41|2022-10-01 03:18:39|           1.0|         1.7|       1.0|              N|             249|           107|          1|       9.5|  3.0|   0.5|     2.65|        0.0|                 0.3|      15.95|                2.5|       0.0|\n",
      "|       2|2022-10-01 03:14:30|2022-10-01 03:19:48|           2.0|        0.72|       1.0|              N|             151|           238|          2|       5.5|  0.5|   0.5|      0.0|        0.0|                 0.3|        9.3|                2.5|       0.0|\n",
      "|       2|2022-10-01 03:27:13|2022-10-01 03:37:41|           1.0|        1.74|       1.0|              N|             238|           166|          1|       9.0|  0.5|   0.5|     2.06|        0.0|                 0.3|      12.36|                0.0|       0.0|\n",
      "|       1|2022-10-01 03:32:53|2022-10-01 03:38:55|           0.0|         1.3|       1.0|              N|             142|           239|          1|       6.5|  3.0|   0.5|     2.05|        0.0|                 0.3|      12.35|                2.5|       0.0|\n",
      "|       1|2022-10-01 03:44:55|2022-10-01 03:50:21|           0.0|         1.0|       1.0|              N|             238|           166|          1|       6.0|  0.5|   0.5|      1.8|        0.0|                 0.3|        9.1|                0.0|       0.0|\n",
      "|       1|2022-10-01 03:22:52|2022-10-01 03:52:14|           1.0|         6.8|       1.0|              Y|             186|            41|          2|      25.5|  3.0|   0.5|      0.0|        0.0|                 0.3|       29.3|                2.5|       0.0|\n",
      "|       2|2022-10-01 03:33:19|2022-10-01 03:44:51|           3.0|        1.88|       1.0|              N|             162|           145|          2|      10.5|  0.5|   0.5|      0.0|        0.0|                 0.3|       14.3|                2.5|       0.0|\n",
      "|       1|2022-10-01 03:02:42|2022-10-01 03:50:01|           1.0|        12.2|       1.0|              N|             100|            22|          1|      41.0|  3.0|   0.5|      3.0|        0.0|                 0.3|       47.8|                2.5|       0.0|\n",
      "|       2|2022-10-01 03:06:35|2022-10-01 03:24:38|           1.0|        7.79|       1.0|              N|             138|           112|          1|      23.5|  0.5|   0.5|     4.96|        0.0|                 0.3|      31.01|                0.0|      1.25|\n",
      "|       2|2022-10-01 03:29:25|2022-10-01 03:43:15|           1.0|        4.72|       1.0|              N|             145|            75|          1|      14.5|  0.5|   0.5|      1.5|        0.0|                 0.3|       19.8|                2.5|       0.0|\n",
      "+--------+-------------------+-------------------+--------------+------------+----------+---------------+----------------+--------------+-----------+----------+-----+------+---------+-----------+--------------------+-----------+-------------------+----------+\n",
      "only showing top 10 rows\n",
      "\n"
     ]
    },
    {
     "name": "stderr",
     "output_type": "stream",
     "text": [
      "23/09/17 16:01:56 WARN CSVHeaderChecker: CSV header does not conform to the schema.\n",
      " Header: VendorID, tpep_pickup_datetime, tpep_dropoff_datetime, passenger_count, trip_distance, RatecodeID, store_and_fwd_flag, PULocationID, DOLocationID, payment_type, fare_amount, extra, mta_tax, tip_amount, tolls_amount, improvement_surcharge, total_amount, congestion_surcharge, airport_fee\n",
      " Schema: VendorId, PickupTime, DropTime, PassengerCount, TripDistance, RateCodeId, StoreAndFwdFlag, PickupLocationId, DropLocationId, PaymentType, FareAmount, Extra, MtaTax, TipAmount, TollsAmount, ImprovementSurchange, TotalAmount, CongestionSurcharge, AirportFee\n",
      "Expected: PickupTime but found: tpep_pickup_datetime\n",
      "CSV file: file:///home/raddy/projects/DataLab/data/YellowTaxis_202210.csv\n"
     ]
    }
   ],
   "source": [
    "yellow_taxi_df.show(10)"
   ]
  },
  {
   "cell_type": "code",
   "execution_count": 16,
   "metadata": {},
   "outputs": [
    {
     "data": {
      "text/plain": [
       "265"
      ]
     },
     "execution_count": 16,
     "metadata": {},
     "output_type": "execute_result"
    }
   ],
   "source": [
    "taxi_zones_schema = \"PickupLocationId INT, Borough STRING, Zone STRING, ServiceZone STRING\"\n",
    "\n",
    "taxi_zones_df = spark.read.schema(taxi_zones_schema).csv('../data/TaxiZones.csv')\n",
    "\n",
    "taxi_zones_df.count()"
   ]
  },
  {
   "cell_type": "code",
   "execution_count": 15,
   "metadata": {},
   "outputs": [
    {
     "name": "stdout",
     "output_type": "stream",
     "text": [
      "+----------------+-------------+--------------------+-----------+\n",
      "|PickupLocationId|      Borough|                Zone|ServiceZone|\n",
      "+----------------+-------------+--------------------+-----------+\n",
      "|               1|          EWR|      Newark Airport|        EWR|\n",
      "|               2|       Queens|         Jamaica Bay|  Boro Zone|\n",
      "|               3|        Bronx|Allerton/Pelham G...|  Boro Zone|\n",
      "|               4|    Manhattan|       Alphabet City|Yellow Zone|\n",
      "|               5|Staten Island|       Arden Heights|  Boro Zone|\n",
      "|               6|Staten Island|Arrochar/Fort Wad...|  Boro Zone|\n",
      "|               7|       Queens|             Astoria|  Boro Zone|\n",
      "|               8|       Queens|        Astoria Park|  Boro Zone|\n",
      "|               9|       Queens|          Auburndale|  Boro Zone|\n",
      "|              10|       Queens|        Baisley Park|  Boro Zone|\n",
      "+----------------+-------------+--------------------+-----------+\n",
      "only showing top 10 rows\n",
      "\n"
     ]
    }
   ],
   "source": [
    "taxi_zones_df.show(10)"
   ]
  },
  {
   "cell_type": "code",
   "execution_count": 22,
   "metadata": {},
   "outputs": [],
   "source": [
    "joined_df_1 = yellow_taxi_df.join( F.broadcast(taxi_zones_df), yellow_taxi_df.PickupLocationId == taxi_zones_df.PickupLocationId)"
   ]
  },
  {
   "cell_type": "code",
   "execution_count": 23,
   "metadata": {},
   "outputs": [
    {
     "name": "stdout",
     "output_type": "stream",
     "text": [
      "+--------+-------------------+-------------------+--------------+------------+----------+---------------+----------------+--------------+-----------+----------+-----+------+---------+-----------+--------------------+-----------+-------------------+----------+----------------+---------+------------------------------+-----------+\n",
      "|VendorId|PickupTime         |DropTime           |PassengerCount|TripDistance|RateCodeId|StoreAndFwdFlag|PickupLocationId|DropLocationId|PaymentType|FareAmount|Extra|MtaTax|TipAmount|TollsAmount|ImprovementSurchange|TotalAmount|CongestionSurcharge|AirportFee|PickupLocationId|Borough  |Zone                          |ServiceZone|\n",
      "+--------+-------------------+-------------------+--------------+------------+----------+---------------+----------------+--------------+-----------+----------+-----+------+---------+-----------+--------------------+-----------+-------------------+----------+----------------+---------+------------------------------+-----------+\n",
      "|1       |2022-10-01 03:03:41|2022-10-01 03:18:39|1.0           |1.7         |1.0       |N              |249             |107           |1          |9.5       |3.0  |0.5   |2.65     |0.0        |0.3                 |15.95      |2.5                |0.0       |249             |Manhattan|West Village                  |Yellow Zone|\n",
      "|2       |2022-10-01 03:14:30|2022-10-01 03:19:48|2.0           |0.72        |1.0       |N              |151             |238           |2          |5.5       |0.5  |0.5   |0.0      |0.0        |0.3                 |9.3        |2.5                |0.0       |151             |Manhattan|Manhattan Valley              |Yellow Zone|\n",
      "|2       |2022-10-01 03:27:13|2022-10-01 03:37:41|1.0           |1.74        |1.0       |N              |238             |166           |1          |9.0       |0.5  |0.5   |2.06     |0.0        |0.3                 |12.36      |0.0                |0.0       |238             |Manhattan|Upper West Side North         |Yellow Zone|\n",
      "|1       |2022-10-01 03:32:53|2022-10-01 03:38:55|0.0           |1.3         |1.0       |N              |142             |239           |1          |6.5       |3.0  |0.5   |2.05     |0.0        |0.3                 |12.35      |2.5                |0.0       |142             |Manhattan|Lincoln Square East           |Yellow Zone|\n",
      "|1       |2022-10-01 03:44:55|2022-10-01 03:50:21|0.0           |1.0         |1.0       |N              |238             |166           |1          |6.0       |0.5  |0.5   |1.8      |0.0        |0.3                 |9.1        |0.0                |0.0       |238             |Manhattan|Upper West Side North         |Yellow Zone|\n",
      "|1       |2022-10-01 03:22:52|2022-10-01 03:52:14|1.0           |6.8         |1.0       |Y              |186             |41            |2          |25.5      |3.0  |0.5   |0.0      |0.0        |0.3                 |29.3       |2.5                |0.0       |186             |Manhattan|Penn Station/Madison Sq West  |Yellow Zone|\n",
      "|2       |2022-10-01 03:33:19|2022-10-01 03:44:51|3.0           |1.88        |1.0       |N              |162             |145           |2          |10.5      |0.5  |0.5   |0.0      |0.0        |0.3                 |14.3       |2.5                |0.0       |162             |Manhattan|Midtown East                  |Yellow Zone|\n",
      "|1       |2022-10-01 03:02:42|2022-10-01 03:50:01|1.0           |12.2        |1.0       |N              |100             |22            |1          |41.0      |3.0  |0.5   |3.0      |0.0        |0.3                 |47.8       |2.5                |0.0       |100             |Manhattan|Garment District              |Yellow Zone|\n",
      "|2       |2022-10-01 03:06:35|2022-10-01 03:24:38|1.0           |7.79        |1.0       |N              |138             |112           |1          |23.5      |0.5  |0.5   |4.96     |0.0        |0.3                 |31.01      |0.0                |1.25      |138             |Queens   |LaGuardia Airport             |Airports   |\n",
      "|2       |2022-10-01 03:29:25|2022-10-01 03:43:15|1.0           |4.72        |1.0       |N              |145             |75            |1          |14.5      |0.5  |0.5   |1.5      |0.0        |0.3                 |19.8       |2.5                |0.0       |145             |Queens   |Long Island City/Hunters Point|Boro Zone  |\n",
      "+--------+-------------------+-------------------+--------------+------------+----------+---------------+----------------+--------------+-----------+----------+-----+------+---------+-----------+--------------------+-----------+-------------------+----------+----------------+---------+------------------------------+-----------+\n",
      "only showing top 10 rows\n",
      "\n"
     ]
    },
    {
     "name": "stderr",
     "output_type": "stream",
     "text": [
      "23/09/17 16:14:43 WARN CSVHeaderChecker: CSV header does not conform to the schema.\n",
      " Header: VendorID, tpep_pickup_datetime, tpep_dropoff_datetime, passenger_count, trip_distance, RatecodeID, store_and_fwd_flag, PULocationID, DOLocationID, payment_type, fare_amount, extra, mta_tax, tip_amount, tolls_amount, improvement_surcharge, total_amount, congestion_surcharge, airport_fee\n",
      " Schema: VendorId, PickupTime, DropTime, PassengerCount, TripDistance, RateCodeId, StoreAndFwdFlag, PickupLocationId, DropLocationId, PaymentType, FareAmount, Extra, MtaTax, TipAmount, TollsAmount, ImprovementSurchange, TotalAmount, CongestionSurcharge, AirportFee\n",
      "Expected: PickupTime but found: tpep_pickup_datetime\n",
      "CSV file: file:///home/raddy/projects/DataLab/data/YellowTaxis_202210.csv\n"
     ]
    }
   ],
   "source": [
    "joined_df_1.show(10, truncate=False)"
   ]
  },
  {
   "cell_type": "markdown",
   "metadata": {},
   "source": [
    "##### 2. Bucketing"
   ]
  },
  {
   "cell_type": "code",
   "execution_count": 24,
   "metadata": {},
   "outputs": [],
   "source": [
    "yellow_taxi_df.createOrReplaceTempView('YellowTaxis1_Unbucketed')\n",
    "yellow_taxi_df.createOrReplaceTempView('YellowTaxis2_Unbucketed')"
   ]
  },
  {
   "cell_type": "code",
   "execution_count": 38,
   "metadata": {},
   "outputs": [
    {
     "name": "stderr",
     "output_type": "stream",
     "text": [
      "23/09/17 17:14:52 WARN CSVHeaderChecker: CSV header does not conform to the schema.\n",
      " Header: VendorID, tpep_pickup_datetime, tpep_dropoff_datetime, passenger_count, trip_distance, RatecodeID, store_and_fwd_flag, PULocationID, DOLocationID, payment_type, fare_amount, extra, mta_tax, tip_amount, tolls_amount, improvement_surcharge, total_amount, congestion_surcharge, airport_fee\n",
      " Schema: VendorId, PickupTime, DropTime, PassengerCount, TripDistance, RateCodeId, StoreAndFwdFlag, PickupLocationId, DropLocationId, PaymentType, FareAmount, Extra, MtaTax, TipAmount, TollsAmount, ImprovementSurchange, TotalAmount, CongestionSurcharge, AirportFee\n",
      "Expected: PickupTime but found: tpep_pickup_datetime\n",
      "CSV file: file:///home/raddy/projects/DataLab/data/YellowTaxis_202210.csv\n",
      "23/09/17 17:15:02 WARN CSVHeaderChecker: CSV header does not conform to the schema.\n",
      " Header: VendorID, tpep_pickup_datetime, tpep_dropoff_datetime, passenger_count, trip_distance, RatecodeID, store_and_fwd_flag, PULocationID, DOLocationID, payment_type, fare_amount, extra, mta_tax, tip_amount, tolls_amount, improvement_surcharge, total_amount, congestion_surcharge, airport_fee\n",
      " Schema: VendorId, PickupTime, DropTime, PassengerCount, TripDistance, RateCodeId, StoreAndFwdFlag, PickupLocationId, DropLocationId, PaymentType, FareAmount, Extra, MtaTax, TipAmount, TollsAmount, ImprovementSurchange, TotalAmount, CongestionSurcharge, AirportFee\n",
      "Expected: PickupTime but found: tpep_pickup_datetime\n",
      "CSV file: file:///home/raddy/projects/DataLab/data/YellowTaxis_202210.csv\n",
      "[Stage 20:====================================>                     (5 + 3) / 8]\r"
     ]
    },
    {
     "name": "stdout",
     "output_type": "stream",
     "text": [
      "+--------+-------------------+-------------------+--------------+------------+----------+---------------+----------------+--------------+-----------+----------+-----+------+---------+-----------+--------------------+-----------+-------------------+----------+--------+-------------------+-------------------+--------------+------------+----------+---------------+----------------+--------------+-----------+----------+-----+------+---------+-----------+--------------------+-----------+-------------------+----------+\n",
      "|VendorId|         PickupTime|           DropTime|PassengerCount|TripDistance|RateCodeId|StoreAndFwdFlag|PickupLocationId|DropLocationId|PaymentType|FareAmount|Extra|MtaTax|TipAmount|TollsAmount|ImprovementSurchange|TotalAmount|CongestionSurcharge|AirportFee|VendorId|         PickupTime|           DropTime|PassengerCount|TripDistance|RateCodeId|StoreAndFwdFlag|PickupLocationId|DropLocationId|PaymentType|FareAmount|Extra|MtaTax|TipAmount|TollsAmount|ImprovementSurchange|TotalAmount|CongestionSurcharge|AirportFee|\n",
      "+--------+-------------------+-------------------+--------------+------------+----------+---------------+----------------+--------------+-----------+----------+-----+------+---------+-----------+--------------------+-----------+-------------------+----------+--------+-------------------+-------------------+--------------+------------+----------+---------------+----------------+--------------+-----------+----------+-----+------+---------+-----------+--------------------+-----------+-------------------+----------+\n",
      "|       2|2022-10-01 03:59:34|2022-10-01 04:07:40|           5.0|         0.8|       1.0|              N|             114|           148|          1|       6.5|  0.5|   0.5|     2.06|        0.0|                 0.3|      12.36|                2.5|       0.0|       1|2022-10-01 03:39:18|2022-10-01 03:53:51|           1.0|         2.7|       1.0|              N|             148|           186|          1|      11.5|  3.0|   0.5|      3.8|        0.0|                 0.3|       19.1|                2.5|       0.0|\n",
      "|       2|2022-10-01 03:59:34|2022-10-01 04:07:40|           5.0|         0.8|       1.0|              N|             114|           148|          1|       6.5|  0.5|   0.5|     2.06|        0.0|                 0.3|      12.36|                2.5|       0.0|       1|2022-10-01 03:32:43|2022-10-01 03:40:22|           1.0|         0.9|       1.0|              N|             148|            87|          4|       6.5|  3.0|   0.5|      0.0|        0.0|                 0.3|       10.3|                2.5|       0.0|\n",
      "|       2|2022-10-01 03:59:34|2022-10-01 04:07:40|           5.0|         0.8|       1.0|              N|             114|           148|          1|       6.5|  0.5|   0.5|     2.06|        0.0|                 0.3|      12.36|                2.5|       0.0|       2|2022-10-01 03:47:08|2022-10-01 03:58:18|           5.0|        1.75|       1.0|              N|             148|           114|          1|       9.0|  0.5|   0.5|     2.56|        0.0|                 0.3|      15.36|                2.5|       0.0|\n",
      "|       2|2022-10-01 03:59:34|2022-10-01 04:07:40|           5.0|         0.8|       1.0|              N|             114|           148|          1|       6.5|  0.5|   0.5|     2.06|        0.0|                 0.3|      12.36|                2.5|       0.0|       2|2022-10-01 04:09:39|2022-10-01 04:23:49|           5.0|        2.62|       1.0|              N|             148|           233|          1|      11.5|  0.5|   0.5|     3.06|        0.0|                 0.3|      18.36|                2.5|       0.0|\n",
      "|       2|2022-10-01 03:59:34|2022-10-01 04:07:40|           5.0|         0.8|       1.0|              N|             114|           148|          1|       6.5|  0.5|   0.5|     2.06|        0.0|                 0.3|      12.36|                2.5|       0.0|       1|2022-10-01 03:06:36|2022-10-01 03:33:08|           2.0|         4.0|       1.0|              N|             148|           225|          1|      19.0|  3.0|   0.5|     4.55|        0.0|                 0.3|      27.35|                2.5|       0.0|\n",
      "|       2|2022-10-01 03:59:34|2022-10-01 04:07:40|           5.0|         0.8|       1.0|              N|             114|           148|          1|       6.5|  0.5|   0.5|     2.06|        0.0|                 0.3|      12.36|                2.5|       0.0|       2|2022-10-01 03:28:58|2022-10-01 03:41:32|           2.0|        2.02|       1.0|              N|             148|           170|          1|      10.0|  0.5|   0.5|      2.0|        0.0|                 0.3|       15.8|                2.5|       0.0|\n",
      "|       2|2022-10-01 03:59:34|2022-10-01 04:07:40|           5.0|         0.8|       1.0|              N|             114|           148|          1|       6.5|  0.5|   0.5|     2.06|        0.0|                 0.3|      12.36|                2.5|       0.0|       2|2022-10-01 03:18:16|2022-10-01 03:36:07|           1.0|        2.33|       1.0|              N|             148|           158|          1|      12.5|  0.5|   0.5|     3.26|        0.0|                 0.3|      19.56|                2.5|       0.0|\n",
      "|       2|2022-10-01 03:59:34|2022-10-01 04:07:40|           5.0|         0.8|       1.0|              N|             114|           148|          1|       6.5|  0.5|   0.5|     2.06|        0.0|                 0.3|      12.36|                2.5|       0.0|       2|2022-10-01 03:33:23|2022-10-01 03:47:00|           1.0|        4.17|       1.0|              N|             148|           163|          1|      14.5|  0.5|   0.5|      1.5|        0.0|                 0.3|       19.8|                2.5|       0.0|\n",
      "|       2|2022-10-01 03:59:34|2022-10-01 04:07:40|           5.0|         0.8|       1.0|              N|             114|           148|          1|       6.5|  0.5|   0.5|     2.06|        0.0|                 0.3|      12.36|                2.5|       0.0|       2|2022-10-01 03:50:59|2022-10-01 04:05:08|           1.0|        3.43|       1.0|              N|             148|           233|          2|      13.0|  0.5|   0.5|      0.0|        0.0|                 0.3|       16.8|                2.5|       0.0|\n",
      "|       2|2022-10-01 03:59:34|2022-10-01 04:07:40|           5.0|         0.8|       1.0|              N|             114|           148|          1|       6.5|  0.5|   0.5|     2.06|        0.0|                 0.3|      12.36|                2.5|       0.0|       1|2022-10-01 03:46:56|2022-10-01 03:55:09|           1.0|         1.8|       1.0|              N|             148|           233|          1|       7.5|  3.0|   0.5|     2.25|        0.0|                 0.3|      13.55|                2.5|       0.0|\n",
      "+--------+-------------------+-------------------+--------------+------------+----------+---------------+----------------+--------------+-----------+----------+-----+------+---------+-----------+--------------------+-----------+-------------------+----------+--------+-------------------+-------------------+--------------+------------+----------+---------------+----------------+--------------+-----------+----------+-----+------+---------+-----------+--------------------+-----------+-------------------+----------+\n",
      "only showing top 10 rows\n",
      "\n"
     ]
    },
    {
     "name": "stderr",
     "output_type": "stream",
     "text": [
      "                                                                                \r"
     ]
    }
   ],
   "source": [
    "spark.sql(\"\"\"\n",
    "    SELECT * FROM \n",
    "          YellowTaxis1_Unbucketed b1\n",
    "          JOIN YellowTaxis2_Unbucketed b2 ON\n",
    "          b1.DropLocationId = b2.PickupLocationId\n",
    "          \n",
    "          \"\"\").show(10)"
   ]
  },
  {
   "cell_type": "code",
   "execution_count": 31,
   "metadata": {},
   "outputs": [
    {
     "name": "stderr",
     "output_type": "stream",
     "text": [
      "23/09/17 17:11:29 WARN CSVHeaderChecker: CSV header does not conform to the schema.\n",
      " Header: VendorID, tpep_pickup_datetime, tpep_dropoff_datetime, passenger_count, trip_distance, RatecodeID, store_and_fwd_flag, PULocationID, DOLocationID, payment_type, fare_amount, extra, mta_tax, tip_amount, tolls_amount, improvement_surcharge, total_amount, congestion_surcharge, airport_fee\n",
      " Schema: VendorId, PickupTime, DropTime, PassengerCount, TripDistance, RateCodeId, StoreAndFwdFlag, PickupLocationId, DropLocationId, PaymentType, FareAmount, Extra, MtaTax, TipAmount, TollsAmount, ImprovementSurchange, TotalAmount, CongestionSurcharge, AirportFee\n",
      "Expected: PickupTime but found: tpep_pickup_datetime\n",
      "CSV file: file:///home/raddy/projects/DataLab/data/YellowTaxis_202210.csv\n",
      "                                                                                \r"
     ]
    }
   ],
   "source": [
    "(yellow_taxi_df.write\n",
    " .bucketBy(4,'DropLocationId')\n",
    " .option('header', 'true')\n",
    " .option('dateFormat', 'yyyy-MM-dd HH:mm:ss.S')\n",
    " .mode('overwrite').format('csv')\n",
    " .saveAsTable('YelloTaxis_PickupBukcet1'))"
   ]
  },
  {
   "cell_type": "code",
   "execution_count": 32,
   "metadata": {},
   "outputs": [
    {
     "name": "stderr",
     "output_type": "stream",
     "text": [
      "23/09/17 17:11:52 WARN CSVHeaderChecker: CSV header does not conform to the schema.\n",
      " Header: VendorID, tpep_pickup_datetime, tpep_dropoff_datetime, passenger_count, trip_distance, RatecodeID, store_and_fwd_flag, PULocationID, DOLocationID, payment_type, fare_amount, extra, mta_tax, tip_amount, tolls_amount, improvement_surcharge, total_amount, congestion_surcharge, airport_fee\n",
      " Schema: VendorId, PickupTime, DropTime, PassengerCount, TripDistance, RateCodeId, StoreAndFwdFlag, PickupLocationId, DropLocationId, PaymentType, FareAmount, Extra, MtaTax, TipAmount, TollsAmount, ImprovementSurchange, TotalAmount, CongestionSurcharge, AirportFee\n",
      "Expected: PickupTime but found: tpep_pickup_datetime\n",
      "CSV file: file:///home/raddy/projects/DataLab/data/YellowTaxis_202210.csv\n",
      "                                                                                \r"
     ]
    }
   ],
   "source": [
    "(yellow_taxi_df.write\n",
    " .bucketBy(4,'PickupLocationId')\n",
    " .option('header', 'true')\n",
    " .option('dateFormat', 'yyyy-MM-dd HH:mm:ss.S')\n",
    " .mode('overwrite').format('csv')\n",
    " .saveAsTable('YelloTaxis_PickupBukcet2'))"
   ]
  },
  {
   "cell_type": "code",
   "execution_count": 37,
   "metadata": {},
   "outputs": [
    {
     "name": "stderr",
     "output_type": "stream",
     "text": [
      "[Stage 18:>                                                         (0 + 1) / 1]\r"
     ]
    },
    {
     "name": "stdout",
     "output_type": "stream",
     "text": [
      "+--------+-------------------+-------------------+--------------+------------+----------+---------------+----------------+--------------+-----------+----------+-----+------+---------+-----------+--------------------+-----------+-------------------+----------+--------+-------------------+-------------------+--------------+------------+----------+---------------+----------------+--------------+-----------+----------+-----+------+---------+-----------+--------------------+-----------+-------------------+----------+\n",
      "|VendorId|         PickupTime|           DropTime|PassengerCount|TripDistance|RateCodeId|StoreAndFwdFlag|PickupLocationId|DropLocationId|PaymentType|FareAmount|Extra|MtaTax|TipAmount|TollsAmount|ImprovementSurchange|TotalAmount|CongestionSurcharge|AirportFee|VendorId|         PickupTime|           DropTime|PassengerCount|TripDistance|RateCodeId|StoreAndFwdFlag|PickupLocationId|DropLocationId|PaymentType|FareAmount|Extra|MtaTax|TipAmount|TollsAmount|ImprovementSurchange|TotalAmount|CongestionSurcharge|AirportFee|\n",
      "+--------+-------------------+-------------------+--------------+------------+----------+---------------+----------------+--------------+-----------+----------+-----+------+---------+-----------+--------------------+-----------+-------------------+----------+--------+-------------------+-------------------+--------------+------------+----------+---------------+----------------+--------------+-----------+----------+-----+------+---------+-----------+--------------------+-----------+-------------------+----------+\n",
      "|       2|2022-10-05 17:01:03|2022-10-06 16:50:06|           3.0|        2.77|       1.0|              N|             158|            12|          1|      12.0|  0.0|   0.5|      2.3|        0.0|                 0.3|       17.6|                2.5|       0.0|       2|2022-10-13 20:53:26|2022-10-13 21:02:10|           2.0|        0.91|       1.0|              N|              12|           261|          1|       7.0|  1.0|   0.5|     2.26|        0.0|                 0.3|      13.56|                2.5|       0.0|\n",
      "|       2|2022-10-05 17:01:03|2022-10-06 16:50:06|           3.0|        2.77|       1.0|              N|             158|            12|          1|      12.0|  0.0|   0.5|      2.3|        0.0|                 0.3|       17.6|                2.5|       0.0|       2|2022-10-16 00:35:10|2022-10-16 01:01:32|           2.0|        5.03|       1.0|              N|              12|           265|          2|      20.0|  0.5|   0.5|      0.0|      11.75|                 0.3|      33.05|                0.0|       0.0|\n",
      "|       2|2022-10-05 17:01:03|2022-10-06 16:50:06|           3.0|        2.77|       1.0|              N|             158|            12|          1|      12.0|  0.0|   0.5|      2.3|        0.0|                 0.3|       17.6|                2.5|       0.0|       2|2022-10-16 01:30:41|2022-10-16 01:43:03|           1.0|         4.1|       1.0|              N|              12|            79|          1|      14.5|  0.5|   0.5|      2.0|        0.0|                 0.3|       20.3|                2.5|       0.0|\n",
      "|       2|2022-10-05 17:01:03|2022-10-06 16:50:06|           3.0|        2.77|       1.0|              N|             158|            12|          1|      12.0|  0.0|   0.5|      2.3|        0.0|                 0.3|       17.6|                2.5|       0.0|       2|2022-10-13 22:15:30|2022-10-13 22:46:06|           3.0|        5.29|       1.0|              N|              12|           217|          2|      21.5|  1.0|   0.5|      0.0|        0.0|                 0.3|       25.8|                2.5|       0.0|\n",
      "|       2|2022-10-05 17:01:03|2022-10-06 16:50:06|           3.0|        2.77|       1.0|              N|             158|            12|          1|      12.0|  0.0|   0.5|      2.3|        0.0|                 0.3|       17.6|                2.5|       0.0|       2|2022-10-16 02:27:25|2022-10-16 02:40:24|           1.0|        2.69|       1.0|              N|              12|           249|          1|      12.0|  0.5|   0.5|     3.16|        0.0|                 0.3|      18.96|                2.5|       0.0|\n",
      "|       2|2022-10-05 17:01:03|2022-10-06 16:50:06|           3.0|        2.77|       1.0|              N|             158|            12|          1|      12.0|  0.0|   0.5|      2.3|        0.0|                 0.3|       17.6|                2.5|       0.0|       2|2022-10-16 02:57:10|2022-10-16 03:33:04|           2.0|        9.02|       1.0|              N|              12|           165|          1|      31.0|  0.5|   0.5|      6.0|       6.55|                 0.3|      47.35|                2.5|       0.0|\n",
      "|       2|2022-10-05 17:01:03|2022-10-06 16:50:06|           3.0|        2.77|       1.0|              N|             158|            12|          1|      12.0|  0.0|   0.5|      2.3|        0.0|                 0.3|       17.6|                2.5|       0.0|       2|2022-10-16 11:26:40|2022-10-16 11:39:25|           5.0|        3.85|       1.0|              N|              12|            40|          1|      14.0|  0.0|   0.5|      0.0|        0.0|                 0.3|       17.3|                2.5|       0.0|\n",
      "|       2|2022-10-05 17:01:03|2022-10-06 16:50:06|           3.0|        2.77|       1.0|              N|             158|            12|          1|      12.0|  0.0|   0.5|      2.3|        0.0|                 0.3|       17.6|                2.5|       0.0|       1|2022-10-16 13:59:56|2022-10-16 14:11:27|           1.0|         1.8|       1.0|              N|              12|           232|          1|       8.5|  2.5|   0.5|     2.35|        0.0|                 0.3|      14.15|                2.5|       0.0|\n",
      "|       2|2022-10-05 17:01:03|2022-10-06 16:50:06|           3.0|        2.77|       1.0|              N|             158|            12|          1|      12.0|  0.0|   0.5|      2.3|        0.0|                 0.3|       17.6|                2.5|       0.0|       2|2022-10-16 13:45:28|2022-10-16 14:04:03|           1.0|        4.29|       1.0|              N|              12|           186|          1|      16.5|  0.0|   0.5|     3.96|        0.0|                 0.3|      23.76|                2.5|       0.0|\n",
      "|       2|2022-10-05 17:01:03|2022-10-06 16:50:06|           3.0|        2.77|       1.0|              N|             158|            12|          1|      12.0|  0.0|   0.5|      2.3|        0.0|                 0.3|       17.6|                2.5|       0.0|       2|2022-10-16 13:18:10|2022-10-16 13:30:09|           1.0|        1.77|       1.0|              N|              12|           144|          1|       9.5|  0.0|   0.5|     2.56|        0.0|                 0.3|      15.36|                2.5|       0.0|\n",
      "+--------+-------------------+-------------------+--------------+------------+----------+---------------+----------------+--------------+-----------+----------+-----+------+---------+-----------+--------------------+-----------+-------------------+----------+--------+-------------------+-------------------+--------------+------------+----------+---------------+----------------+--------------+-----------+----------+-----+------+---------+-----------+--------------------+-----------+-------------------+----------+\n",
      "only showing top 10 rows\n",
      "\n"
     ]
    },
    {
     "name": "stderr",
     "output_type": "stream",
     "text": [
      "                                                                                \r"
     ]
    }
   ],
   "source": [
    "spark.sql( \"\"\"\n",
    "    SELECT * FROM \n",
    "    YelloTaxis_PickupBukcet1 b1 JOIN\n",
    "    YelloTaxis_PickupBukcet2 b2 on b1.DropLocationId = b2.PickupLocationId\n",
    "\"\"\").show(10)"
   ]
  },
  {
   "cell_type": "markdown",
   "metadata": {},
   "source": [
    "#### DYNAMIC RESOURCE ALLOCATION\n",
    "    spark.dynamicAllocation:\n",
    "        .enabled=true\n",
    "        .shuffleTracking.enabled=true\n",
    "        .minExecutors=0\n",
    "        .maxExecutors=5\n",
    "        .schedulerBacklogTimeout=1s\n",
    "        .executorIdleTimeout=60s"
   ]
  },
  {
   "cell_type": "code",
   "execution_count": null,
   "metadata": {},
   "outputs": [],
   "source": []
  }
 ],
 "metadata": {
  "kernelspec": {
   "display_name": "Python 3",
   "language": "python",
   "name": "python3"
  },
  "language_info": {
   "codemirror_mode": {
    "name": "ipython",
    "version": 3
   },
   "file_extension": ".py",
   "mimetype": "text/x-python",
   "name": "python",
   "nbconvert_exporter": "python",
   "pygments_lexer": "ipython3",
   "version": "3.11.2"
  },
  "orig_nbformat": 4
 },
 "nbformat": 4,
 "nbformat_minor": 2
}
