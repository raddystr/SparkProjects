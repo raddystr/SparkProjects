{
 "cells": [
  {
   "cell_type": "code",
   "execution_count": 2,
   "metadata": {},
   "outputs": [],
   "source": [
    "import pandas as pd"
   ]
  },
  {
   "cell_type": "code",
   "execution_count": 4,
   "metadata": {},
   "outputs": [],
   "source": [
    "df = pd.read_csv('nexo_transactions.csv')"
   ]
  },
  {
   "cell_type": "code",
   "execution_count": 5,
   "metadata": {},
   "outputs": [],
   "source": [
    "df_withdraws = df[df['Type'] == 'Withdraw Exchanged']"
   ]
  },
  {
   "cell_type": "code",
   "execution_count": 6,
   "metadata": {},
   "outputs": [],
   "source": [
    "df_deposit = df[df['Type'] == 'Deposit To Exchange']"
   ]
  },
  {
   "cell_type": "code",
   "execution_count": 1,
   "metadata": {},
   "outputs": [],
   "source": [
    "#df_deposit.sort_values('Date / Time')"
   ]
  },
  {
   "cell_type": "code",
   "execution_count": 7,
   "metadata": {},
   "outputs": [],
   "source": [
    "\n",
    "def return_usd(df):\n",
    "    usd_list = df['USD Equivalent'].to_list()\n",
    "    usd_to_float = []\n",
    "    for usd in usd_list:\n",
    "        usd_to_float.append(float(usd[1:]))\n",
    "    return sum(usd_to_float)"
   ]
  },
  {
   "cell_type": "code",
   "execution_count": 8,
   "metadata": {},
   "outputs": [
    {
     "data": {
      "text/plain": [
       "1676.1000000000008"
      ]
     },
     "execution_count": 8,
     "metadata": {},
     "output_type": "execute_result"
    }
   ],
   "source": [
    "return_usd(df_deposit) - return_usd(df_withdraws)"
   ]
  },
  {
   "cell_type": "code",
   "execution_count": 9,
   "metadata": {},
   "outputs": [
    {
     "data": {
      "text/plain": [
       "12900.0"
      ]
     },
     "execution_count": 9,
     "metadata": {},
     "output_type": "execute_result"
    }
   ],
   "source": [
    "600 + 2700 + 1400 + 1900 + (3500 * 1.8) - 100 - "
   ]
  },
  {
   "cell_type": "markdown",
   "metadata": {},
   "source": []
  },
  {
   "cell_type": "code",
   "execution_count": 2,
   "metadata": {},
   "outputs": [
    {
     "name": "stdout",
     "output_type": "stream",
     "text": [
      "None\n"
     ]
    }
   ],
   "source": [
    "import pymongo\n",
    "\n",
    "\n",
    "myclient = pymongo.MongoClient('mongodb://127.0.0.1:27017/admin')\n",
    "\n",
    "mydb = myclient['ps_database']\n",
    "\n",
    "mycol = mydb['ps_collection']\n",
    "\n",
    "x = mycol.find_one()\n",
    "\n",
    "print(x)"
   ]
  },
  {
   "cell_type": "code",
   "execution_count": 12,
   "metadata": {},
   "outputs": [
    {
     "data": {
      "text/plain": [
       "InsertOneResult(ObjectId('658a8f9f14d006a3631ef3d9'), acknowledged=True)"
      ]
     },
     "execution_count": 12,
     "metadata": {},
     "output_type": "execute_result"
    }
   ],
   "source": [
    "import pymongo\n",
    "\n",
    "myclient = pymongo.MongoClient(\"mongodb://localhost:27017\")\n",
    "\n",
    "mydb = myclient[\"ps_database\"]\n",
    "\n",
    "mycol = mydb['ps_collection']\n",
    "\n",
    "document = {\"coin\": \"bitcoin\", \"currency\": \"USD\", \"amount\": 1.0 }\n",
    "\n",
    "mycol.insert_one(document)"
   ]
  },
  {
   "cell_type": "code",
   "execution_count": 13,
   "metadata": {},
   "outputs": [
    {
     "name": "stdout",
     "output_type": "stream",
     "text": [
      "['admin', 'config', 'local', 'ps_database']\n"
     ]
    }
   ],
   "source": [
    "print(myclient.list_database_names())"
   ]
  },
  {
   "cell_type": "markdown",
   "metadata": {},
   "source": [
    "Семестър 1:\n",
    "\n",
    "1. Компютърни мрежи - 6\n",
    "2. Виртуализация и облачни технологии - 5\n",
    "3. Извличане на информация - 6\n",
    "4. Компютърни архитектури - 6\n",
    "5. Мрежови системи за съхраняване на данни - 5\n",
    "6. Администриране на публичен облак - 5 \n",
    "\n",
    "Семестър 2:\n",
    "\n",
    "1. Системи за паралелна обработка - 6\n",
    "2. Разпределени софтуерни архитектури - 6\n",
    "3. Разработване на облачни приложения - 5\n",
    "4. Инсталиране и управление на сървъри в клъстер - 5 \n",
    "5. Паралелно програмиране с MPI - 5"
   ]
  },
  {
   "cell_type": "markdown",
   "metadata": {},
   "source": [
    "Types of distributed systems:\n",
    "1. Hub and Spoke\n",
    "2. Peer to peer\n",
    "3. Message queues\n",
    "4. Hybrid"
   ]
  },
  {
   "cell_type": "code",
   "execution_count": 3,
   "metadata": {},
   "outputs": [
    {
     "name": "stdout",
     "output_type": "stream",
     "text": [
      "hello\n"
     ]
    }
   ],
   "source": [
    "import asyncio\n",
    "\n",
    "async def main():\n",
    "    print('hello')\n",
    "\n",
    "await main()"
   ]
  }
 ],
 "metadata": {
  "kernelspec": {
   "display_name": "Python 3",
   "language": "python",
   "name": "python3"
  },
  "language_info": {
   "codemirror_mode": {
    "name": "ipython",
    "version": 3
   },
   "file_extension": ".py",
   "mimetype": "text/x-python",
   "name": "python",
   "nbconvert_exporter": "python",
   "pygments_lexer": "ipython3",
   "version": "3.11.2"
  }
 },
 "nbformat": 4,
 "nbformat_minor": 2
}
